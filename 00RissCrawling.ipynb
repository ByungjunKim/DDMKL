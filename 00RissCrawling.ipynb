{
 "metadata": {
  "language_info": {
   "codemirror_mode": {
    "name": "ipython",
    "version": 3
   },
   "file_extension": ".py",
   "mimetype": "text/x-python",
   "name": "python",
   "nbconvert_exporter": "python",
   "pygments_lexer": "ipython3",
   "version": "3.7.9-final"
  },
  "orig_nbformat": 2,
  "kernelspec": {
   "name": "Python 3.7.8 64-bit",
   "display_name": "Python 3.7.8 64-bit",
   "metadata": {
    "interpreter": {
     "hash": "58d1e930594181ec3669602426326bbb03acfc02a8352db7bdf2b42a9eb5dc94"
    }
   }
  }
 },
 "nbformat": 4,
 "nbformat_minor": 2,
 "cells": [
  {
   "source": [
    "# RISS에서 서지정보 자동 내보내기"
   ],
   "cell_type": "markdown",
   "metadata": {}
  },
  {
   "source": [
    "## 00 라이브러리"
   ],
   "cell_type": "markdown",
   "metadata": {}
  },
  {
   "cell_type": "code",
   "execution_count": null,
   "metadata": {},
   "outputs": [],
   "source": [
    "import pandas as pd\n",
    "from selenium import webdriver\n",
    "from bs4 import BeautifulSoup\n",
    "from tqdm import tqdm\n",
    "import time\n",
    "import os\n",
    "import shutil\n",
    "import requests\n",
    "from selenium.common.exceptions import ElementClickInterceptedException\n",
    "from selenium.common.exceptions import NoSuchElementException\n",
    "from selenium.common.exceptions import UnexpectedAlertPresentException"
   ]
  },
  {
   "source": [
    "#### 다운로드 폴더 설정(riss 폴더)"
   ],
   "cell_type": "markdown",
   "metadata": {}
  },
  {
   "cell_type": "code",
   "execution_count": null,
   "metadata": {},
   "outputs": [],
   "source": [
    "download_path = os.getcwd()+'\\\\riss'\n",
    "download_path"
   ]
  },
  {
   "cell_type": "code",
   "execution_count": null,
   "metadata": {},
   "outputs": [],
   "source": [
    "# https://cozynow.tistory.com/43\n",
    "options = webdriver.ChromeOptions()\n",
    "options.add_experimental_option(\"prefs\", {\n",
    "  \"download.default_directory\": download_path,\n",
    "  \"download.prompt_for_download\": False,\n",
    "  \"download.directory_upgrade\": True,\n",
    "  \"safebrowsing.enabled\": True\n",
    "})"
   ]
  },
  {
   "source": [
    "## 01 크롬 가동 및 셀레늄 시험\n",
    "아래 링크에서 운영체제에 맞는 크롬 드라이버 다운로드\n",
    "https://chromedriver.chromium.org/downloads"
   ],
   "cell_type": "markdown",
   "metadata": {}
  },
  {
   "cell_type": "code",
   "execution_count": null,
   "metadata": {},
   "outputs": [],
   "source": [
    "driver = webdriver.Chrome(\"chromedriver.exe\", chrome_options=options)"
   ]
  },
  {
   "cell_type": "code",
   "execution_count": null,
   "metadata": {},
   "outputs": [],
   "source": [
    "driver.get('http://www.riss.kr/search/Search.do?detailSearch=true&viewYn=OP&query=&queryText=znMajor%2C%EA%B5%AD%EC%96%B4%EA%B5%AD%EB%AC%B8%40op%2COR%40znMajor%2C%EA%B5%AD%EB%AC%B8%40op%2COR&strQuery=&iStartCount=0&iGroupView=5&icate=bib_t&colName=bib_t&exQuery=&pageScale=100&strSort=DATE&order=%2FDESC&onHanja=false&keywordOption=0&searchGubun=true&p_year1=&p_year2=&dorg_storage=&mat_type=&mat_subtype=T1%2CT2&fulltext_kind=&t_gubun=&learning_type=&language_code=&ccl_code=&language=&inside_outside=&fric_yn=&image_yn=&regnm=&gubun=&kdc=&ttsUseYn=&resultSearch=false&listFlag=&h_groupByField=&orderBy=#redirect')"
   ]
  },
  {
   "cell_type": "code",
   "execution_count": null,
   "metadata": {},
   "outputs": [],
   "source": [
    "# 파일선택\n",
    "driver.find_element_by_css_selector('#divContent > div.rightContent > div > div.srchResultW > div:nth-child(1) > div.resultTop1 > label > span').click()"
   ]
  },
  {
   "cell_type": "code",
   "execution_count": null,
   "metadata": {},
   "outputs": [],
   "source": [
    "# 내보내기\n",
    "driver.find_element_by_css_selector('#divContent > div.rightContent > div > div.srchResultW > div:nth-child(1) > div.resultTop1 > ul > li:nth-child(1) > a').click()"
   ]
  },
  {
   "cell_type": "code",
   "execution_count": null,
   "metadata": {},
   "outputs": [],
   "source": [
    "# 팝업창 컨트롤\n",
    "driver.switch_to.window(driver.window_handles[-1])"
   ]
  },
  {
   "cell_type": "code",
   "execution_count": null,
   "metadata": {},
   "outputs": [],
   "source": [
    "# Excel 저장 선택\n",
    "driver.find_element_by_css_selector('#wrap > form > div > div.popCont > div:nth-child(1) > div > ul > li:nth-child(3) > label').click()"
   ]
  },
  {
   "cell_type": "code",
   "execution_count": null,
   "metadata": {},
   "outputs": [],
   "source": [
    "# Excel 상세정보 선택\n",
    "driver.find_element_by_css_selector('#riss_gubun > ul > li:nth-child(2) > label').click()"
   ]
  },
  {
   "cell_type": "code",
   "execution_count": null,
   "metadata": {},
   "outputs": [],
   "source": [
    "# 내보내기 클릭\n",
    "driver.find_element_by_css_selector('#riss_gubun > div.btnBunch > a.btnType1').click()"
   ]
  },
  {
   "cell_type": "code",
   "execution_count": null,
   "metadata": {},
   "outputs": [],
   "source": [
    "# 데이터 표시양식 '가로' 설정\n",
    "driver.find_element_by_css_selector('#excel_gubun > ul > li:nth-child(2) > label').click()"
   ]
  },
  {
   "source": [
    "## 02 자동 내보내기"
   ],
   "cell_type": "markdown",
   "metadata": {}
  },
  {
   "cell_type": "code",
   "execution_count": null,
   "metadata": {},
   "outputs": [],
   "source": [
    "# 다시 메인 윈도우로 복귀\n",
    "driver.switch_to.window(driver.window_handles[0])"
   ]
  },
  {
   "cell_type": "code",
   "execution_count": null,
   "metadata": {},
   "outputs": [],
   "source": [
    "n = 227"
   ]
  },
  {
   "source": [
    "#### RISS에서 가장 마지막 페이지 번호"
   ],
   "cell_type": "markdown",
   "metadata": {}
  },
  {
   "cell_type": "code",
   "execution_count": null,
   "metadata": {},
   "outputs": [],
   "source": [
    "for list_num in tqdm(range(1,n+1)):\n",
    "    # print(list_num)\n",
    "\n",
    "    # 파일선택\n",
    "    driver.implicitly_wait(10)\n",
    "    driver.find_element_by_css_selector('#divContent > div.rightContent > div > div.srchResultW > div:nth-child(1) > div.resultTop1 > label > span').click()\n",
    "    # 내보내기\n",
    "    driver.implicitly_wait(60)\n",
    "    driver.find_element_by_css_selector('#divContent > div.rightContent > div > div.srchResultW > div:nth-child(1) > div.resultTop1 > ul > li:nth-child(1) > a').click()\n",
    "    # 팝업창 컨트롤\n",
    "    driver.implicitly_wait(10)\n",
    "    driver.switch_to.window(driver.window_handles[-1])\n",
    "    # Excel 저장 선택\n",
    "    driver.implicitly_wait(20)\n",
    "    driver.find_element_by_css_selector('#wrap > form > div > div.popCont > div:nth-child(1) > div > ul > li:nth-child(3) > label').click()\n",
    "    # Excel 상세정보 선택\n",
    "    driver.implicitly_wait(10)\n",
    "    driver.find_element_by_css_selector('#riss_gubun > ul > li:nth-child(2) > label').click()\n",
    "    # 데이터 표시양식 '가로' 설정\n",
    "    driver.implicitly_wait(10)\n",
    "    driver.find_element_by_css_selector('#excel_gubun > ul > li:nth-child(2) > label').click()\n",
    "    # 내보내기 클릭\n",
    "    driver.implicitly_wait(10)\n",
    "    driver.find_element_by_css_selector('#riss_gubun > div.btnBunch > a.btnType1').click()\n",
    "    \n",
    "    # 다운로드 완료될 때까지 대기\n",
    "    driver.implicitly_wait(10)\n",
    "    try:\n",
    "        filename = max([download_path + '\\\\' + f for f in os.listdir(download_path) if f=='myCabinetExcelData.xls'],key=os.path.getctime)\n",
    "    except ValueError as e:\n",
    "        time.sleep(1)\n",
    "\n",
    "    # 팝업창 닫기\n",
    "    driver.implicitly_wait(5)\n",
    "    driver.close()\n",
    "    # 다시 메인 화면으로 스위치\n",
    "    driver.implicitly_wait(5)\n",
    "    driver.switch_to.window(driver.window_handles[0])\n",
    "\n",
    "    # 방금 다운 받은 파일 이름 바꾸기 -> 중복방지\n",
    "    time.sleep(2)\n",
    "    try:\n",
    "        filename = max([download_path + '\\\\' + f for f in os.listdir(download_path) if f=='myCabinetExcelData.xls'],key=os.path.getctime)\n",
    "        time.sleep(0.5)\n",
    "        shutil.move(filename,os.path.join(download_path,f\"{keyword}_{list_num}.xls\")) ## 파일 이름 + num 설정\n",
    "    except ValueError:\n",
    "        time.sleep(0.5)\n",
    "    except FileNotFoundError:\n",
    "        time.sleep(1)\n",
    "\n",
    "    # 다음 페이지 이동\n",
    "    time.sleep(1)\n",
    "    if list_num!=n:\n",
    "        if (list_num)%10!=0:\n",
    "            for i in range(10):\n",
    "            # 다음페이지 클릭\n",
    "                try:\n",
    "                    driver.implicitly_wait(10)\n",
    "                    if(list_num+1)%10!=0:\n",
    "                        # driver.find_element_by_css_selector(f'#level4_mainContent > form > div.tabWarp.page > div.tabCont > div > div.passing > span.num > a:nth-child({(list_num+1)%10})').click()\n",
    "                        \n",
    "                        # 10페이지 이하 일때\n",
    "                        if list_num<10:\n",
    "                            driver.find_element_by_css_selector(f'#divContent > div.rightContent > div > div.paging > a:nth-child({((list_num+1)%10)+1})').click()\n",
    "                        else:\n",
    "                            driver.find_element_by_css_selector(f'#divContent > div.rightContent > div > div.paging > a:nth-child({((list_num+1)%10)+2})').click()\n",
    "                    else:\n",
    "                        # driver.find_element_by_css_selector(f'#level4_mainContent > form > div.tabWarp.page > div.tabCont > div > div.passing > span.num > a:nth-child(10)').click()\n",
    "                        if list_num<10:\n",
    "                            driver.find_element_by_css_selector(f'#divContent > div.rightContent > div > div.paging > a:nth-child(11)').click()\n",
    "                        else:\n",
    "                            driver.find_element_by_css_selector(f'#divContent > div.rightContent > div > div.paging > a:nth-child(12)').click()\n",
    "                except NoSuchElementException as e:\n",
    "                    print('retry in 1s.')\n",
    "                    time.sleep(1)\n",
    "                else:\n",
    "                    break\n",
    "        else:\n",
    "            # 현재 10 * n 페이지 일때는 다음 화살표 클릭\n",
    "            driver.implicitly_wait(10)\n",
    "            #if list_num<=10:\n",
    "                # driver.find_element_by_css_selector('#level4_mainContent > form > div.tabWarp.page > div.tabCont > div > div.passing > span:nth-child(3) > a > img').click()\n",
    "            driver.find_element_by_css_selector('#divContent > div.rightContent > div > div.paging > a.next1').click()\n",
    "            print('\\n next tab')\n",
    "            # else:\n",
    "            #     # driver.find_element_by_css_selector('#level4_mainContent > form > div.tabWarp.page > div.tabCont > div > div.passing > span:nth-child(4) > a > img').click()\n",
    "            #     driver.find_element_by_css_selector('#divContent > div.rightContent > div > div.paging > a.next2').click()\n",
    "            #     print('next tab')\n",
    "            #list_num += 1"
   ]
  },
  {
   "source": [
    "#### 자동 다운로드 파일 이름 설정"
   ],
   "cell_type": "markdown",
   "metadata": {}
  },
  {
   "source": [
    "#### 자동 내보내기 시작"
   ],
   "cell_type": "markdown",
   "metadata": {}
  },
  {
   "cell_type": "code",
   "execution_count": null,
   "metadata": {},
   "outputs": [],
   "source": [
    "keyword = '국어국문'"
   ]
  }
 ]
}