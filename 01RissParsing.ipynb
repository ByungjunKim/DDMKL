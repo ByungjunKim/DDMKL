{
 "metadata": {
  "language_info": {
   "codemirror_mode": {
    "name": "ipython",
    "version": 3
   },
   "file_extension": ".py",
   "mimetype": "text/x-python",
   "name": "python",
   "nbconvert_exporter": "python",
   "pygments_lexer": "ipython3",
   "version": "3.7.9-final"
  },
  "orig_nbformat": 2,
  "kernelspec": {
   "name": "python38364bitnlpconda46f8c42ad8f74bcea5cdbeecf45c4e74",
   "display_name": "Python 3.8.3 64-bit ('nlp': conda)"
  }
 },
 "nbformat": 4,
 "nbformat_minor": 2,
 "cells": [
  {
   "source": [
    "# RISS 내보내기 파일을 하나의 테이블로 합치기"
   ],
   "cell_type": "markdown",
   "metadata": {}
  },
  {
   "cell_type": "code",
   "execution_count": 8,
   "metadata": {},
   "outputs": [
    {
     "output_type": "stream",
     "name": "stdout",
     "text": [
      "Looking in indexes: http://mirror.kakao.com/pypi/simple\n",
      "Requirement already satisfied: pandas in c:\\users\\administrator\\miniconda3\\envs\\nlp\\lib\\site-packages (1.1.3)\n",
      "Requirement already satisfied: xlrd in c:\\users\\administrator\\miniconda3\\envs\\nlp\\lib\\site-packages (1.2.0)\n",
      "Requirement already satisfied: natsort in c:\\users\\administrator\\miniconda3\\envs\\nlp\\lib\\site-packages (7.0.1)\n",
      "Requirement already satisfied: python-dateutil>=2.7.3 in c:\\users\\administrator\\miniconda3\\envs\\nlp\\lib\\site-packages (from pandas) (2.8.1)\n",
      "Requirement already satisfied: numpy>=1.15.4 in c:\\users\\administrator\\miniconda3\\envs\\nlp\\lib\\site-packages (from pandas) (1.19.2)\n",
      "Requirement already satisfied: pytz>=2017.2 in c:\\users\\administrator\\miniconda3\\envs\\nlp\\lib\\site-packages (from pandas) (2020.1)\n",
      "Requirement already satisfied: six>=1.5 in c:\\users\\administrator\\miniconda3\\envs\\nlp\\lib\\site-packages (from python-dateutil>=2.7.3->pandas) (1.15.0)\n"
     ]
    }
   ],
   "source": [
    "!pip install pandas xlrd natsort\n",
    "import pandas as pd\n",
    "import glob\n",
    "from tqdm import tqdm\n",
    "from natsort import natsorted"
   ]
  },
  {
   "source": [
    "### 다운로드 받은 폴더를 설정후 파일리스트 생성"
   ],
   "cell_type": "markdown",
   "metadata": {}
  },
  {
   "cell_type": "code",
   "execution_count": 3,
   "metadata": {},
   "outputs": [],
   "source": [
    "file_list = glob.glob(r'.\\riss\\*.xls')"
   ]
  },
  {
   "cell_type": "code",
   "execution_count": 4,
   "metadata": {},
   "outputs": [
    {
     "output_type": "execute_result",
     "data": {
      "text/plain": [
       "['.\\\\riss\\\\test1.xls', '.\\\\riss\\\\test2.xls']"
      ]
     },
     "metadata": {},
     "execution_count": 4
    }
   ],
   "source": [
    "file_list"
   ]
  },
  {
   "cell_type": "code",
   "execution_count": 5,
   "metadata": {},
   "outputs": [],
   "source": [
    "# 다운로드 받은 순서에 맞게 파일리스트 정렬\n",
    "file_list = natsorted(file_list)"
   ]
  },
  {
   "source": [
    "### Pandas DataFrame으로 테이블 생성"
   ],
   "cell_type": "markdown",
   "metadata": {}
  },
  {
   "cell_type": "code",
   "execution_count": 6,
   "metadata": {},
   "outputs": [],
   "source": [
    "#빈 데이터프레임 만들기\n",
    "riss = pd.DataFrame()"
   ]
  },
  {
   "cell_type": "code",
   "execution_count": 7,
   "metadata": {},
   "outputs": [
    {
     "output_type": "stream",
     "name": "stderr",
     "text": [
      "100%|██████████| 2/2 [00:00<00:00,  5.49it/s]\n"
     ]
    }
   ],
   "source": [
    "for file in tqdm(file_list):\n",
    "    res = pd.read_excel(file,header=None)\n",
    "    riss = riss.append(res,ignore_index=True)"
   ]
  },
  {
   "source": [
    "### 통합 테이블 확인"
   ],
   "cell_type": "markdown",
   "metadata": {}
  },
  {
   "cell_type": "code",
   "execution_count": 9,
   "metadata": {},
   "outputs": [
    {
     "output_type": "execute_result",
     "data": {
      "text/plain": [
       "                                                    0               1   \\\n",
       "0                                                   제목              저자   \n",
       "1    한·중 신어 조어법 대조 연구 = A Contrastive study of Word...              한민   \n",
       "2    이인직 『혈의 누』와 노신 『납함』의 비교 연구 : “반봉건(反封建)”과“친일” 의...             희위걸   \n",
       "3    수팅과 김혜순 시의 여성의식 비교 연구 : 1980년대 시를 중심으로 = A Com...              허결   \n",
       "4    朝鮮後期 人物記事 硏究 = Research on the Articles on Cha...             정난영   \n",
       "..                                                 ...             ...   \n",
       "197                                   한중 동의중복 표현 대조 연구  ZHANG, JUNJUAN   \n",
       "198                          한·중 성별 지칭어에 대한 형태론적 대조 연구    ZENG, SHIWEI   \n",
       "199  형태론적 분석을 통한 신어의 특성 연구 = A Study on the Charact...             정다미   \n",
       "200  박인로 <노계가>의 비교문학적 연구 : 소식 <적벽부>와의 비교를 중심으로 = A ...             양설뢰   \n",
       "201  '언문일치체' 비판을 통해 본 근대 소설의 문장 형성 과정 연구: 1900-1920...             김수안   \n",
       "\n",
       "                          2                                              3   \\\n",
       "0                       발행사항                                         학위논문사항   \n",
       "1       광주 : 조선대학교 대학원, 2020         학위논문(석사)-- 조선대학교 대학원 : 국어국문학과  2020. 8   \n",
       "2       서울 : 동국대학교 대학원, 2020   학위논문(석사)-- 동국대학교 대학원 : 국어국문학과 문예창작전공 2020. 2   \n",
       "3       서울 : 동국대학교 대학원, 2020   학위논문(석사)-- 동국대학교 대학원 : 국어국문학과 현대문학전공 2020. 2   \n",
       "4       서울 : 동국대학교 대학원, 2020     학위논문(박사)-- 동국대학교 대학원 : 국어국문학과 고전문학 2020. 2   \n",
       "..                       ...                                            ...   \n",
       "197   서울 : 이화여자대학교 대학원, 2020     학위논문(석사)-- 이화여자대학교 대학원: 국어국문학과 2020. 8. 졸업   \n",
       "198   서울 : 이화여자대학교 대학원, 2020     학위논문(석사)-- 이화여자대학교 대학원: 국어국문학과 2020. 8. 졸업   \n",
       "199     광주 : 전남대학교 대학원, 2020          학위논문(석사)-- 전남대학교 대학원 : 국어국문학과 2020. 8   \n",
       "200     광주 : 전남대학교 대학원, 2020          학위논문(석사)-- 전남대학교 대학원 : 국어국문학과 2020. 8   \n",
       "201  서울 : 연세대학교, 일반대학원, 2020  학위논문(박사)-- 연세대학교, 일반대학원 : 국어국문학과 현대문학 2020. 8   \n",
       "\n",
       "       4       5     6     7                                    8    9   ...  \\\n",
       "0    발행연도  학위수여대학  수여연도  작성언어                                  주제어  KDC  ...   \n",
       "1    2020     NaN   NaN   한국어                                  NaN  NaN  ...   \n",
       "2    2020     NaN   NaN   한국어                   이인직,노신,반봉건,친일,비교연구  NaN  ...   \n",
       "3    2020     NaN   NaN   한국어                      수팅,김혜순,여성의식,모성성  NaN  ...   \n",
       "4    2020     NaN   NaN   한국어                         기사,인물기사,조선후기  NaN  ...   \n",
       "..    ...     ...   ...   ...                                  ...  ...  ...   \n",
       "197  2020     NaN   NaN   한국어                                  NaN  NaN  ...   \n",
       "198  2020     NaN   NaN   한국어                                  NaN  NaN  ...   \n",
       "199  2020     NaN   NaN   한국어               신어,형태론,신어 특성,사전 등재,공인화  NaN  ...   \n",
       "200  2020     NaN   NaN   한국어               노계가,적벽부,사부,가사,비교문학,박인로  NaN  ...   \n",
       "201  2020     NaN   NaN   한국어  내셔널리즘,국어,국문,신문,매체,소설,문체,언문일치,이광수,무정  NaN  ...   \n",
       "\n",
       "                      14                        15                       16  \\\n",
       "0                   형태사항                     일반주기명                  UCI식별코드   \n",
       "1             72 ; 26 cm                 지도교수: 강희숙  I804:24011-200000335301   \n",
       "2           70p. ; 26 cm                 지도교수: 김춘식  I804:11020-000000080506   \n",
       "3           73p. ; 26 cm                 지도교수: 김춘식  I804:11020-000000080551   \n",
       "4          227p. ; 26 cm                 지도교수: 정환국  I804:11020-000000080655   \n",
       "..                   ...                       ...                      ...   \n",
       "197     vi, 106 p. : 삽화.  지도교수: 최형용,참고문헌: p. 96-97  I804:11048-000000167709   \n",
       "198      v, 100 p. : 삽화.  지도교수: 최형용,참고문헌: p. 93-97  I804:11048-000000167552   \n",
       "199           69 ; 26 cm                 지도교수: 조재형  I804:24010-000000063176   \n",
       "200           87 ; 26 cm                 지도교수: 김신중  I804:24010-000000063044   \n",
       "201  viii, 286p. ; 26 cm                 지도교수: 김영민  I804:11046-000000525833   \n",
       "\n",
       "                       17   18    19         20  \\\n",
       "0                    소장기관   학위  페이지수  지도교수/심사위원   \n",
       "1      조선대학교 도서관 (224011)  NaN   NaN        NaN   \n",
       "2    동국대학교 중앙도서관 (211020)  NaN   NaN        NaN   \n",
       "3    동국대학교 중앙도서관 (211020)  NaN   NaN        NaN   \n",
       "4    동국대학교 중앙도서관 (211020)  NaN   NaN        NaN   \n",
       "..                    ...  ...   ...        ...   \n",
       "197  이화여자대학교 도서관 (211048)  NaN   NaN        NaN   \n",
       "198  이화여자대학교 도서관 (211048)  NaN   NaN        NaN   \n",
       "199  전남대학교 중앙도서관 (224010)  NaN   NaN        NaN   \n",
       "200  전남대학교 중앙도서관 (224010)  NaN   NaN        NaN   \n",
       "201  연세대학교 학술정보원 (211046)  NaN   NaN        NaN   \n",
       "\n",
       "                                                    21  \\\n",
       "0                                     국문 초록 (Abstract)   \n",
       "1                                                  NaN   \n",
       "2    이인직(李人稙)과 노신(魯迅)은 20세기 문학계에 작품들을 남겼다. 그들은 모두 일...   \n",
       "3    본 연구는 우선 1980년대 중한 양국에서 여성주의의 전파와 수용에 대해 검토했다....   \n",
       "4                                                  NaN   \n",
       "..                                                 ...   \n",
       "197  본 연구는 한국어와 중국어의 현대 자료들에 나타나는 동의중복 표현에 관한 내용을 분...   \n",
       "198  본 연구는 한국어와 중국어에서 남성과 여성을 가리키는 성별 지칭어를 고찰하고 한·중...   \n",
       "199  본고는 형태론적인 분석을 통하여 신어의 특성을 살펴보고자 하는 데에 그 목적이 있다...   \n",
       "200  이 논문은 &lt;적벽부&gt;와 &lt;노계가&gt;의 비교를 통해서 &lt;노계...   \n",
       "201  이 연구는 20세기 초 한국에서 소설의 문장과 소설 양식이 형성되어간 과정을 되짚어...   \n",
       "\n",
       "                                                    22  \\\n",
       "0                       다국어 초록 (Multilingual Abstract)   \n",
       "1    In the research, the new words in both Chinese...   \n",
       "2                                                  NaN   \n",
       "3                                                  NaN   \n",
       "4    This study is designed to comprehensively anal...   \n",
       "..                                                 ...   \n",
       "197  Reduplicative synonym is a phenomenon about th...   \n",
       "198  The purpose of this study is to examine the ge...   \n",
       "199  The purpose of this study is to examine the ch...   \n",
       "200  The purpose of this study is to examine the si...   \n",
       "201  This study was designed to reflect on the form...   \n",
       "\n",
       "                                                    23  \n",
       "0                                                   목차  \n",
       "1    1. 서론 1&#xD;\\n 1.1. 연구 목적 및 필요성 1&#xD;\\n 1.2. ...  \n",
       "2    제1장 서론   1&#xD;\\n 제1절 연구목적 및 문제 제기  1&#xD;\\n 제...  \n",
       "3    Ⅰ. 서 론 \\t1&#xD;\\n 1. 연구목적 및 연구의의\\t1&#xD;\\n 2. ...  \n",
       "4    Ⅰ. 서 론\\t1&#xD;\\n&#xD;\\nⅡ. 조선후기 인물기사의 등장 배경과 성립...  \n",
       "..                                                 ...  \n",
       "197  Ⅰ. 서론 １&#xD;\\n A. 연구의 목적 및 필요성 １&#xD;\\n B. 선행연...  \n",
       "198  Ⅰ. 서론   1&#xD;\\n A. 연구의 필요성과 목적   1&#xD;\\n B. ...  \n",
       "199  목 차&#xD;\\n&#xD;\\n(국문초록)&#xD;\\n&#xD;\\n1. 서론 1&#...  \n",
       "200  Ⅰ. 서론\\t1&#xD;\\n  1. 연구목적\\t1&#xD;\\n  2. 연구사 검토\\...  \n",
       "201                                                NaN  \n",
       "\n",
       "[202 rows x 24 columns]"
      ],
      "text/html": "<div>\n<style scoped>\n    .dataframe tbody tr th:only-of-type {\n        vertical-align: middle;\n    }\n\n    .dataframe tbody tr th {\n        vertical-align: top;\n    }\n\n    .dataframe thead th {\n        text-align: right;\n    }\n</style>\n<table border=\"1\" class=\"dataframe\">\n  <thead>\n    <tr style=\"text-align: right;\">\n      <th></th>\n      <th>0</th>\n      <th>1</th>\n      <th>2</th>\n      <th>3</th>\n      <th>4</th>\n      <th>5</th>\n      <th>6</th>\n      <th>7</th>\n      <th>8</th>\n      <th>9</th>\n      <th>...</th>\n      <th>14</th>\n      <th>15</th>\n      <th>16</th>\n      <th>17</th>\n      <th>18</th>\n      <th>19</th>\n      <th>20</th>\n      <th>21</th>\n      <th>22</th>\n      <th>23</th>\n    </tr>\n  </thead>\n  <tbody>\n    <tr>\n      <th>0</th>\n      <td>제목</td>\n      <td>저자</td>\n      <td>발행사항</td>\n      <td>학위논문사항</td>\n      <td>발행연도</td>\n      <td>학위수여대학</td>\n      <td>수여연도</td>\n      <td>작성언어</td>\n      <td>주제어</td>\n      <td>KDC</td>\n      <td>...</td>\n      <td>형태사항</td>\n      <td>일반주기명</td>\n      <td>UCI식별코드</td>\n      <td>소장기관</td>\n      <td>학위</td>\n      <td>페이지수</td>\n      <td>지도교수/심사위원</td>\n      <td>국문 초록 (Abstract)</td>\n      <td>다국어 초록 (Multilingual Abstract)</td>\n      <td>목차</td>\n    </tr>\n    <tr>\n      <th>1</th>\n      <td>한·중 신어 조어법 대조 연구 = A Contrastive study of Word...</td>\n      <td>한민</td>\n      <td>광주 : 조선대학교 대학원, 2020</td>\n      <td>학위논문(석사)-- 조선대학교 대학원 : 국어국문학과  2020. 8</td>\n      <td>2020</td>\n      <td>NaN</td>\n      <td>NaN</td>\n      <td>한국어</td>\n      <td>NaN</td>\n      <td>NaN</td>\n      <td>...</td>\n      <td>72 ; 26 cm</td>\n      <td>지도교수: 강희숙</td>\n      <td>I804:24011-200000335301</td>\n      <td>조선대학교 도서관 (224011)</td>\n      <td>NaN</td>\n      <td>NaN</td>\n      <td>NaN</td>\n      <td>NaN</td>\n      <td>In the research, the new words in both Chinese...</td>\n      <td>1. 서론 1&amp;#xD;\\n 1.1. 연구 목적 및 필요성 1&amp;#xD;\\n 1.2. ...</td>\n    </tr>\n    <tr>\n      <th>2</th>\n      <td>이인직 『혈의 누』와 노신 『납함』의 비교 연구 : “반봉건(反封建)”과“친일” 의...</td>\n      <td>희위걸</td>\n      <td>서울 : 동국대학교 대학원, 2020</td>\n      <td>학위논문(석사)-- 동국대학교 대학원 : 국어국문학과 문예창작전공 2020. 2</td>\n      <td>2020</td>\n      <td>NaN</td>\n      <td>NaN</td>\n      <td>한국어</td>\n      <td>이인직,노신,반봉건,친일,비교연구</td>\n      <td>NaN</td>\n      <td>...</td>\n      <td>70p. ; 26 cm</td>\n      <td>지도교수: 김춘식</td>\n      <td>I804:11020-000000080506</td>\n      <td>동국대학교 중앙도서관 (211020)</td>\n      <td>NaN</td>\n      <td>NaN</td>\n      <td>NaN</td>\n      <td>이인직(李人稙)과 노신(魯迅)은 20세기 문학계에 작품들을 남겼다. 그들은 모두 일...</td>\n      <td>NaN</td>\n      <td>제1장 서론   1&amp;#xD;\\n 제1절 연구목적 및 문제 제기  1&amp;#xD;\\n 제...</td>\n    </tr>\n    <tr>\n      <th>3</th>\n      <td>수팅과 김혜순 시의 여성의식 비교 연구 : 1980년대 시를 중심으로 = A Com...</td>\n      <td>허결</td>\n      <td>서울 : 동국대학교 대학원, 2020</td>\n      <td>학위논문(석사)-- 동국대학교 대학원 : 국어국문학과 현대문학전공 2020. 2</td>\n      <td>2020</td>\n      <td>NaN</td>\n      <td>NaN</td>\n      <td>한국어</td>\n      <td>수팅,김혜순,여성의식,모성성</td>\n      <td>NaN</td>\n      <td>...</td>\n      <td>73p. ; 26 cm</td>\n      <td>지도교수: 김춘식</td>\n      <td>I804:11020-000000080551</td>\n      <td>동국대학교 중앙도서관 (211020)</td>\n      <td>NaN</td>\n      <td>NaN</td>\n      <td>NaN</td>\n      <td>본 연구는 우선 1980년대 중한 양국에서 여성주의의 전파와 수용에 대해 검토했다....</td>\n      <td>NaN</td>\n      <td>Ⅰ. 서 론 \\t1&amp;#xD;\\n 1. 연구목적 및 연구의의\\t1&amp;#xD;\\n 2. ...</td>\n    </tr>\n    <tr>\n      <th>4</th>\n      <td>朝鮮後期 人物記事 硏究 = Research on the Articles on Cha...</td>\n      <td>정난영</td>\n      <td>서울 : 동국대학교 대학원, 2020</td>\n      <td>학위논문(박사)-- 동국대학교 대학원 : 국어국문학과 고전문학 2020. 2</td>\n      <td>2020</td>\n      <td>NaN</td>\n      <td>NaN</td>\n      <td>한국어</td>\n      <td>기사,인물기사,조선후기</td>\n      <td>NaN</td>\n      <td>...</td>\n      <td>227p. ; 26 cm</td>\n      <td>지도교수: 정환국</td>\n      <td>I804:11020-000000080655</td>\n      <td>동국대학교 중앙도서관 (211020)</td>\n      <td>NaN</td>\n      <td>NaN</td>\n      <td>NaN</td>\n      <td>NaN</td>\n      <td>This study is designed to comprehensively anal...</td>\n      <td>Ⅰ. 서 론\\t1&amp;#xD;\\n&amp;#xD;\\nⅡ. 조선후기 인물기사의 등장 배경과 성립...</td>\n    </tr>\n    <tr>\n      <th>...</th>\n      <td>...</td>\n      <td>...</td>\n      <td>...</td>\n      <td>...</td>\n      <td>...</td>\n      <td>...</td>\n      <td>...</td>\n      <td>...</td>\n      <td>...</td>\n      <td>...</td>\n      <td>...</td>\n      <td>...</td>\n      <td>...</td>\n      <td>...</td>\n      <td>...</td>\n      <td>...</td>\n      <td>...</td>\n      <td>...</td>\n      <td>...</td>\n      <td>...</td>\n      <td>...</td>\n    </tr>\n    <tr>\n      <th>197</th>\n      <td>한중 동의중복 표현 대조 연구</td>\n      <td>ZHANG, JUNJUAN</td>\n      <td>서울 : 이화여자대학교 대학원, 2020</td>\n      <td>학위논문(석사)-- 이화여자대학교 대학원: 국어국문학과 2020. 8. 졸업</td>\n      <td>2020</td>\n      <td>NaN</td>\n      <td>NaN</td>\n      <td>한국어</td>\n      <td>NaN</td>\n      <td>NaN</td>\n      <td>...</td>\n      <td>vi, 106 p. : 삽화.</td>\n      <td>지도교수: 최형용,참고문헌: p. 96-97</td>\n      <td>I804:11048-000000167709</td>\n      <td>이화여자대학교 도서관 (211048)</td>\n      <td>NaN</td>\n      <td>NaN</td>\n      <td>NaN</td>\n      <td>본 연구는 한국어와 중국어의 현대 자료들에 나타나는 동의중복 표현에 관한 내용을 분...</td>\n      <td>Reduplicative synonym is a phenomenon about th...</td>\n      <td>Ⅰ. 서론 １&amp;#xD;\\n A. 연구의 목적 및 필요성 １&amp;#xD;\\n B. 선행연...</td>\n    </tr>\n    <tr>\n      <th>198</th>\n      <td>한·중 성별 지칭어에 대한 형태론적 대조 연구</td>\n      <td>ZENG, SHIWEI</td>\n      <td>서울 : 이화여자대학교 대학원, 2020</td>\n      <td>학위논문(석사)-- 이화여자대학교 대학원: 국어국문학과 2020. 8. 졸업</td>\n      <td>2020</td>\n      <td>NaN</td>\n      <td>NaN</td>\n      <td>한국어</td>\n      <td>NaN</td>\n      <td>NaN</td>\n      <td>...</td>\n      <td>v, 100 p. : 삽화.</td>\n      <td>지도교수: 최형용,참고문헌: p. 93-97</td>\n      <td>I804:11048-000000167552</td>\n      <td>이화여자대학교 도서관 (211048)</td>\n      <td>NaN</td>\n      <td>NaN</td>\n      <td>NaN</td>\n      <td>본 연구는 한국어와 중국어에서 남성과 여성을 가리키는 성별 지칭어를 고찰하고 한·중...</td>\n      <td>The purpose of this study is to examine the ge...</td>\n      <td>Ⅰ. 서론   1&amp;#xD;\\n A. 연구의 필요성과 목적   1&amp;#xD;\\n B. ...</td>\n    </tr>\n    <tr>\n      <th>199</th>\n      <td>형태론적 분석을 통한 신어의 특성 연구 = A Study on the Charact...</td>\n      <td>정다미</td>\n      <td>광주 : 전남대학교 대학원, 2020</td>\n      <td>학위논문(석사)-- 전남대학교 대학원 : 국어국문학과 2020. 8</td>\n      <td>2020</td>\n      <td>NaN</td>\n      <td>NaN</td>\n      <td>한국어</td>\n      <td>신어,형태론,신어 특성,사전 등재,공인화</td>\n      <td>NaN</td>\n      <td>...</td>\n      <td>69 ; 26 cm</td>\n      <td>지도교수: 조재형</td>\n      <td>I804:24010-000000063176</td>\n      <td>전남대학교 중앙도서관 (224010)</td>\n      <td>NaN</td>\n      <td>NaN</td>\n      <td>NaN</td>\n      <td>본고는 형태론적인 분석을 통하여 신어의 특성을 살펴보고자 하는 데에 그 목적이 있다...</td>\n      <td>The purpose of this study is to examine the ch...</td>\n      <td>목 차&amp;#xD;\\n&amp;#xD;\\n(국문초록)&amp;#xD;\\n&amp;#xD;\\n1. 서론 1&amp;#...</td>\n    </tr>\n    <tr>\n      <th>200</th>\n      <td>박인로 &lt;노계가&gt;의 비교문학적 연구 : 소식 &lt;적벽부&gt;와의 비교를 중심으로 = A ...</td>\n      <td>양설뢰</td>\n      <td>광주 : 전남대학교 대학원, 2020</td>\n      <td>학위논문(석사)-- 전남대학교 대학원 : 국어국문학과 2020. 8</td>\n      <td>2020</td>\n      <td>NaN</td>\n      <td>NaN</td>\n      <td>한국어</td>\n      <td>노계가,적벽부,사부,가사,비교문학,박인로</td>\n      <td>NaN</td>\n      <td>...</td>\n      <td>87 ; 26 cm</td>\n      <td>지도교수: 김신중</td>\n      <td>I804:24010-000000063044</td>\n      <td>전남대학교 중앙도서관 (224010)</td>\n      <td>NaN</td>\n      <td>NaN</td>\n      <td>NaN</td>\n      <td>이 논문은 &amp;lt;적벽부&amp;gt;와 &amp;lt;노계가&amp;gt;의 비교를 통해서 &amp;lt;노계...</td>\n      <td>The purpose of this study is to examine the si...</td>\n      <td>Ⅰ. 서론\\t1&amp;#xD;\\n  1. 연구목적\\t1&amp;#xD;\\n  2. 연구사 검토\\...</td>\n    </tr>\n    <tr>\n      <th>201</th>\n      <td>'언문일치체' 비판을 통해 본 근대 소설의 문장 형성 과정 연구: 1900-1920...</td>\n      <td>김수안</td>\n      <td>서울 : 연세대학교, 일반대학원, 2020</td>\n      <td>학위논문(박사)-- 연세대학교, 일반대학원 : 국어국문학과 현대문학 2020. 8</td>\n      <td>2020</td>\n      <td>NaN</td>\n      <td>NaN</td>\n      <td>한국어</td>\n      <td>내셔널리즘,국어,국문,신문,매체,소설,문체,언문일치,이광수,무정</td>\n      <td>NaN</td>\n      <td>...</td>\n      <td>viii, 286p. ; 26 cm</td>\n      <td>지도교수: 김영민</td>\n      <td>I804:11046-000000525833</td>\n      <td>연세대학교 학술정보원 (211046)</td>\n      <td>NaN</td>\n      <td>NaN</td>\n      <td>NaN</td>\n      <td>이 연구는 20세기 초 한국에서 소설의 문장과 소설 양식이 형성되어간 과정을 되짚어...</td>\n      <td>This study was designed to reflect on the form...</td>\n      <td>NaN</td>\n    </tr>\n  </tbody>\n</table>\n<p>202 rows × 24 columns</p>\n</div>"
     },
     "metadata": {},
     "execution_count": 9
    }
   ],
   "source": [
    "riss"
   ]
  },
  {
   "source": [
    "### 하나의 엑셀 파일로 저장"
   ],
   "cell_type": "markdown",
   "metadata": {}
  },
  {
   "cell_type": "code",
   "execution_count": null,
   "metadata": {},
   "outputs": [],
   "source": [
    "riss.to_excel('merged.xlsx')"
   ]
  }
 ]
}