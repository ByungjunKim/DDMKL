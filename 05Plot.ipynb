{
 "metadata": {
  "language_info": {
   "codemirror_mode": {
    "name": "ipython",
    "version": 3
   },
   "file_extension": ".py",
   "mimetype": "text/x-python",
   "name": "python",
   "nbconvert_exporter": "python",
   "pygments_lexer": "ipython3",
   "version": "3.7.9-final"
  },
  "orig_nbformat": 2,
  "kernelspec": {
   "name": "python3",
   "display_name": "Python 3",
   "language": "python"
  }
 },
 "nbformat": 4,
 "nbformat_minor": 2,
 "cells": [
  {
   "cell_type": "code",
   "execution_count": 1,
   "metadata": {},
   "outputs": [],
   "source": [
    "import pandas as pd\n",
    "import numpy as np\n",
    "import pickle\n",
    "import json\n",
    "\n",
    "import dash\n",
    "from dash.dependencies import Input, Output\n",
    "import dash_table\n",
    "import dash_core_components as dcc\n",
    "import dash_html_components as html\n",
    "import plotly.graph_objects as go\n",
    "\n",
    "import plotly.express as px"
   ]
  },
  {
   "cell_type": "code",
   "execution_count": 2,
   "metadata": {},
   "outputs": [],
   "source": [
    "with open('phd.pickle', 'rb') as f:\n",
    "    phd = pickle.load(f)"
   ]
  },
  {
   "cell_type": "code",
   "execution_count": 6,
   "metadata": {},
   "outputs": [
    {
     "output_type": "execute_result",
     "data": {
      "text/plain": [
       "      Index   대주제       장르           중주제1   중주제2               대상작가   시대별  \\\n",
       "0         1   작가론        시            시인론    NaN                서정주    통사   \n",
       "1        52   작가론  기타_복합장르      수필_산문_장르론    NaN            이양하,한흑구    통사   \n",
       "2        51   작가론       비평            비평사    NaN                 백철  1930   \n",
       "3        50   작가론        시            시인론    NaN                김소월  1920   \n",
       "4        49   주제론       소설          소설주제론    NaN                NaN  1950   \n",
       "...     ...   ...      ...            ...    ...                ...   ...   \n",
       "1523   1495   작가론       소설          소설작가론    NaN                이청준  해방이후   \n",
       "1524   1496  비교문학        시           비교문학    시인론          최승호,오리앙하이  해방이후   \n",
       "1525   1497    문화       비평  문화사 연구(해방 이후)    NaN                NaN    통사   \n",
       "1526   1484    문화  기타_복합장르    대중서사(해방 이후)    NaN                노희경  2000   \n",
       "1527   1528  비교문학       소설           비교문학  소설작가론  김동인,위다프,다니자키 준이치로  해방이전   \n",
       "\n",
       "                                                     서명  \\\n",
       "0      徐廷柱 詩 硏究 = A study on the Poetry of Suh, Jung-Ju   \n",
       "1     李敭河. 韓黑鷗 隨筆 硏究 : 老莊思想的 側面에서 = (A) study on the...   \n",
       "2     백철의 휴머니즘 문학 연구 = (A) Study on Humanism of Paek...   \n",
       "3     金素月 詩에 있어서 '場所愛'의 現象學的 硏究 = (A) Phenomenologic...   \n",
       "4     한국 전후소설의 인물 연구 = (A) Study on Character of Kor...   \n",
       "...                                                 ...   \n",
       "1523            부끄러움의 탐색과 근대적 주체 비판 연구 : -이청준 소설을 중심으로-   \n",
       "1524                              최승호 시와 오리앙하이 시의 비교 연구   \n",
       "1525  문화지리적 이종공간의 서사적 위상학 = A Research on the Narrat...   \n",
       "1526  노희경 TV 드라마에 나타난 타자지향성과 공동체 의식 연구 = Study on ot...   \n",
       "1527  韓國·中國·日本 근대 唯美主義 문학의 比較硏究 : 金東仁·郁達夫·谷崎潤一郞을 中心으...   \n",
       "\n",
       "                                                   기타서명    저자  ...   발행국  \\\n",
       "0                                                   NaN   연은순  ...    서울   \n",
       "1                                                   NaN   박정숙  ...    서울   \n",
       "2                                                   NaN   김현정  ...    대전   \n",
       "3                                                   NaN   최만종  ...    서울   \n",
       "4                                                   NaN   이국환  ...    부산   \n",
       "...                                                 ...   ...  ...   ...   \n",
       "1523                                                NaN   송은정  ...  전라남도   \n",
       "1524  A Comparative Study on Poetries of Seung Ho Ch...  뭉크나랑  ...    대전   \n",
       "1525                                                NaN   정미선  ...    광주   \n",
       "1526                                                NaN   강성애  ...    서울   \n",
       "1527                                                NaN   유옥평  ...    서울   \n",
       "\n",
       "       출판년                                                주제어  \\\n",
       "0     2000                                                      \n",
       "1     2000                                                      \n",
       "2     2000                                     백철 휴머니즘 마르크스주의   \n",
       "3     2000                                      김소월 시 장소애 현상학   \n",
       "4     2000                    전후소설 통제 인물 사상 환경지향 자기지향 풍자소설 전쟁   \n",
       "...    ...                                                ...   \n",
       "1523  2019                                                      \n",
       "1524  2019                                                      \n",
       "1525  2019  문화적 경관 체험 공간 인문지리학 문학지리학 서사공간 이종공간 장소의 이종성 시간의...   \n",
       "1526  2019  TV드라마 타자지향성 공동체 의식 노희경 <유행가가 되리> <굿바이 솔로> <그들이...   \n",
       "1527  2019          西歐  韓國  中國  日本  近代  唯美主義  金東仁  郁達夫  谷崎潤一郞   \n",
       "\n",
       "                                                   소장기관  \\\n",
       "0     강원대학교 도서관 (242002),국립중앙도서관 (011001),단국대학교 퇴계기념...   \n",
       "1                 국립중앙도서관 (011001),성신여자대학교 도서관 (211041)   \n",
       "2     국립중앙도서관 (011001),대전대학교 도서관 (225002),한국교육학술정보원 ...   \n",
       "3     국립중앙도서관 (011001),서강대학교 도서관  (211029),한국교육학술정보원...   \n",
       "4     국립중앙도서관 (011001),동아대학교 도서관 (221008),한국교육학술정보원 ...   \n",
       "...                                                 ...   \n",
       "1523                                 순천대학교 도서관 (246008)   \n",
       "1524                                 충남대학교 도서관 (225009)   \n",
       "1525                               전남대학교 중앙도서관 (224010)   \n",
       "1526                         중앙대학교 서울캠퍼스 중앙도서관 (211052)   \n",
       "1527          한양대학교 안산캠퍼스 (241050),한양대학교 중앙도서관 (211062)   \n",
       "\n",
       "                      UCI식별코드  \\\n",
       "0                         NaN   \n",
       "1                         NaN   \n",
       "2                         NaN   \n",
       "3                         NaN   \n",
       "4                         NaN   \n",
       "...                       ...   \n",
       "1523  I804:46008-000000009483   \n",
       "1524  I804:25009-000000079138   \n",
       "1525  I804:24010-000000060171   \n",
       "1526  I804:11052-000000230727   \n",
       "1527  I804:11062-000000109184   \n",
       "\n",
       "                                       국문 초록 (Abstract)  \\\n",
       "0                                                         \n",
       "1                                                         \n",
       "2                                                         \n",
       "3                                                         \n",
       "4     본고는 사회심리학의 중요한 개념인 통제(control)의 개념을 통해 작중 인물의 ...   \n",
       "...                                                 ...   \n",
       "1523  이청준 소설은 지배적인 담론을 내면화한 근대 주체들이 부끄러움을 느끼는 지점에서 현...   \n",
       "1524  본 논문의 목적은 한국시인 최승호와 몽골 시인 오리앙하이의 문학사상과 작품세계를 비...   \n",
       "1525  이 논문은 ‘문화적 경관(cultural landscape)’에 대한 학제적 연구에...   \n",
       "1526  이 논문은 2006년 이후 집필된 노희경의 드라마들에서 타자지향성과 공동체 의식이 ...   \n",
       "1527  唯美主義(Aestheticism)는 美의 創造를 藝術의 唯一至上을 目的으로 삼는 藝...   \n",
       "\n",
       "                         다국어 초록 (Multilingual Abstract)  \\\n",
       "0     This dissertation aims at investigating Suh, J...   \n",
       "1                                                   NaN   \n",
       "2     The purpose of this dissertation is to determi...   \n",
       "3                                                   NaN   \n",
       "4     This abstract is studied about the postwar nov...   \n",
       "...                                                 ...   \n",
       "1523                                                NaN   \n",
       "1524  This paper is a comparative study which compar...   \n",
       "1525  Space is a key concept in interdisciplinary re...   \n",
       "1526  This dissertation mainly studied &lt;I’ll be a...   \n",
       "1527                                                NaN   \n",
       "\n",
       "                                                     목차  \\\n",
       "0     목차\\r\\nI. 서론 = 1\\r\\n 1. 문제제기 = 1\\r\\n 2. 연구사 검토 ...   \n",
       "1     \\n=0,1,3\\n논문개요=i,4,4\\n목차=v,8,2\\nI. 서론=1,10,1\\n...   \n",
       "2     Ⅰ. 서론 = 1\\r\\n  1. 연구목적 = 1\\r\\n  2. 연구사 검토와 문제제...   \n",
       "3     목차 = ⅰ\\r\\nABSTRACT = ⅵ\\r\\n국문요약 = ⅷ\\r\\nⅠ. 序論 = ...   \n",
       "4     목차 = ⅳ\\r\\nⅠ. 서론 = 1\\r\\n 1. 연구 목적 = 1\\r\\n 2. 연구...   \n",
       "...                                                 ...   \n",
       "1523  Ⅰ. 서론  1&#xD;\\n 1. 연구 목적  1&#xD;\\n 2. 선행연구 검토와...   \n",
       "1524  목     차&#xD;\\n&#xD;\\nⅠ. 서론\\t1&#xD;\\n   1. 문제 제...   \n",
       "1525  Ⅰ. 서론 1\\r\\n 1. 연구 목적 1\\r\\n 2. 연구사 검토 6\\r\\n 3. ...   \n",
       "1526  Ⅰ. 서 론 1&#xD;\\n 1. 연구 목적 1&#xD;\\n 2. 연구사 검토 9&...   \n",
       "1527  Ⅰ. 서론 1&#xD;\\n 1. 문제 제기  1&#xD;\\n 2. 연구사 검토  7...   \n",
       "\n",
       "                                               contents  \\\n",
       "0     서정주 시 연구                   서정주 시 연구           ...   \n",
       "1     이양하  한흑구 수필 연구   노장사상적 측면에서                   ...   \n",
       "2     백철의 휴머니즘 문학 연구                 백철의 휴머니즘 문학 연구 ...   \n",
       "3     김소월 시에 있어서  장소애 의 현상학적 연구                     ...   \n",
       "4     한국 전후소설의 인물 연구                   한국 전후소설의 인물 연...   \n",
       "...                                                 ...   \n",
       "1523  부끄러움의 탐색과 근대적 주체 비판 연구    이청준 소설을 중심으로  부끄러움의 ...   \n",
       "1524  최승호 시와 오리앙하이 시의 비교 연구 최승호 시와 오리앙하이 시의 비교 연구   ...   \n",
       "1525  문화지리적 이종공간의 서사적 위상학                       문화지리...   \n",
       "1526  노희경   드라마에 나타난 타자지향성과 공동체 의식 연구               ...   \n",
       "1527  한국 중국 일본 근대 유미주의 문학의 비교연구   김동인 욱달부 곡기윤일랑을 중심으...   \n",
       "\n",
       "                                                 tokens  \n",
       "0     [서정주, 시, 서정주, 시, 시어, 구사, 비문법성, 시성, 표출, 모순어법, 미...  \n",
       "1     [이양하, 한흑구, 수필, 노장, 사상, 측면, 이양하, 한흑구, 수필, 노장, 사...  \n",
       "2     [백철, 휴머니즘, 백철, 휴머니즘, 백철, 휴머니즘, 형성, 배경, 천도, 교사,...  \n",
       "3     [김소월, 시, 장소애, 현상학, 김소월, 시, 장소애, 현상학, 국문, 방법론, ...  \n",
       "4     [전후, 소설, 인물, 전후, 소설, 인물, 전후소설, 인물, 통제, 전후, 소설,...  \n",
       "...                                                 ...  \n",
       "1523  [부끄러움, 탐색, 근대, 주체, 비판, 이청준, 소설, 부끄러움, 탐색, 근대, ...  \n",
       "1524  [최승호, 시, 오리앙하이, 시, 비교, 최승호, 시, 오리앙하이, 시, 비교, 최...  \n",
       "1525  [문화, 지리, 서사, 위상학, 문화, 지리, 서사, 위상학, 방법론, 장소, 서사...  \n",
       "1526  [노희경, 드라마, 타자지향성, 공동체, 의식, 노희경, 드라마, 타자지향성, 공동...  \n",
       "1527  [중국, 일본, 근대, 유미주의, 비교, 김동인, 욱달부, 곡기윤이, 중국, 일본,...  \n",
       "\n",
       "[1528 rows x 27 columns]"
      ],
      "text/html": "<div>\n<style scoped>\n    .dataframe tbody tr th:only-of-type {\n        vertical-align: middle;\n    }\n\n    .dataframe tbody tr th {\n        vertical-align: top;\n    }\n\n    .dataframe thead th {\n        text-align: right;\n    }\n</style>\n<table border=\"1\" class=\"dataframe\">\n  <thead>\n    <tr style=\"text-align: right;\">\n      <th></th>\n      <th>Index</th>\n      <th>대주제</th>\n      <th>장르</th>\n      <th>중주제1</th>\n      <th>중주제2</th>\n      <th>대상작가</th>\n      <th>시대별</th>\n      <th>서명</th>\n      <th>기타서명</th>\n      <th>저자</th>\n      <th>...</th>\n      <th>발행국</th>\n      <th>출판년</th>\n      <th>주제어</th>\n      <th>소장기관</th>\n      <th>UCI식별코드</th>\n      <th>국문 초록 (Abstract)</th>\n      <th>다국어 초록 (Multilingual Abstract)</th>\n      <th>목차</th>\n      <th>contents</th>\n      <th>tokens</th>\n    </tr>\n  </thead>\n  <tbody>\n    <tr>\n      <th>0</th>\n      <td>1</td>\n      <td>작가론</td>\n      <td>시</td>\n      <td>시인론</td>\n      <td>NaN</td>\n      <td>서정주</td>\n      <td>통사</td>\n      <td>徐廷柱 詩 硏究 = A study on the Poetry of Suh, Jung-Ju</td>\n      <td>NaN</td>\n      <td>연은순</td>\n      <td>...</td>\n      <td>서울</td>\n      <td>2000</td>\n      <td></td>\n      <td>강원대학교 도서관 (242002),국립중앙도서관 (011001),단국대학교 퇴계기념...</td>\n      <td>NaN</td>\n      <td></td>\n      <td>This dissertation aims at investigating Suh, J...</td>\n      <td>목차\\r\\nI. 서론 = 1\\r\\n 1. 문제제기 = 1\\r\\n 2. 연구사 검토 ...</td>\n      <td>서정주 시 연구                   서정주 시 연구           ...</td>\n      <td>[서정주, 시, 서정주, 시, 시어, 구사, 비문법성, 시성, 표출, 모순어법, 미...</td>\n    </tr>\n    <tr>\n      <th>1</th>\n      <td>52</td>\n      <td>작가론</td>\n      <td>기타_복합장르</td>\n      <td>수필_산문_장르론</td>\n      <td>NaN</td>\n      <td>이양하,한흑구</td>\n      <td>통사</td>\n      <td>李敭河. 韓黑鷗 隨筆 硏究 : 老莊思想的 側面에서 = (A) study on the...</td>\n      <td>NaN</td>\n      <td>박정숙</td>\n      <td>...</td>\n      <td>서울</td>\n      <td>2000</td>\n      <td></td>\n      <td>국립중앙도서관 (011001),성신여자대학교 도서관 (211041)</td>\n      <td>NaN</td>\n      <td></td>\n      <td>NaN</td>\n      <td>\\n=0,1,3\\n논문개요=i,4,4\\n목차=v,8,2\\nI. 서론=1,10,1\\n...</td>\n      <td>이양하  한흑구 수필 연구   노장사상적 측면에서                   ...</td>\n      <td>[이양하, 한흑구, 수필, 노장, 사상, 측면, 이양하, 한흑구, 수필, 노장, 사...</td>\n    </tr>\n    <tr>\n      <th>2</th>\n      <td>51</td>\n      <td>작가론</td>\n      <td>비평</td>\n      <td>비평사</td>\n      <td>NaN</td>\n      <td>백철</td>\n      <td>1930</td>\n      <td>백철의 휴머니즘 문학 연구 = (A) Study on Humanism of Paek...</td>\n      <td>NaN</td>\n      <td>김현정</td>\n      <td>...</td>\n      <td>대전</td>\n      <td>2000</td>\n      <td>백철 휴머니즘 마르크스주의</td>\n      <td>국립중앙도서관 (011001),대전대학교 도서관 (225002),한국교육학술정보원 ...</td>\n      <td>NaN</td>\n      <td></td>\n      <td>The purpose of this dissertation is to determi...</td>\n      <td>Ⅰ. 서론 = 1\\r\\n  1. 연구목적 = 1\\r\\n  2. 연구사 검토와 문제제...</td>\n      <td>백철의 휴머니즘 문학 연구                 백철의 휴머니즘 문학 연구 ...</td>\n      <td>[백철, 휴머니즘, 백철, 휴머니즘, 백철, 휴머니즘, 형성, 배경, 천도, 교사,...</td>\n    </tr>\n    <tr>\n      <th>3</th>\n      <td>50</td>\n      <td>작가론</td>\n      <td>시</td>\n      <td>시인론</td>\n      <td>NaN</td>\n      <td>김소월</td>\n      <td>1920</td>\n      <td>金素月 詩에 있어서 '場所愛'의 現象學的 硏究 = (A) Phenomenologic...</td>\n      <td>NaN</td>\n      <td>최만종</td>\n      <td>...</td>\n      <td>서울</td>\n      <td>2000</td>\n      <td>김소월 시 장소애 현상학</td>\n      <td>국립중앙도서관 (011001),서강대학교 도서관  (211029),한국교육학술정보원...</td>\n      <td>NaN</td>\n      <td></td>\n      <td>NaN</td>\n      <td>목차 = ⅰ\\r\\nABSTRACT = ⅵ\\r\\n국문요약 = ⅷ\\r\\nⅠ. 序論 = ...</td>\n      <td>김소월 시에 있어서  장소애 의 현상학적 연구                     ...</td>\n      <td>[김소월, 시, 장소애, 현상학, 김소월, 시, 장소애, 현상학, 국문, 방법론, ...</td>\n    </tr>\n    <tr>\n      <th>4</th>\n      <td>49</td>\n      <td>주제론</td>\n      <td>소설</td>\n      <td>소설주제론</td>\n      <td>NaN</td>\n      <td>NaN</td>\n      <td>1950</td>\n      <td>한국 전후소설의 인물 연구 = (A) Study on Character of Kor...</td>\n      <td>NaN</td>\n      <td>이국환</td>\n      <td>...</td>\n      <td>부산</td>\n      <td>2000</td>\n      <td>전후소설 통제 인물 사상 환경지향 자기지향 풍자소설 전쟁</td>\n      <td>국립중앙도서관 (011001),동아대학교 도서관 (221008),한국교육학술정보원 ...</td>\n      <td>NaN</td>\n      <td>본고는 사회심리학의 중요한 개념인 통제(control)의 개념을 통해 작중 인물의 ...</td>\n      <td>This abstract is studied about the postwar nov...</td>\n      <td>목차 = ⅳ\\r\\nⅠ. 서론 = 1\\r\\n 1. 연구 목적 = 1\\r\\n 2. 연구...</td>\n      <td>한국 전후소설의 인물 연구                   한국 전후소설의 인물 연...</td>\n      <td>[전후, 소설, 인물, 전후, 소설, 인물, 전후소설, 인물, 통제, 전후, 소설,...</td>\n    </tr>\n    <tr>\n      <th>...</th>\n      <td>...</td>\n      <td>...</td>\n      <td>...</td>\n      <td>...</td>\n      <td>...</td>\n      <td>...</td>\n      <td>...</td>\n      <td>...</td>\n      <td>...</td>\n      <td>...</td>\n      <td>...</td>\n      <td>...</td>\n      <td>...</td>\n      <td>...</td>\n      <td>...</td>\n      <td>...</td>\n      <td>...</td>\n      <td>...</td>\n      <td>...</td>\n      <td>...</td>\n      <td>...</td>\n    </tr>\n    <tr>\n      <th>1523</th>\n      <td>1495</td>\n      <td>작가론</td>\n      <td>소설</td>\n      <td>소설작가론</td>\n      <td>NaN</td>\n      <td>이청준</td>\n      <td>해방이후</td>\n      <td>부끄러움의 탐색과 근대적 주체 비판 연구 : -이청준 소설을 중심으로-</td>\n      <td>NaN</td>\n      <td>송은정</td>\n      <td>...</td>\n      <td>전라남도</td>\n      <td>2019</td>\n      <td></td>\n      <td>순천대학교 도서관 (246008)</td>\n      <td>I804:46008-000000009483</td>\n      <td>이청준 소설은 지배적인 담론을 내면화한 근대 주체들이 부끄러움을 느끼는 지점에서 현...</td>\n      <td>NaN</td>\n      <td>Ⅰ. 서론  1&amp;#xD;\\n 1. 연구 목적  1&amp;#xD;\\n 2. 선행연구 검토와...</td>\n      <td>부끄러움의 탐색과 근대적 주체 비판 연구    이청준 소설을 중심으로  부끄러움의 ...</td>\n      <td>[부끄러움, 탐색, 근대, 주체, 비판, 이청준, 소설, 부끄러움, 탐색, 근대, ...</td>\n    </tr>\n    <tr>\n      <th>1524</th>\n      <td>1496</td>\n      <td>비교문학</td>\n      <td>시</td>\n      <td>비교문학</td>\n      <td>시인론</td>\n      <td>최승호,오리앙하이</td>\n      <td>해방이후</td>\n      <td>최승호 시와 오리앙하이 시의 비교 연구</td>\n      <td>A Comparative Study on Poetries of Seung Ho Ch...</td>\n      <td>뭉크나랑</td>\n      <td>...</td>\n      <td>대전</td>\n      <td>2019</td>\n      <td></td>\n      <td>충남대학교 도서관 (225009)</td>\n      <td>I804:25009-000000079138</td>\n      <td>본 논문의 목적은 한국시인 최승호와 몽골 시인 오리앙하이의 문학사상과 작품세계를 비...</td>\n      <td>This paper is a comparative study which compar...</td>\n      <td>목     차&amp;#xD;\\n&amp;#xD;\\nⅠ. 서론\\t1&amp;#xD;\\n   1. 문제 제...</td>\n      <td>최승호 시와 오리앙하이 시의 비교 연구 최승호 시와 오리앙하이 시의 비교 연구   ...</td>\n      <td>[최승호, 시, 오리앙하이, 시, 비교, 최승호, 시, 오리앙하이, 시, 비교, 최...</td>\n    </tr>\n    <tr>\n      <th>1525</th>\n      <td>1497</td>\n      <td>문화</td>\n      <td>비평</td>\n      <td>문화사 연구(해방 이후)</td>\n      <td>NaN</td>\n      <td>NaN</td>\n      <td>통사</td>\n      <td>문화지리적 이종공간의 서사적 위상학 = A Research on the Narrat...</td>\n      <td>NaN</td>\n      <td>정미선</td>\n      <td>...</td>\n      <td>광주</td>\n      <td>2019</td>\n      <td>문화적 경관 체험 공간 인문지리학 문학지리학 서사공간 이종공간 장소의 이종성 시간의...</td>\n      <td>전남대학교 중앙도서관 (224010)</td>\n      <td>I804:24010-000000060171</td>\n      <td>이 논문은 ‘문화적 경관(cultural landscape)’에 대한 학제적 연구에...</td>\n      <td>Space is a key concept in interdisciplinary re...</td>\n      <td>Ⅰ. 서론 1\\r\\n 1. 연구 목적 1\\r\\n 2. 연구사 검토 6\\r\\n 3. ...</td>\n      <td>문화지리적 이종공간의 서사적 위상학                       문화지리...</td>\n      <td>[문화, 지리, 서사, 위상학, 문화, 지리, 서사, 위상학, 방법론, 장소, 서사...</td>\n    </tr>\n    <tr>\n      <th>1526</th>\n      <td>1484</td>\n      <td>문화</td>\n      <td>기타_복합장르</td>\n      <td>대중서사(해방 이후)</td>\n      <td>NaN</td>\n      <td>노희경</td>\n      <td>2000</td>\n      <td>노희경 TV 드라마에 나타난 타자지향성과 공동체 의식 연구 = Study on ot...</td>\n      <td>NaN</td>\n      <td>강성애</td>\n      <td>...</td>\n      <td>서울</td>\n      <td>2019</td>\n      <td>TV드라마 타자지향성 공동체 의식 노희경 &lt;유행가가 되리&gt; &lt;굿바이 솔로&gt; &lt;그들이...</td>\n      <td>중앙대학교 서울캠퍼스 중앙도서관 (211052)</td>\n      <td>I804:11052-000000230727</td>\n      <td>이 논문은 2006년 이후 집필된 노희경의 드라마들에서 타자지향성과 공동체 의식이 ...</td>\n      <td>This dissertation mainly studied &amp;lt;I’ll be a...</td>\n      <td>Ⅰ. 서 론 1&amp;#xD;\\n 1. 연구 목적 1&amp;#xD;\\n 2. 연구사 검토 9&amp;...</td>\n      <td>노희경   드라마에 나타난 타자지향성과 공동체 의식 연구               ...</td>\n      <td>[노희경, 드라마, 타자지향성, 공동체, 의식, 노희경, 드라마, 타자지향성, 공동...</td>\n    </tr>\n    <tr>\n      <th>1527</th>\n      <td>1528</td>\n      <td>비교문학</td>\n      <td>소설</td>\n      <td>비교문학</td>\n      <td>소설작가론</td>\n      <td>김동인,위다프,다니자키 준이치로</td>\n      <td>해방이전</td>\n      <td>韓國·中國·日本 근대 唯美主義 문학의 比較硏究 : 金東仁·郁達夫·谷崎潤一郞을 中心으...</td>\n      <td>NaN</td>\n      <td>유옥평</td>\n      <td>...</td>\n      <td>서울</td>\n      <td>2019</td>\n      <td>西歐  韓國  中國  日本  近代  唯美主義  金東仁  郁達夫  谷崎潤一郞</td>\n      <td>한양대학교 안산캠퍼스 (241050),한양대학교 중앙도서관 (211062)</td>\n      <td>I804:11062-000000109184</td>\n      <td>唯美主義(Aestheticism)는 美의 創造를 藝術의 唯一至上을 目的으로 삼는 藝...</td>\n      <td>NaN</td>\n      <td>Ⅰ. 서론 1&amp;#xD;\\n 1. 문제 제기  1&amp;#xD;\\n 2. 연구사 검토  7...</td>\n      <td>한국 중국 일본 근대 유미주의 문학의 비교연구   김동인 욱달부 곡기윤일랑을 중심으...</td>\n      <td>[중국, 일본, 근대, 유미주의, 비교, 김동인, 욱달부, 곡기윤이, 중국, 일본,...</td>\n    </tr>\n  </tbody>\n</table>\n<p>1528 rows × 27 columns</p>\n</div>"
     },
     "metadata": {},
     "execution_count": 6
    }
   ],
   "source": [
    "phd"
   ]
  },
  {
   "cell_type": "code",
   "execution_count": 3,
   "metadata": {},
   "outputs": [
    {
     "output_type": "execute_result",
     "data": {
      "text/plain": [
       "2000     71\n",
       "2001     71\n",
       "2002     99\n",
       "2003    103\n",
       "2004     70\n",
       "2005     91\n",
       "2006     82\n",
       "2007     65\n",
       "2008     82\n",
       "2009     79\n",
       "2010     84\n",
       "2011     84\n",
       "2012     84\n",
       "2013     75\n",
       "2014     84\n",
       "2015     65\n",
       "2016     65\n",
       "2017     62\n",
       "2018     55\n",
       "2019     57\n",
       "Name: 출판년, dtype: int64"
      ]
     },
     "metadata": {},
     "execution_count": 3
    }
   ],
   "source": [
    "phd['출판년'].value_counts(sort=False)"
   ]
  },
  {
   "cell_type": "code",
   "execution_count": 7,
   "metadata": {},
   "outputs": [
    {
     "output_type": "display_data",
     "data": {
      "application/vnd.plotly.v1+json": {
       "config": {
        "plotlyServerURL": "https://plot.ly"
       },
       "data": [
        {
         "hovertemplate": "variable=출판년<br>index=%{x}<br>value=%{y}<extra></extra>",
         "legendgroup": "출판년",
         "line": {
          "color": "#636efa",
          "dash": "solid"
         },
         "mode": "lines",
         "name": "출판년",
         "orientation": "v",
         "showlegend": true,
         "type": "scatter",
         "x": [
          2000,
          2001,
          2002,
          2003,
          2004,
          2005,
          2006,
          2007,
          2008,
          2009,
          2010,
          2011,
          2012,
          2013,
          2014,
          2015,
          2016,
          2017,
          2018,
          2019
         ],
         "xaxis": "x",
         "y": [
          71,
          71,
          99,
          103,
          70,
          91,
          82,
          65,
          82,
          79,
          84,
          84,
          84,
          75,
          84,
          65,
          65,
          62,
          55,
          57
         ],
         "yaxis": "y"
        }
       ],
       "layout": {
        "legend": {
         "title": {
          "text": "variable"
         },
         "tracegroupgap": 0
        },
        "margin": {
         "t": 60
        },
        "template": {
         "data": {
          "bar": [
           {
            "error_x": {
             "color": "#2a3f5f"
            },
            "error_y": {
             "color": "#2a3f5f"
            },
            "marker": {
             "line": {
              "color": "#E5ECF6",
              "width": 0.5
             }
            },
            "type": "bar"
           }
          ],
          "barpolar": [
           {
            "marker": {
             "line": {
              "color": "#E5ECF6",
              "width": 0.5
             }
            },
            "type": "barpolar"
           }
          ],
          "carpet": [
           {
            "aaxis": {
             "endlinecolor": "#2a3f5f",
             "gridcolor": "white",
             "linecolor": "white",
             "minorgridcolor": "white",
             "startlinecolor": "#2a3f5f"
            },
            "baxis": {
             "endlinecolor": "#2a3f5f",
             "gridcolor": "white",
             "linecolor": "white",
             "minorgridcolor": "white",
             "startlinecolor": "#2a3f5f"
            },
            "type": "carpet"
           }
          ],
          "choropleth": [
           {
            "colorbar": {
             "outlinewidth": 0,
             "ticks": ""
            },
            "type": "choropleth"
           }
          ],
          "contour": [
           {
            "colorbar": {
             "outlinewidth": 0,
             "ticks": ""
            },
            "colorscale": [
             [
              0,
              "#0d0887"
             ],
             [
              0.1111111111111111,
              "#46039f"
             ],
             [
              0.2222222222222222,
              "#7201a8"
             ],
             [
              0.3333333333333333,
              "#9c179e"
             ],
             [
              0.4444444444444444,
              "#bd3786"
             ],
             [
              0.5555555555555556,
              "#d8576b"
             ],
             [
              0.6666666666666666,
              "#ed7953"
             ],
             [
              0.7777777777777778,
              "#fb9f3a"
             ],
             [
              0.8888888888888888,
              "#fdca26"
             ],
             [
              1,
              "#f0f921"
             ]
            ],
            "type": "contour"
           }
          ],
          "contourcarpet": [
           {
            "colorbar": {
             "outlinewidth": 0,
             "ticks": ""
            },
            "type": "contourcarpet"
           }
          ],
          "heatmap": [
           {
            "colorbar": {
             "outlinewidth": 0,
             "ticks": ""
            },
            "colorscale": [
             [
              0,
              "#0d0887"
             ],
             [
              0.1111111111111111,
              "#46039f"
             ],
             [
              0.2222222222222222,
              "#7201a8"
             ],
             [
              0.3333333333333333,
              "#9c179e"
             ],
             [
              0.4444444444444444,
              "#bd3786"
             ],
             [
              0.5555555555555556,
              "#d8576b"
             ],
             [
              0.6666666666666666,
              "#ed7953"
             ],
             [
              0.7777777777777778,
              "#fb9f3a"
             ],
             [
              0.8888888888888888,
              "#fdca26"
             ],
             [
              1,
              "#f0f921"
             ]
            ],
            "type": "heatmap"
           }
          ],
          "heatmapgl": [
           {
            "colorbar": {
             "outlinewidth": 0,
             "ticks": ""
            },
            "colorscale": [
             [
              0,
              "#0d0887"
             ],
             [
              0.1111111111111111,
              "#46039f"
             ],
             [
              0.2222222222222222,
              "#7201a8"
             ],
             [
              0.3333333333333333,
              "#9c179e"
             ],
             [
              0.4444444444444444,
              "#bd3786"
             ],
             [
              0.5555555555555556,
              "#d8576b"
             ],
             [
              0.6666666666666666,
              "#ed7953"
             ],
             [
              0.7777777777777778,
              "#fb9f3a"
             ],
             [
              0.8888888888888888,
              "#fdca26"
             ],
             [
              1,
              "#f0f921"
             ]
            ],
            "type": "heatmapgl"
           }
          ],
          "histogram": [
           {
            "marker": {
             "colorbar": {
              "outlinewidth": 0,
              "ticks": ""
             }
            },
            "type": "histogram"
           }
          ],
          "histogram2d": [
           {
            "colorbar": {
             "outlinewidth": 0,
             "ticks": ""
            },
            "colorscale": [
             [
              0,
              "#0d0887"
             ],
             [
              0.1111111111111111,
              "#46039f"
             ],
             [
              0.2222222222222222,
              "#7201a8"
             ],
             [
              0.3333333333333333,
              "#9c179e"
             ],
             [
              0.4444444444444444,
              "#bd3786"
             ],
             [
              0.5555555555555556,
              "#d8576b"
             ],
             [
              0.6666666666666666,
              "#ed7953"
             ],
             [
              0.7777777777777778,
              "#fb9f3a"
             ],
             [
              0.8888888888888888,
              "#fdca26"
             ],
             [
              1,
              "#f0f921"
             ]
            ],
            "type": "histogram2d"
           }
          ],
          "histogram2dcontour": [
           {
            "colorbar": {
             "outlinewidth": 0,
             "ticks": ""
            },
            "colorscale": [
             [
              0,
              "#0d0887"
             ],
             [
              0.1111111111111111,
              "#46039f"
             ],
             [
              0.2222222222222222,
              "#7201a8"
             ],
             [
              0.3333333333333333,
              "#9c179e"
             ],
             [
              0.4444444444444444,
              "#bd3786"
             ],
             [
              0.5555555555555556,
              "#d8576b"
             ],
             [
              0.6666666666666666,
              "#ed7953"
             ],
             [
              0.7777777777777778,
              "#fb9f3a"
             ],
             [
              0.8888888888888888,
              "#fdca26"
             ],
             [
              1,
              "#f0f921"
             ]
            ],
            "type": "histogram2dcontour"
           }
          ],
          "mesh3d": [
           {
            "colorbar": {
             "outlinewidth": 0,
             "ticks": ""
            },
            "type": "mesh3d"
           }
          ],
          "parcoords": [
           {
            "line": {
             "colorbar": {
              "outlinewidth": 0,
              "ticks": ""
             }
            },
            "type": "parcoords"
           }
          ],
          "pie": [
           {
            "automargin": true,
            "type": "pie"
           }
          ],
          "scatter": [
           {
            "marker": {
             "colorbar": {
              "outlinewidth": 0,
              "ticks": ""
             }
            },
            "type": "scatter"
           }
          ],
          "scatter3d": [
           {
            "line": {
             "colorbar": {
              "outlinewidth": 0,
              "ticks": ""
             }
            },
            "marker": {
             "colorbar": {
              "outlinewidth": 0,
              "ticks": ""
             }
            },
            "type": "scatter3d"
           }
          ],
          "scattercarpet": [
           {
            "marker": {
             "colorbar": {
              "outlinewidth": 0,
              "ticks": ""
             }
            },
            "type": "scattercarpet"
           }
          ],
          "scattergeo": [
           {
            "marker": {
             "colorbar": {
              "outlinewidth": 0,
              "ticks": ""
             }
            },
            "type": "scattergeo"
           }
          ],
          "scattergl": [
           {
            "marker": {
             "colorbar": {
              "outlinewidth": 0,
              "ticks": ""
             }
            },
            "type": "scattergl"
           }
          ],
          "scattermapbox": [
           {
            "marker": {
             "colorbar": {
              "outlinewidth": 0,
              "ticks": ""
             }
            },
            "type": "scattermapbox"
           }
          ],
          "scatterpolar": [
           {
            "marker": {
             "colorbar": {
              "outlinewidth": 0,
              "ticks": ""
             }
            },
            "type": "scatterpolar"
           }
          ],
          "scatterpolargl": [
           {
            "marker": {
             "colorbar": {
              "outlinewidth": 0,
              "ticks": ""
             }
            },
            "type": "scatterpolargl"
           }
          ],
          "scatterternary": [
           {
            "marker": {
             "colorbar": {
              "outlinewidth": 0,
              "ticks": ""
             }
            },
            "type": "scatterternary"
           }
          ],
          "surface": [
           {
            "colorbar": {
             "outlinewidth": 0,
             "ticks": ""
            },
            "colorscale": [
             [
              0,
              "#0d0887"
             ],
             [
              0.1111111111111111,
              "#46039f"
             ],
             [
              0.2222222222222222,
              "#7201a8"
             ],
             [
              0.3333333333333333,
              "#9c179e"
             ],
             [
              0.4444444444444444,
              "#bd3786"
             ],
             [
              0.5555555555555556,
              "#d8576b"
             ],
             [
              0.6666666666666666,
              "#ed7953"
             ],
             [
              0.7777777777777778,
              "#fb9f3a"
             ],
             [
              0.8888888888888888,
              "#fdca26"
             ],
             [
              1,
              "#f0f921"
             ]
            ],
            "type": "surface"
           }
          ],
          "table": [
           {
            "cells": {
             "fill": {
              "color": "#EBF0F8"
             },
             "line": {
              "color": "white"
             }
            },
            "header": {
             "fill": {
              "color": "#C8D4E3"
             },
             "line": {
              "color": "white"
             }
            },
            "type": "table"
           }
          ]
         },
         "layout": {
          "annotationdefaults": {
           "arrowcolor": "#2a3f5f",
           "arrowhead": 0,
           "arrowwidth": 1
          },
          "autotypenumbers": "strict",
          "coloraxis": {
           "colorbar": {
            "outlinewidth": 0,
            "ticks": ""
           }
          },
          "colorscale": {
           "diverging": [
            [
             0,
             "#8e0152"
            ],
            [
             0.1,
             "#c51b7d"
            ],
            [
             0.2,
             "#de77ae"
            ],
            [
             0.3,
             "#f1b6da"
            ],
            [
             0.4,
             "#fde0ef"
            ],
            [
             0.5,
             "#f7f7f7"
            ],
            [
             0.6,
             "#e6f5d0"
            ],
            [
             0.7,
             "#b8e186"
            ],
            [
             0.8,
             "#7fbc41"
            ],
            [
             0.9,
             "#4d9221"
            ],
            [
             1,
             "#276419"
            ]
           ],
           "sequential": [
            [
             0,
             "#0d0887"
            ],
            [
             0.1111111111111111,
             "#46039f"
            ],
            [
             0.2222222222222222,
             "#7201a8"
            ],
            [
             0.3333333333333333,
             "#9c179e"
            ],
            [
             0.4444444444444444,
             "#bd3786"
            ],
            [
             0.5555555555555556,
             "#d8576b"
            ],
            [
             0.6666666666666666,
             "#ed7953"
            ],
            [
             0.7777777777777778,
             "#fb9f3a"
            ],
            [
             0.8888888888888888,
             "#fdca26"
            ],
            [
             1,
             "#f0f921"
            ]
           ],
           "sequentialminus": [
            [
             0,
             "#0d0887"
            ],
            [
             0.1111111111111111,
             "#46039f"
            ],
            [
             0.2222222222222222,
             "#7201a8"
            ],
            [
             0.3333333333333333,
             "#9c179e"
            ],
            [
             0.4444444444444444,
             "#bd3786"
            ],
            [
             0.5555555555555556,
             "#d8576b"
            ],
            [
             0.6666666666666666,
             "#ed7953"
            ],
            [
             0.7777777777777778,
             "#fb9f3a"
            ],
            [
             0.8888888888888888,
             "#fdca26"
            ],
            [
             1,
             "#f0f921"
            ]
           ]
          },
          "colorway": [
           "#636efa",
           "#EF553B",
           "#00cc96",
           "#ab63fa",
           "#FFA15A",
           "#19d3f3",
           "#FF6692",
           "#B6E880",
           "#FF97FF",
           "#FECB52"
          ],
          "font": {
           "color": "#2a3f5f"
          },
          "geo": {
           "bgcolor": "white",
           "lakecolor": "white",
           "landcolor": "#E5ECF6",
           "showlakes": true,
           "showland": true,
           "subunitcolor": "white"
          },
          "hoverlabel": {
           "align": "left"
          },
          "hovermode": "closest",
          "mapbox": {
           "style": "light"
          },
          "paper_bgcolor": "white",
          "plot_bgcolor": "#E5ECF6",
          "polar": {
           "angularaxis": {
            "gridcolor": "white",
            "linecolor": "white",
            "ticks": ""
           },
           "bgcolor": "#E5ECF6",
           "radialaxis": {
            "gridcolor": "white",
            "linecolor": "white",
            "ticks": ""
           }
          },
          "scene": {
           "xaxis": {
            "backgroundcolor": "#E5ECF6",
            "gridcolor": "white",
            "gridwidth": 2,
            "linecolor": "white",
            "showbackground": true,
            "ticks": "",
            "zerolinecolor": "white"
           },
           "yaxis": {
            "backgroundcolor": "#E5ECF6",
            "gridcolor": "white",
            "gridwidth": 2,
            "linecolor": "white",
            "showbackground": true,
            "ticks": "",
            "zerolinecolor": "white"
           },
           "zaxis": {
            "backgroundcolor": "#E5ECF6",
            "gridcolor": "white",
            "gridwidth": 2,
            "linecolor": "white",
            "showbackground": true,
            "ticks": "",
            "zerolinecolor": "white"
           }
          },
          "shapedefaults": {
           "line": {
            "color": "#2a3f5f"
           }
          },
          "ternary": {
           "aaxis": {
            "gridcolor": "white",
            "linecolor": "white",
            "ticks": ""
           },
           "baxis": {
            "gridcolor": "white",
            "linecolor": "white",
            "ticks": ""
           },
           "bgcolor": "#E5ECF6",
           "caxis": {
            "gridcolor": "white",
            "linecolor": "white",
            "ticks": ""
           }
          },
          "title": {
           "x": 0.05
          },
          "xaxis": {
           "automargin": true,
           "gridcolor": "white",
           "linecolor": "white",
           "ticks": "",
           "title": {
            "standoff": 15
           },
           "zerolinecolor": "white",
           "zerolinewidth": 2
          },
          "yaxis": {
           "automargin": true,
           "gridcolor": "white",
           "linecolor": "white",
           "ticks": "",
           "title": {
            "standoff": 15
           },
           "zerolinecolor": "white",
           "zerolinewidth": 2
          }
         }
        },
        "xaxis": {
         "anchor": "y",
         "domain": [
          0,
          1
         ],
         "title": {
          "text": "index"
         }
        },
        "yaxis": {
         "anchor": "x",
         "domain": [
          0,
          1
         ],
         "title": {
          "text": "value"
         }
        }
       }
      }
     },
     "metadata": {}
    }
   ],
   "source": [
    "px.line(phd['출판년'].value_counts(sort=False))"
   ]
  },
  {
   "cell_type": "code",
   "execution_count": 36,
   "metadata": {},
   "outputs": [
    {
     "output_type": "display_data",
     "data": {
      "application/vnd.plotly.v1+json": {
       "config": {
        "plotlyServerURL": "https://plot.ly"
       },
       "data": [
        {
         "hovertemplate": "박사논문=출판년<br>연도=%{x}<br>논문수=%{y}<extra></extra>",
         "legendgroup": "출판년",
         "line": {
          "color": "#636efa",
          "dash": "solid"
         },
         "mode": "lines",
         "name": "출판년",
         "orientation": "v",
         "showlegend": true,
         "textposition": "top right",
         "type": "scatter",
         "x": [
          2000,
          2001,
          2002,
          2003,
          2004,
          2005,
          2006,
          2007,
          2008,
          2009,
          2010,
          2011,
          2012,
          2013,
          2014,
          2015,
          2016,
          2017,
          2018,
          2019
         ],
         "xaxis": "x",
         "y": [
          71,
          71,
          99,
          103,
          70,
          91,
          82,
          65,
          82,
          79,
          84,
          84,
          84,
          75,
          84,
          65,
          65,
          62,
          55,
          57
         ],
         "yaxis": "y"
        }
       ],
       "layout": {
        "legend": {
         "title": {
          "text": "박사논문"
         },
         "tracegroupgap": 0
        },
        "showlegend": false,
        "template": {
         "data": {
          "bar": [
           {
            "error_x": {
             "color": "#2a3f5f"
            },
            "error_y": {
             "color": "#2a3f5f"
            },
            "marker": {
             "line": {
              "color": "#E5ECF6",
              "width": 0.5
             }
            },
            "type": "bar"
           }
          ],
          "barpolar": [
           {
            "marker": {
             "line": {
              "color": "#E5ECF6",
              "width": 0.5
             }
            },
            "type": "barpolar"
           }
          ],
          "carpet": [
           {
            "aaxis": {
             "endlinecolor": "#2a3f5f",
             "gridcolor": "white",
             "linecolor": "white",
             "minorgridcolor": "white",
             "startlinecolor": "#2a3f5f"
            },
            "baxis": {
             "endlinecolor": "#2a3f5f",
             "gridcolor": "white",
             "linecolor": "white",
             "minorgridcolor": "white",
             "startlinecolor": "#2a3f5f"
            },
            "type": "carpet"
           }
          ],
          "choropleth": [
           {
            "colorbar": {
             "outlinewidth": 0,
             "ticks": ""
            },
            "type": "choropleth"
           }
          ],
          "contour": [
           {
            "colorbar": {
             "outlinewidth": 0,
             "ticks": ""
            },
            "colorscale": [
             [
              0,
              "#0d0887"
             ],
             [
              0.1111111111111111,
              "#46039f"
             ],
             [
              0.2222222222222222,
              "#7201a8"
             ],
             [
              0.3333333333333333,
              "#9c179e"
             ],
             [
              0.4444444444444444,
              "#bd3786"
             ],
             [
              0.5555555555555556,
              "#d8576b"
             ],
             [
              0.6666666666666666,
              "#ed7953"
             ],
             [
              0.7777777777777778,
              "#fb9f3a"
             ],
             [
              0.8888888888888888,
              "#fdca26"
             ],
             [
              1,
              "#f0f921"
             ]
            ],
            "type": "contour"
           }
          ],
          "contourcarpet": [
           {
            "colorbar": {
             "outlinewidth": 0,
             "ticks": ""
            },
            "type": "contourcarpet"
           }
          ],
          "heatmap": [
           {
            "colorbar": {
             "outlinewidth": 0,
             "ticks": ""
            },
            "colorscale": [
             [
              0,
              "#0d0887"
             ],
             [
              0.1111111111111111,
              "#46039f"
             ],
             [
              0.2222222222222222,
              "#7201a8"
             ],
             [
              0.3333333333333333,
              "#9c179e"
             ],
             [
              0.4444444444444444,
              "#bd3786"
             ],
             [
              0.5555555555555556,
              "#d8576b"
             ],
             [
              0.6666666666666666,
              "#ed7953"
             ],
             [
              0.7777777777777778,
              "#fb9f3a"
             ],
             [
              0.8888888888888888,
              "#fdca26"
             ],
             [
              1,
              "#f0f921"
             ]
            ],
            "type": "heatmap"
           }
          ],
          "heatmapgl": [
           {
            "colorbar": {
             "outlinewidth": 0,
             "ticks": ""
            },
            "colorscale": [
             [
              0,
              "#0d0887"
             ],
             [
              0.1111111111111111,
              "#46039f"
             ],
             [
              0.2222222222222222,
              "#7201a8"
             ],
             [
              0.3333333333333333,
              "#9c179e"
             ],
             [
              0.4444444444444444,
              "#bd3786"
             ],
             [
              0.5555555555555556,
              "#d8576b"
             ],
             [
              0.6666666666666666,
              "#ed7953"
             ],
             [
              0.7777777777777778,
              "#fb9f3a"
             ],
             [
              0.8888888888888888,
              "#fdca26"
             ],
             [
              1,
              "#f0f921"
             ]
            ],
            "type": "heatmapgl"
           }
          ],
          "histogram": [
           {
            "marker": {
             "colorbar": {
              "outlinewidth": 0,
              "ticks": ""
             }
            },
            "type": "histogram"
           }
          ],
          "histogram2d": [
           {
            "colorbar": {
             "outlinewidth": 0,
             "ticks": ""
            },
            "colorscale": [
             [
              0,
              "#0d0887"
             ],
             [
              0.1111111111111111,
              "#46039f"
             ],
             [
              0.2222222222222222,
              "#7201a8"
             ],
             [
              0.3333333333333333,
              "#9c179e"
             ],
             [
              0.4444444444444444,
              "#bd3786"
             ],
             [
              0.5555555555555556,
              "#d8576b"
             ],
             [
              0.6666666666666666,
              "#ed7953"
             ],
             [
              0.7777777777777778,
              "#fb9f3a"
             ],
             [
              0.8888888888888888,
              "#fdca26"
             ],
             [
              1,
              "#f0f921"
             ]
            ],
            "type": "histogram2d"
           }
          ],
          "histogram2dcontour": [
           {
            "colorbar": {
             "outlinewidth": 0,
             "ticks": ""
            },
            "colorscale": [
             [
              0,
              "#0d0887"
             ],
             [
              0.1111111111111111,
              "#46039f"
             ],
             [
              0.2222222222222222,
              "#7201a8"
             ],
             [
              0.3333333333333333,
              "#9c179e"
             ],
             [
              0.4444444444444444,
              "#bd3786"
             ],
             [
              0.5555555555555556,
              "#d8576b"
             ],
             [
              0.6666666666666666,
              "#ed7953"
             ],
             [
              0.7777777777777778,
              "#fb9f3a"
             ],
             [
              0.8888888888888888,
              "#fdca26"
             ],
             [
              1,
              "#f0f921"
             ]
            ],
            "type": "histogram2dcontour"
           }
          ],
          "mesh3d": [
           {
            "colorbar": {
             "outlinewidth": 0,
             "ticks": ""
            },
            "type": "mesh3d"
           }
          ],
          "parcoords": [
           {
            "line": {
             "colorbar": {
              "outlinewidth": 0,
              "ticks": ""
             }
            },
            "type": "parcoords"
           }
          ],
          "pie": [
           {
            "automargin": true,
            "type": "pie"
           }
          ],
          "scatter": [
           {
            "marker": {
             "colorbar": {
              "outlinewidth": 0,
              "ticks": ""
             }
            },
            "type": "scatter"
           }
          ],
          "scatter3d": [
           {
            "line": {
             "colorbar": {
              "outlinewidth": 0,
              "ticks": ""
             }
            },
            "marker": {
             "colorbar": {
              "outlinewidth": 0,
              "ticks": ""
             }
            },
            "type": "scatter3d"
           }
          ],
          "scattercarpet": [
           {
            "marker": {
             "colorbar": {
              "outlinewidth": 0,
              "ticks": ""
             }
            },
            "type": "scattercarpet"
           }
          ],
          "scattergeo": [
           {
            "marker": {
             "colorbar": {
              "outlinewidth": 0,
              "ticks": ""
             }
            },
            "type": "scattergeo"
           }
          ],
          "scattergl": [
           {
            "marker": {
             "colorbar": {
              "outlinewidth": 0,
              "ticks": ""
             }
            },
            "type": "scattergl"
           }
          ],
          "scattermapbox": [
           {
            "marker": {
             "colorbar": {
              "outlinewidth": 0,
              "ticks": ""
             }
            },
            "type": "scattermapbox"
           }
          ],
          "scatterpolar": [
           {
            "marker": {
             "colorbar": {
              "outlinewidth": 0,
              "ticks": ""
             }
            },
            "type": "scatterpolar"
           }
          ],
          "scatterpolargl": [
           {
            "marker": {
             "colorbar": {
              "outlinewidth": 0,
              "ticks": ""
             }
            },
            "type": "scatterpolargl"
           }
          ],
          "scatterternary": [
           {
            "marker": {
             "colorbar": {
              "outlinewidth": 0,
              "ticks": ""
             }
            },
            "type": "scatterternary"
           }
          ],
          "surface": [
           {
            "colorbar": {
             "outlinewidth": 0,
             "ticks": ""
            },
            "colorscale": [
             [
              0,
              "#0d0887"
             ],
             [
              0.1111111111111111,
              "#46039f"
             ],
             [
              0.2222222222222222,
              "#7201a8"
             ],
             [
              0.3333333333333333,
              "#9c179e"
             ],
             [
              0.4444444444444444,
              "#bd3786"
             ],
             [
              0.5555555555555556,
              "#d8576b"
             ],
             [
              0.6666666666666666,
              "#ed7953"
             ],
             [
              0.7777777777777778,
              "#fb9f3a"
             ],
             [
              0.8888888888888888,
              "#fdca26"
             ],
             [
              1,
              "#f0f921"
             ]
            ],
            "type": "surface"
           }
          ],
          "table": [
           {
            "cells": {
             "fill": {
              "color": "#EBF0F8"
             },
             "line": {
              "color": "white"
             }
            },
            "header": {
             "fill": {
              "color": "#C8D4E3"
             },
             "line": {
              "color": "white"
             }
            },
            "type": "table"
           }
          ]
         },
         "layout": {
          "annotationdefaults": {
           "arrowcolor": "#2a3f5f",
           "arrowhead": 0,
           "arrowwidth": 1
          },
          "autotypenumbers": "strict",
          "coloraxis": {
           "colorbar": {
            "outlinewidth": 0,
            "ticks": ""
           }
          },
          "colorscale": {
           "diverging": [
            [
             0,
             "#8e0152"
            ],
            [
             0.1,
             "#c51b7d"
            ],
            [
             0.2,
             "#de77ae"
            ],
            [
             0.3,
             "#f1b6da"
            ],
            [
             0.4,
             "#fde0ef"
            ],
            [
             0.5,
             "#f7f7f7"
            ],
            [
             0.6,
             "#e6f5d0"
            ],
            [
             0.7,
             "#b8e186"
            ],
            [
             0.8,
             "#7fbc41"
            ],
            [
             0.9,
             "#4d9221"
            ],
            [
             1,
             "#276419"
            ]
           ],
           "sequential": [
            [
             0,
             "#0d0887"
            ],
            [
             0.1111111111111111,
             "#46039f"
            ],
            [
             0.2222222222222222,
             "#7201a8"
            ],
            [
             0.3333333333333333,
             "#9c179e"
            ],
            [
             0.4444444444444444,
             "#bd3786"
            ],
            [
             0.5555555555555556,
             "#d8576b"
            ],
            [
             0.6666666666666666,
             "#ed7953"
            ],
            [
             0.7777777777777778,
             "#fb9f3a"
            ],
            [
             0.8888888888888888,
             "#fdca26"
            ],
            [
             1,
             "#f0f921"
            ]
           ],
           "sequentialminus": [
            [
             0,
             "#0d0887"
            ],
            [
             0.1111111111111111,
             "#46039f"
            ],
            [
             0.2222222222222222,
             "#7201a8"
            ],
            [
             0.3333333333333333,
             "#9c179e"
            ],
            [
             0.4444444444444444,
             "#bd3786"
            ],
            [
             0.5555555555555556,
             "#d8576b"
            ],
            [
             0.6666666666666666,
             "#ed7953"
            ],
            [
             0.7777777777777778,
             "#fb9f3a"
            ],
            [
             0.8888888888888888,
             "#fdca26"
            ],
            [
             1,
             "#f0f921"
            ]
           ]
          },
          "colorway": [
           "#636efa",
           "#EF553B",
           "#00cc96",
           "#ab63fa",
           "#FFA15A",
           "#19d3f3",
           "#FF6692",
           "#B6E880",
           "#FF97FF",
           "#FECB52"
          ],
          "font": {
           "color": "#2a3f5f"
          },
          "geo": {
           "bgcolor": "white",
           "lakecolor": "white",
           "landcolor": "#E5ECF6",
           "showlakes": true,
           "showland": true,
           "subunitcolor": "white"
          },
          "hoverlabel": {
           "align": "left"
          },
          "hovermode": "closest",
          "mapbox": {
           "style": "light"
          },
          "paper_bgcolor": "white",
          "plot_bgcolor": "#E5ECF6",
          "polar": {
           "angularaxis": {
            "gridcolor": "white",
            "linecolor": "white",
            "ticks": ""
           },
           "bgcolor": "#E5ECF6",
           "radialaxis": {
            "gridcolor": "white",
            "linecolor": "white",
            "ticks": ""
           }
          },
          "scene": {
           "xaxis": {
            "backgroundcolor": "#E5ECF6",
            "gridcolor": "white",
            "gridwidth": 2,
            "linecolor": "white",
            "showbackground": true,
            "ticks": "",
            "zerolinecolor": "white"
           },
           "yaxis": {
            "backgroundcolor": "#E5ECF6",
            "gridcolor": "white",
            "gridwidth": 2,
            "linecolor": "white",
            "showbackground": true,
            "ticks": "",
            "zerolinecolor": "white"
           },
           "zaxis": {
            "backgroundcolor": "#E5ECF6",
            "gridcolor": "white",
            "gridwidth": 2,
            "linecolor": "white",
            "showbackground": true,
            "ticks": "",
            "zerolinecolor": "white"
           }
          },
          "shapedefaults": {
           "line": {
            "color": "#2a3f5f"
           }
          },
          "ternary": {
           "aaxis": {
            "gridcolor": "white",
            "linecolor": "white",
            "ticks": ""
           },
           "baxis": {
            "gridcolor": "white",
            "linecolor": "white",
            "ticks": ""
           },
           "bgcolor": "#E5ECF6",
           "caxis": {
            "gridcolor": "white",
            "linecolor": "white",
            "ticks": ""
           }
          },
          "title": {
           "x": 0.05
          },
          "xaxis": {
           "automargin": true,
           "gridcolor": "white",
           "linecolor": "white",
           "ticks": "",
           "title": {
            "standoff": 15
           },
           "zerolinecolor": "white",
           "zerolinewidth": 2
          },
          "yaxis": {
           "automargin": true,
           "gridcolor": "white",
           "linecolor": "white",
           "ticks": "",
           "title": {
            "standoff": 15
           },
           "zerolinecolor": "white",
           "zerolinewidth": 2
          }
         }
        },
        "title": {
         "text": "연도별 박사학위 논문 배출 변화 추이"
        },
        "xaxis": {
         "anchor": "y",
         "domain": [
          0,
          1
         ],
         "title": {
          "text": "연도"
         }
        },
        "yaxis": {
         "anchor": "x",
         "domain": [
          0,
          1
         ],
         "title": {
          "text": "논문수"
         }
        }
       }
      }
     },
     "metadata": {}
    }
   ],
   "source": [
    "phd_year = px.line(phd['출판년'].value_counts(sort=False),\n",
    "        labels = dict(index='연도',value='논문수',variable='박사논문'), title = '연도별 박사학위 논문 배출 변화 추이')\n",
    "phd_year.update_traces(textposition='top right')\n",
    "phd_year.update_layout(showlegend=False)\n",
    "phd_year.show()"
   ]
  },
  {
   "cell_type": "code",
   "execution_count": 37,
   "metadata": {},
   "outputs": [
    {
     "output_type": "display_data",
     "data": {
      "application/vnd.plotly.v1+json": {
       "config": {
        "plotlyServerURL": "https://plot.ly"
       },
       "data": [
        {
         "hovertemplate": "박사논문=출판년<br>연도=%{x}<br>논문수=%{y}<extra></extra>",
         "legendgroup": "출판년",
         "line": {
          "color": "#636efa",
          "dash": "solid"
         },
         "mode": "lines",
         "name": "출판년",
         "orientation": "v",
         "showlegend": true,
         "textposition": "top right",
         "type": "scatter",
         "x": [
          2000,
          2001,
          2002,
          2003,
          2004,
          2005,
          2006,
          2007,
          2008,
          2009,
          2010,
          2011,
          2012,
          2013,
          2014,
          2015,
          2016,
          2017,
          2018,
          2019
         ],
         "xaxis": "x",
         "y": [
          71,
          71,
          99,
          103,
          70,
          91,
          82,
          65,
          82,
          79,
          84,
          84,
          84,
          75,
          84,
          65,
          65,
          62,
          55,
          57
         ],
         "yaxis": "y"
        }
       ],
       "layout": {
        "annotations": [
         {
          "align": "center",
          "arrowcolor": "#636363",
          "arrowhead": 2,
          "arrowsize": 1,
          "arrowwidth": 2,
          "ax": 20,
          "ay": -30,
          "bgcolor": "#ff7f0e",
          "bordercolor": "#c7c7c7",
          "borderpad": 4,
          "borderwidth": 2,
          "font": {
           "color": "#ffffff",
           "family": "Malgun gothic, monospace",
           "size": 16
          },
          "opacity": 0.8,
          "showarrow": true,
          "text": "최댓값-103건",
          "x": 2003,
          "xref": "x",
          "y": 103,
          "yref": "y"
         }
        ],
        "legend": {
         "title": {
          "text": "박사논문"
         },
         "tracegroupgap": 0
        },
        "showlegend": false,
        "template": {
         "data": {
          "bar": [
           {
            "error_x": {
             "color": "#2a3f5f"
            },
            "error_y": {
             "color": "#2a3f5f"
            },
            "marker": {
             "line": {
              "color": "#E5ECF6",
              "width": 0.5
             }
            },
            "type": "bar"
           }
          ],
          "barpolar": [
           {
            "marker": {
             "line": {
              "color": "#E5ECF6",
              "width": 0.5
             }
            },
            "type": "barpolar"
           }
          ],
          "carpet": [
           {
            "aaxis": {
             "endlinecolor": "#2a3f5f",
             "gridcolor": "white",
             "linecolor": "white",
             "minorgridcolor": "white",
             "startlinecolor": "#2a3f5f"
            },
            "baxis": {
             "endlinecolor": "#2a3f5f",
             "gridcolor": "white",
             "linecolor": "white",
             "minorgridcolor": "white",
             "startlinecolor": "#2a3f5f"
            },
            "type": "carpet"
           }
          ],
          "choropleth": [
           {
            "colorbar": {
             "outlinewidth": 0,
             "ticks": ""
            },
            "type": "choropleth"
           }
          ],
          "contour": [
           {
            "colorbar": {
             "outlinewidth": 0,
             "ticks": ""
            },
            "colorscale": [
             [
              0,
              "#0d0887"
             ],
             [
              0.1111111111111111,
              "#46039f"
             ],
             [
              0.2222222222222222,
              "#7201a8"
             ],
             [
              0.3333333333333333,
              "#9c179e"
             ],
             [
              0.4444444444444444,
              "#bd3786"
             ],
             [
              0.5555555555555556,
              "#d8576b"
             ],
             [
              0.6666666666666666,
              "#ed7953"
             ],
             [
              0.7777777777777778,
              "#fb9f3a"
             ],
             [
              0.8888888888888888,
              "#fdca26"
             ],
             [
              1,
              "#f0f921"
             ]
            ],
            "type": "contour"
           }
          ],
          "contourcarpet": [
           {
            "colorbar": {
             "outlinewidth": 0,
             "ticks": ""
            },
            "type": "contourcarpet"
           }
          ],
          "heatmap": [
           {
            "colorbar": {
             "outlinewidth": 0,
             "ticks": ""
            },
            "colorscale": [
             [
              0,
              "#0d0887"
             ],
             [
              0.1111111111111111,
              "#46039f"
             ],
             [
              0.2222222222222222,
              "#7201a8"
             ],
             [
              0.3333333333333333,
              "#9c179e"
             ],
             [
              0.4444444444444444,
              "#bd3786"
             ],
             [
              0.5555555555555556,
              "#d8576b"
             ],
             [
              0.6666666666666666,
              "#ed7953"
             ],
             [
              0.7777777777777778,
              "#fb9f3a"
             ],
             [
              0.8888888888888888,
              "#fdca26"
             ],
             [
              1,
              "#f0f921"
             ]
            ],
            "type": "heatmap"
           }
          ],
          "heatmapgl": [
           {
            "colorbar": {
             "outlinewidth": 0,
             "ticks": ""
            },
            "colorscale": [
             [
              0,
              "#0d0887"
             ],
             [
              0.1111111111111111,
              "#46039f"
             ],
             [
              0.2222222222222222,
              "#7201a8"
             ],
             [
              0.3333333333333333,
              "#9c179e"
             ],
             [
              0.4444444444444444,
              "#bd3786"
             ],
             [
              0.5555555555555556,
              "#d8576b"
             ],
             [
              0.6666666666666666,
              "#ed7953"
             ],
             [
              0.7777777777777778,
              "#fb9f3a"
             ],
             [
              0.8888888888888888,
              "#fdca26"
             ],
             [
              1,
              "#f0f921"
             ]
            ],
            "type": "heatmapgl"
           }
          ],
          "histogram": [
           {
            "marker": {
             "colorbar": {
              "outlinewidth": 0,
              "ticks": ""
             }
            },
            "type": "histogram"
           }
          ],
          "histogram2d": [
           {
            "colorbar": {
             "outlinewidth": 0,
             "ticks": ""
            },
            "colorscale": [
             [
              0,
              "#0d0887"
             ],
             [
              0.1111111111111111,
              "#46039f"
             ],
             [
              0.2222222222222222,
              "#7201a8"
             ],
             [
              0.3333333333333333,
              "#9c179e"
             ],
             [
              0.4444444444444444,
              "#bd3786"
             ],
             [
              0.5555555555555556,
              "#d8576b"
             ],
             [
              0.6666666666666666,
              "#ed7953"
             ],
             [
              0.7777777777777778,
              "#fb9f3a"
             ],
             [
              0.8888888888888888,
              "#fdca26"
             ],
             [
              1,
              "#f0f921"
             ]
            ],
            "type": "histogram2d"
           }
          ],
          "histogram2dcontour": [
           {
            "colorbar": {
             "outlinewidth": 0,
             "ticks": ""
            },
            "colorscale": [
             [
              0,
              "#0d0887"
             ],
             [
              0.1111111111111111,
              "#46039f"
             ],
             [
              0.2222222222222222,
              "#7201a8"
             ],
             [
              0.3333333333333333,
              "#9c179e"
             ],
             [
              0.4444444444444444,
              "#bd3786"
             ],
             [
              0.5555555555555556,
              "#d8576b"
             ],
             [
              0.6666666666666666,
              "#ed7953"
             ],
             [
              0.7777777777777778,
              "#fb9f3a"
             ],
             [
              0.8888888888888888,
              "#fdca26"
             ],
             [
              1,
              "#f0f921"
             ]
            ],
            "type": "histogram2dcontour"
           }
          ],
          "mesh3d": [
           {
            "colorbar": {
             "outlinewidth": 0,
             "ticks": ""
            },
            "type": "mesh3d"
           }
          ],
          "parcoords": [
           {
            "line": {
             "colorbar": {
              "outlinewidth": 0,
              "ticks": ""
             }
            },
            "type": "parcoords"
           }
          ],
          "pie": [
           {
            "automargin": true,
            "type": "pie"
           }
          ],
          "scatter": [
           {
            "marker": {
             "colorbar": {
              "outlinewidth": 0,
              "ticks": ""
             }
            },
            "type": "scatter"
           }
          ],
          "scatter3d": [
           {
            "line": {
             "colorbar": {
              "outlinewidth": 0,
              "ticks": ""
             }
            },
            "marker": {
             "colorbar": {
              "outlinewidth": 0,
              "ticks": ""
             }
            },
            "type": "scatter3d"
           }
          ],
          "scattercarpet": [
           {
            "marker": {
             "colorbar": {
              "outlinewidth": 0,
              "ticks": ""
             }
            },
            "type": "scattercarpet"
           }
          ],
          "scattergeo": [
           {
            "marker": {
             "colorbar": {
              "outlinewidth": 0,
              "ticks": ""
             }
            },
            "type": "scattergeo"
           }
          ],
          "scattergl": [
           {
            "marker": {
             "colorbar": {
              "outlinewidth": 0,
              "ticks": ""
             }
            },
            "type": "scattergl"
           }
          ],
          "scattermapbox": [
           {
            "marker": {
             "colorbar": {
              "outlinewidth": 0,
              "ticks": ""
             }
            },
            "type": "scattermapbox"
           }
          ],
          "scatterpolar": [
           {
            "marker": {
             "colorbar": {
              "outlinewidth": 0,
              "ticks": ""
             }
            },
            "type": "scatterpolar"
           }
          ],
          "scatterpolargl": [
           {
            "marker": {
             "colorbar": {
              "outlinewidth": 0,
              "ticks": ""
             }
            },
            "type": "scatterpolargl"
           }
          ],
          "scatterternary": [
           {
            "marker": {
             "colorbar": {
              "outlinewidth": 0,
              "ticks": ""
             }
            },
            "type": "scatterternary"
           }
          ],
          "surface": [
           {
            "colorbar": {
             "outlinewidth": 0,
             "ticks": ""
            },
            "colorscale": [
             [
              0,
              "#0d0887"
             ],
             [
              0.1111111111111111,
              "#46039f"
             ],
             [
              0.2222222222222222,
              "#7201a8"
             ],
             [
              0.3333333333333333,
              "#9c179e"
             ],
             [
              0.4444444444444444,
              "#bd3786"
             ],
             [
              0.5555555555555556,
              "#d8576b"
             ],
             [
              0.6666666666666666,
              "#ed7953"
             ],
             [
              0.7777777777777778,
              "#fb9f3a"
             ],
             [
              0.8888888888888888,
              "#fdca26"
             ],
             [
              1,
              "#f0f921"
             ]
            ],
            "type": "surface"
           }
          ],
          "table": [
           {
            "cells": {
             "fill": {
              "color": "#EBF0F8"
             },
             "line": {
              "color": "white"
             }
            },
            "header": {
             "fill": {
              "color": "#C8D4E3"
             },
             "line": {
              "color": "white"
             }
            },
            "type": "table"
           }
          ]
         },
         "layout": {
          "annotationdefaults": {
           "arrowcolor": "#2a3f5f",
           "arrowhead": 0,
           "arrowwidth": 1
          },
          "autotypenumbers": "strict",
          "coloraxis": {
           "colorbar": {
            "outlinewidth": 0,
            "ticks": ""
           }
          },
          "colorscale": {
           "diverging": [
            [
             0,
             "#8e0152"
            ],
            [
             0.1,
             "#c51b7d"
            ],
            [
             0.2,
             "#de77ae"
            ],
            [
             0.3,
             "#f1b6da"
            ],
            [
             0.4,
             "#fde0ef"
            ],
            [
             0.5,
             "#f7f7f7"
            ],
            [
             0.6,
             "#e6f5d0"
            ],
            [
             0.7,
             "#b8e186"
            ],
            [
             0.8,
             "#7fbc41"
            ],
            [
             0.9,
             "#4d9221"
            ],
            [
             1,
             "#276419"
            ]
           ],
           "sequential": [
            [
             0,
             "#0d0887"
            ],
            [
             0.1111111111111111,
             "#46039f"
            ],
            [
             0.2222222222222222,
             "#7201a8"
            ],
            [
             0.3333333333333333,
             "#9c179e"
            ],
            [
             0.4444444444444444,
             "#bd3786"
            ],
            [
             0.5555555555555556,
             "#d8576b"
            ],
            [
             0.6666666666666666,
             "#ed7953"
            ],
            [
             0.7777777777777778,
             "#fb9f3a"
            ],
            [
             0.8888888888888888,
             "#fdca26"
            ],
            [
             1,
             "#f0f921"
            ]
           ],
           "sequentialminus": [
            [
             0,
             "#0d0887"
            ],
            [
             0.1111111111111111,
             "#46039f"
            ],
            [
             0.2222222222222222,
             "#7201a8"
            ],
            [
             0.3333333333333333,
             "#9c179e"
            ],
            [
             0.4444444444444444,
             "#bd3786"
            ],
            [
             0.5555555555555556,
             "#d8576b"
            ],
            [
             0.6666666666666666,
             "#ed7953"
            ],
            [
             0.7777777777777778,
             "#fb9f3a"
            ],
            [
             0.8888888888888888,
             "#fdca26"
            ],
            [
             1,
             "#f0f921"
            ]
           ]
          },
          "colorway": [
           "#636efa",
           "#EF553B",
           "#00cc96",
           "#ab63fa",
           "#FFA15A",
           "#19d3f3",
           "#FF6692",
           "#B6E880",
           "#FF97FF",
           "#FECB52"
          ],
          "font": {
           "color": "#2a3f5f"
          },
          "geo": {
           "bgcolor": "white",
           "lakecolor": "white",
           "landcolor": "#E5ECF6",
           "showlakes": true,
           "showland": true,
           "subunitcolor": "white"
          },
          "hoverlabel": {
           "align": "left"
          },
          "hovermode": "closest",
          "mapbox": {
           "style": "light"
          },
          "paper_bgcolor": "white",
          "plot_bgcolor": "#E5ECF6",
          "polar": {
           "angularaxis": {
            "gridcolor": "white",
            "linecolor": "white",
            "ticks": ""
           },
           "bgcolor": "#E5ECF6",
           "radialaxis": {
            "gridcolor": "white",
            "linecolor": "white",
            "ticks": ""
           }
          },
          "scene": {
           "xaxis": {
            "backgroundcolor": "#E5ECF6",
            "gridcolor": "white",
            "gridwidth": 2,
            "linecolor": "white",
            "showbackground": true,
            "ticks": "",
            "zerolinecolor": "white"
           },
           "yaxis": {
            "backgroundcolor": "#E5ECF6",
            "gridcolor": "white",
            "gridwidth": 2,
            "linecolor": "white",
            "showbackground": true,
            "ticks": "",
            "zerolinecolor": "white"
           },
           "zaxis": {
            "backgroundcolor": "#E5ECF6",
            "gridcolor": "white",
            "gridwidth": 2,
            "linecolor": "white",
            "showbackground": true,
            "ticks": "",
            "zerolinecolor": "white"
           }
          },
          "shapedefaults": {
           "line": {
            "color": "#2a3f5f"
           }
          },
          "ternary": {
           "aaxis": {
            "gridcolor": "white",
            "linecolor": "white",
            "ticks": ""
           },
           "baxis": {
            "gridcolor": "white",
            "linecolor": "white",
            "ticks": ""
           },
           "bgcolor": "#E5ECF6",
           "caxis": {
            "gridcolor": "white",
            "linecolor": "white",
            "ticks": ""
           }
          },
          "title": {
           "x": 0.05
          },
          "xaxis": {
           "automargin": true,
           "gridcolor": "white",
           "linecolor": "white",
           "ticks": "",
           "title": {
            "standoff": 15
           },
           "zerolinecolor": "white",
           "zerolinewidth": 2
          },
          "yaxis": {
           "automargin": true,
           "gridcolor": "white",
           "linecolor": "white",
           "ticks": "",
           "title": {
            "standoff": 15
           },
           "zerolinecolor": "white",
           "zerolinewidth": 2
          }
         }
        },
        "title": {
         "text": "연도별 박사학위 논문 배출 변화 추이"
        },
        "xaxis": {
         "anchor": "y",
         "domain": [
          0,
          1
         ],
         "title": {
          "text": "연도"
         }
        },
        "yaxis": {
         "anchor": "x",
         "domain": [
          0,
          1
         ],
         "title": {
          "text": "논문수"
         }
        }
       }
      }
     },
     "metadata": {}
    }
   ],
   "source": [
    "phd_year.add_annotation(\n",
    "        x=2003,\n",
    "        y=103,\n",
    "        xref=\"x\",\n",
    "        yref=\"y\",\n",
    "        text=\"최댓값-103건\",\n",
    "        showarrow=True,\n",
    "        font=dict(\n",
    "            family=\"Malgun gothic, monospace\",\n",
    "            size=16,\n",
    "            color=\"#ffffff\"\n",
    "            ),\n",
    "        align=\"center\",\n",
    "        arrowhead=2,\n",
    "        arrowsize=1,\n",
    "        arrowwidth=2,\n",
    "        arrowcolor=\"#636363\",\n",
    "        ax=20,\n",
    "        ay=-30,\n",
    "        bordercolor=\"#c7c7c7\",\n",
    "        borderwidth=2,\n",
    "        borderpad=4,\n",
    "        bgcolor=\"#ff7f0e\",\n",
    "        opacity=0.8\n",
    "        )"
   ]
  },
  {
   "cell_type": "code",
   "execution_count": 38,
   "metadata": {},
   "outputs": [
    {
     "output_type": "execute_result",
     "data": {
      "text/plain": [
       "'{\"data\":[{\"hovertemplate\":\"\\\\ubc15\\\\uc0ac\\\\ub17c\\\\ubb38=\\\\ucd9c\\\\ud310\\\\ub144<br>\\\\uc5f0\\\\ub3c4=%{x}<br>\\\\ub17c\\\\ubb38\\\\uc218=%{y}<extra></extra>\",\"legendgroup\":\"\\\\ucd9c\\\\ud310\\\\ub144\",\"line\":{\"color\":\"#636efa\",\"dash\":\"solid\"},\"mode\":\"lines\",\"name\":\"\\\\ucd9c\\\\ud310\\\\ub144\",\"orientation\":\"v\",\"showlegend\":true,\"textposition\":\"top right\",\"type\":\"scatter\",\"x\":[2000,2001,2002,2003,2004,2005,2006,2007,2008,2009,2010,2011,2012,2013,2014,2015,2016,2017,2018,2019],\"xaxis\":\"x\",\"y\":[71,71,99,103,70,91,82,65,82,79,84,84,84,75,84,65,65,62,55,57],\"yaxis\":\"y\"}],\"layout\":{\"annotations\":[{\"align\":\"center\",\"arrowcolor\":\"#636363\",\"arrowhead\":2,\"arrowsize\":1,\"arrowwidth\":2,\"ax\":20,\"ay\":-30,\"bgcolor\":\"#ff7f0e\",\"bordercolor\":\"#c7c7c7\",\"borderpad\":4,\"borderwidth\":2,\"font\":{\"color\":\"#ffffff\",\"family\":\"Malgun gothic, monospace\",\"size\":16},\"opacity\":0.8,\"showarrow\":true,\"text\":\"\\\\ucd5c\\\\ub313\\\\uac12-103\\\\uac74\",\"x\":2003,\"xref\":\"x\",\"y\":103,\"yref\":\"y\"}],\"legend\":{\"title\":{\"text\":\"\\\\ubc15\\\\uc0ac\\\\ub17c\\\\ubb38\"},\"tracegroupgap\":0},\"showlegend\":false,\"template\":{\"data\":{\"bar\":[{\"error_x\":{\"color\":\"#2a3f5f\"},\"error_y\":{\"color\":\"#2a3f5f\"},\"marker\":{\"line\":{\"color\":\"#E5ECF6\",\"width\":0.5}},\"type\":\"bar\"}],\"barpolar\":[{\"marker\":{\"line\":{\"color\":\"#E5ECF6\",\"width\":0.5}},\"type\":\"barpolar\"}],\"carpet\":[{\"aaxis\":{\"endlinecolor\":\"#2a3f5f\",\"gridcolor\":\"white\",\"linecolor\":\"white\",\"minorgridcolor\":\"white\",\"startlinecolor\":\"#2a3f5f\"},\"baxis\":{\"endlinecolor\":\"#2a3f5f\",\"gridcolor\":\"white\",\"linecolor\":\"white\",\"minorgridcolor\":\"white\",\"startlinecolor\":\"#2a3f5f\"},\"type\":\"carpet\"}],\"choropleth\":[{\"colorbar\":{\"outlinewidth\":0,\"ticks\":\"\"},\"type\":\"choropleth\"}],\"contour\":[{\"colorbar\":{\"outlinewidth\":0,\"ticks\":\"\"},\"colorscale\":[[0.0,\"#0d0887\"],[0.1111111111111111,\"#46039f\"],[0.2222222222222222,\"#7201a8\"],[0.3333333333333333,\"#9c179e\"],[0.4444444444444444,\"#bd3786\"],[0.5555555555555556,\"#d8576b\"],[0.6666666666666666,\"#ed7953\"],[0.7777777777777778,\"#fb9f3a\"],[0.8888888888888888,\"#fdca26\"],[1.0,\"#f0f921\"]],\"type\":\"contour\"}],\"contourcarpet\":[{\"colorbar\":{\"outlinewidth\":0,\"ticks\":\"\"},\"type\":\"contourcarpet\"}],\"heatmap\":[{\"colorbar\":{\"outlinewidth\":0,\"ticks\":\"\"},\"colorscale\":[[0.0,\"#0d0887\"],[0.1111111111111111,\"#46039f\"],[0.2222222222222222,\"#7201a8\"],[0.3333333333333333,\"#9c179e\"],[0.4444444444444444,\"#bd3786\"],[0.5555555555555556,\"#d8576b\"],[0.6666666666666666,\"#ed7953\"],[0.7777777777777778,\"#fb9f3a\"],[0.8888888888888888,\"#fdca26\"],[1.0,\"#f0f921\"]],\"type\":\"heatmap\"}],\"heatmapgl\":[{\"colorbar\":{\"outlinewidth\":0,\"ticks\":\"\"},\"colorscale\":[[0.0,\"#0d0887\"],[0.1111111111111111,\"#46039f\"],[0.2222222222222222,\"#7201a8\"],[0.3333333333333333,\"#9c179e\"],[0.4444444444444444,\"#bd3786\"],[0.5555555555555556,\"#d8576b\"],[0.6666666666666666,\"#ed7953\"],[0.7777777777777778,\"#fb9f3a\"],[0.8888888888888888,\"#fdca26\"],[1.0,\"#f0f921\"]],\"type\":\"heatmapgl\"}],\"histogram\":[{\"marker\":{\"colorbar\":{\"outlinewidth\":0,\"ticks\":\"\"}},\"type\":\"histogram\"}],\"histogram2d\":[{\"colorbar\":{\"outlinewidth\":0,\"ticks\":\"\"},\"colorscale\":[[0.0,\"#0d0887\"],[0.1111111111111111,\"#46039f\"],[0.2222222222222222,\"#7201a8\"],[0.3333333333333333,\"#9c179e\"],[0.4444444444444444,\"#bd3786\"],[0.5555555555555556,\"#d8576b\"],[0.6666666666666666,\"#ed7953\"],[0.7777777777777778,\"#fb9f3a\"],[0.8888888888888888,\"#fdca26\"],[1.0,\"#f0f921\"]],\"type\":\"histogram2d\"}],\"histogram2dcontour\":[{\"colorbar\":{\"outlinewidth\":0,\"ticks\":\"\"},\"colorscale\":[[0.0,\"#0d0887\"],[0.1111111111111111,\"#46039f\"],[0.2222222222222222,\"#7201a8\"],[0.3333333333333333,\"#9c179e\"],[0.4444444444444444,\"#bd3786\"],[0.5555555555555556,\"#d8576b\"],[0.6666666666666666,\"#ed7953\"],[0.7777777777777778,\"#fb9f3a\"],[0.8888888888888888,\"#fdca26\"],[1.0,\"#f0f921\"]],\"type\":\"histogram2dcontour\"}],\"mesh3d\":[{\"colorbar\":{\"outlinewidth\":0,\"ticks\":\"\"},\"type\":\"mesh3d\"}],\"parcoords\":[{\"line\":{\"colorbar\":{\"outlinewidth\":0,\"ticks\":\"\"}},\"type\":\"parcoords\"}],\"pie\":[{\"automargin\":true,\"type\":\"pie\"}],\"scatter\":[{\"marker\":{\"colorbar\":{\"outlinewidth\":0,\"ticks\":\"\"}},\"type\":\"scatter\"}],\"scatter3d\":[{\"line\":{\"colorbar\":{\"outlinewidth\":0,\"ticks\":\"\"}},\"marker\":{\"colorbar\":{\"outlinewidth\":0,\"ticks\":\"\"}},\"type\":\"scatter3d\"}],\"scattercarpet\":[{\"marker\":{\"colorbar\":{\"outlinewidth\":0,\"ticks\":\"\"}},\"type\":\"scattercarpet\"}],\"scattergeo\":[{\"marker\":{\"colorbar\":{\"outlinewidth\":0,\"ticks\":\"\"}},\"type\":\"scattergeo\"}],\"scattergl\":[{\"marker\":{\"colorbar\":{\"outlinewidth\":0,\"ticks\":\"\"}},\"type\":\"scattergl\"}],\"scattermapbox\":[{\"marker\":{\"colorbar\":{\"outlinewidth\":0,\"ticks\":\"\"}},\"type\":\"scattermapbox\"}],\"scatterpolar\":[{\"marker\":{\"colorbar\":{\"outlinewidth\":0,\"ticks\":\"\"}},\"type\":\"scatterpolar\"}],\"scatterpolargl\":[{\"marker\":{\"colorbar\":{\"outlinewidth\":0,\"ticks\":\"\"}},\"type\":\"scatterpolargl\"}],\"scatterternary\":[{\"marker\":{\"colorbar\":{\"outlinewidth\":0,\"ticks\":\"\"}},\"type\":\"scatterternary\"}],\"surface\":[{\"colorbar\":{\"outlinewidth\":0,\"ticks\":\"\"},\"colorscale\":[[0.0,\"#0d0887\"],[0.1111111111111111,\"#46039f\"],[0.2222222222222222,\"#7201a8\"],[0.3333333333333333,\"#9c179e\"],[0.4444444444444444,\"#bd3786\"],[0.5555555555555556,\"#d8576b\"],[0.6666666666666666,\"#ed7953\"],[0.7777777777777778,\"#fb9f3a\"],[0.8888888888888888,\"#fdca26\"],[1.0,\"#f0f921\"]],\"type\":\"surface\"}],\"table\":[{\"cells\":{\"fill\":{\"color\":\"#EBF0F8\"},\"line\":{\"color\":\"white\"}},\"header\":{\"fill\":{\"color\":\"#C8D4E3\"},\"line\":{\"color\":\"white\"}},\"type\":\"table\"}]},\"layout\":{\"annotationdefaults\":{\"arrowcolor\":\"#2a3f5f\",\"arrowhead\":0,\"arrowwidth\":1},\"autotypenumbers\":\"strict\",\"coloraxis\":{\"colorbar\":{\"outlinewidth\":0,\"ticks\":\"\"}},\"colorscale\":{\"diverging\":[[0,\"#8e0152\"],[0.1,\"#c51b7d\"],[0.2,\"#de77ae\"],[0.3,\"#f1b6da\"],[0.4,\"#fde0ef\"],[0.5,\"#f7f7f7\"],[0.6,\"#e6f5d0\"],[0.7,\"#b8e186\"],[0.8,\"#7fbc41\"],[0.9,\"#4d9221\"],[1,\"#276419\"]],\"sequential\":[[0.0,\"#0d0887\"],[0.1111111111111111,\"#46039f\"],[0.2222222222222222,\"#7201a8\"],[0.3333333333333333,\"#9c179e\"],[0.4444444444444444,\"#bd3786\"],[0.5555555555555556,\"#d8576b\"],[0.6666666666666666,\"#ed7953\"],[0.7777777777777778,\"#fb9f3a\"],[0.8888888888888888,\"#fdca26\"],[1.0,\"#f0f921\"]],\"sequentialminus\":[[0.0,\"#0d0887\"],[0.1111111111111111,\"#46039f\"],[0.2222222222222222,\"#7201a8\"],[0.3333333333333333,\"#9c179e\"],[0.4444444444444444,\"#bd3786\"],[0.5555555555555556,\"#d8576b\"],[0.6666666666666666,\"#ed7953\"],[0.7777777777777778,\"#fb9f3a\"],[0.8888888888888888,\"#fdca26\"],[1.0,\"#f0f921\"]]},\"colorway\":[\"#636efa\",\"#EF553B\",\"#00cc96\",\"#ab63fa\",\"#FFA15A\",\"#19d3f3\",\"#FF6692\",\"#B6E880\",\"#FF97FF\",\"#FECB52\"],\"font\":{\"color\":\"#2a3f5f\"},\"geo\":{\"bgcolor\":\"white\",\"lakecolor\":\"white\",\"landcolor\":\"#E5ECF6\",\"showlakes\":true,\"showland\":true,\"subunitcolor\":\"white\"},\"hoverlabel\":{\"align\":\"left\"},\"hovermode\":\"closest\",\"mapbox\":{\"style\":\"light\"},\"paper_bgcolor\":\"white\",\"plot_bgcolor\":\"#E5ECF6\",\"polar\":{\"angularaxis\":{\"gridcolor\":\"white\",\"linecolor\":\"white\",\"ticks\":\"\"},\"bgcolor\":\"#E5ECF6\",\"radialaxis\":{\"gridcolor\":\"white\",\"linecolor\":\"white\",\"ticks\":\"\"}},\"scene\":{\"xaxis\":{\"backgroundcolor\":\"#E5ECF6\",\"gridcolor\":\"white\",\"gridwidth\":2,\"linecolor\":\"white\",\"showbackground\":true,\"ticks\":\"\",\"zerolinecolor\":\"white\"},\"yaxis\":{\"backgroundcolor\":\"#E5ECF6\",\"gridcolor\":\"white\",\"gridwidth\":2,\"linecolor\":\"white\",\"showbackground\":true,\"ticks\":\"\",\"zerolinecolor\":\"white\"},\"zaxis\":{\"backgroundcolor\":\"#E5ECF6\",\"gridcolor\":\"white\",\"gridwidth\":2,\"linecolor\":\"white\",\"showbackground\":true,\"ticks\":\"\",\"zerolinecolor\":\"white\"}},\"shapedefaults\":{\"line\":{\"color\":\"#2a3f5f\"}},\"ternary\":{\"aaxis\":{\"gridcolor\":\"white\",\"linecolor\":\"white\",\"ticks\":\"\"},\"baxis\":{\"gridcolor\":\"white\",\"linecolor\":\"white\",\"ticks\":\"\"},\"bgcolor\":\"#E5ECF6\",\"caxis\":{\"gridcolor\":\"white\",\"linecolor\":\"white\",\"ticks\":\"\"}},\"title\":{\"x\":0.05},\"xaxis\":{\"automargin\":true,\"gridcolor\":\"white\",\"linecolor\":\"white\",\"ticks\":\"\",\"title\":{\"standoff\":15},\"zerolinecolor\":\"white\",\"zerolinewidth\":2},\"yaxis\":{\"automargin\":true,\"gridcolor\":\"white\",\"linecolor\":\"white\",\"ticks\":\"\",\"title\":{\"standoff\":15},\"zerolinecolor\":\"white\",\"zerolinewidth\":2}}},\"title\":{\"text\":\"\\\\uc5f0\\\\ub3c4\\\\ubcc4 \\\\ubc15\\\\uc0ac\\\\ud559\\\\uc704 \\\\ub17c\\\\ubb38 \\\\ubc30\\\\ucd9c \\\\ubcc0\\\\ud654 \\\\ucd94\\\\uc774\"},\"xaxis\":{\"anchor\":\"y\",\"domain\":[0.0,1.0],\"title\":{\"text\":\"\\\\uc5f0\\\\ub3c4\"}},\"yaxis\":{\"anchor\":\"x\",\"domain\":[0.0,1.0],\"title\":{\"text\":\"\\\\ub17c\\\\ubb38\\\\uc218\"}}}}'"
      ]
     },
     "metadata": {},
     "execution_count": 38
    }
   ],
   "source": [
    "phd_year.to_json()"
   ]
  },
  {
   "cell_type": "code",
   "execution_count": 27,
   "metadata": {},
   "outputs": [],
   "source": [
    "with open('./plotly/phd_year.json','w',encoding='utf-8') as f:\n",
    "    json.dump(phd_year.to_json(),f,ensure_ascii=False)"
   ]
  },
  {
   "source": [
    "## 대학별 졸업자수 plotly table"
   ],
   "cell_type": "markdown",
   "metadata": {}
  },
  {
   "cell_type": "code",
   "execution_count": 12,
   "metadata": {},
   "outputs": [
    {
     "output_type": "execute_result",
     "data": {
      "text/plain": [
       "       대학  2000  2001  2002   2003  2004  2005  2006  2007  2008  ...  2011  \\\n",
       "0     고려대   6.0   6.0  16.0    5.0   2.0  17.0  12.0   9.0   6.0  ...  14.0   \n",
       "1     서울대   6.0   4.0   9.0    9.0   8.0  10.0   6.0   9.0   7.0  ...   6.0   \n",
       "2     연세대   3.0   1.0   5.0    9.0   1.0   1.0   5.0   1.0   4.0  ...  11.0   \n",
       "3     경희대   1.0   2.0   NaN    6.0   1.0   5.0   2.0   2.0   4.0  ...   7.0   \n",
       "4     한양대   5.0   6.0   2.0    5.0   1.0   2.0   NaN   NaN   NaN  ...   4.0   \n",
       "..    ...   ...   ...   ...    ...   ...   ...   ...   ...   ...  ...   ...   \n",
       "75  경산대구대   NaN   NaN   1.0    NaN   NaN   NaN   NaN   NaN   NaN  ...   NaN   \n",
       "76    광운대   NaN   NaN   NaN    NaN   NaN   NaN   NaN   NaN   NaN  ...   NaN   \n",
       "77    백석대   NaN   NaN   NaN    NaN   NaN   NaN   NaN   NaN   NaN  ...   NaN   \n",
       "78    안동대   NaN   NaN   NaN    NaN   NaN   NaN   NaN   NaN   NaN  ...   NaN   \n",
       "79    총합계  71.0  71.0  99.0  103.0  70.0  91.0  82.0  65.0  82.0  ...  84.0   \n",
       "\n",
       "    2012  2013  2014  2015  2016  2017  2018  2019   총합계  \n",
       "0   12.0   7.0   2.0   3.0   3.0   5.0   9.0   2.0   155  \n",
       "1   10.0   6.0   8.0   6.0   9.0  12.0   4.0   6.0   144  \n",
       "2    3.0   1.0   1.0   2.0   3.0   NaN   1.0   1.0    66  \n",
       "3    9.0   3.0   5.0   2.0   4.0   2.0   1.0   3.0    65  \n",
       "4    2.0   5.0   4.0   3.0   3.0   2.0   4.0   5.0    59  \n",
       "..   ...   ...   ...   ...   ...   ...   ...   ...   ...  \n",
       "75   NaN   NaN   NaN   NaN   NaN   NaN   NaN   NaN     1  \n",
       "76   NaN   NaN   NaN   NaN   NaN   NaN   NaN   1.0     1  \n",
       "77   NaN   NaN   NaN   NaN   NaN   NaN   NaN   NaN     1  \n",
       "78   NaN   NaN   NaN   NaN   NaN   NaN   NaN   1.0     1  \n",
       "79  84.0  75.0  84.0  65.0  65.0  62.0  55.0  57.0  1528  \n",
       "\n",
       "[80 rows x 22 columns]"
      ],
      "text/html": "<div>\n<style scoped>\n    .dataframe tbody tr th:only-of-type {\n        vertical-align: middle;\n    }\n\n    .dataframe tbody tr th {\n        vertical-align: top;\n    }\n\n    .dataframe thead th {\n        text-align: right;\n    }\n</style>\n<table border=\"1\" class=\"dataframe\">\n  <thead>\n    <tr style=\"text-align: right;\">\n      <th></th>\n      <th>대학</th>\n      <th>2000</th>\n      <th>2001</th>\n      <th>2002</th>\n      <th>2003</th>\n      <th>2004</th>\n      <th>2005</th>\n      <th>2006</th>\n      <th>2007</th>\n      <th>2008</th>\n      <th>...</th>\n      <th>2011</th>\n      <th>2012</th>\n      <th>2013</th>\n      <th>2014</th>\n      <th>2015</th>\n      <th>2016</th>\n      <th>2017</th>\n      <th>2018</th>\n      <th>2019</th>\n      <th>총합계</th>\n    </tr>\n  </thead>\n  <tbody>\n    <tr>\n      <th>0</th>\n      <td>고려대</td>\n      <td>6.0</td>\n      <td>6.0</td>\n      <td>16.0</td>\n      <td>5.0</td>\n      <td>2.0</td>\n      <td>17.0</td>\n      <td>12.0</td>\n      <td>9.0</td>\n      <td>6.0</td>\n      <td>...</td>\n      <td>14.0</td>\n      <td>12.0</td>\n      <td>7.0</td>\n      <td>2.0</td>\n      <td>3.0</td>\n      <td>3.0</td>\n      <td>5.0</td>\n      <td>9.0</td>\n      <td>2.0</td>\n      <td>155</td>\n    </tr>\n    <tr>\n      <th>1</th>\n      <td>서울대</td>\n      <td>6.0</td>\n      <td>4.0</td>\n      <td>9.0</td>\n      <td>9.0</td>\n      <td>8.0</td>\n      <td>10.0</td>\n      <td>6.0</td>\n      <td>9.0</td>\n      <td>7.0</td>\n      <td>...</td>\n      <td>6.0</td>\n      <td>10.0</td>\n      <td>6.0</td>\n      <td>8.0</td>\n      <td>6.0</td>\n      <td>9.0</td>\n      <td>12.0</td>\n      <td>4.0</td>\n      <td>6.0</td>\n      <td>144</td>\n    </tr>\n    <tr>\n      <th>2</th>\n      <td>연세대</td>\n      <td>3.0</td>\n      <td>1.0</td>\n      <td>5.0</td>\n      <td>9.0</td>\n      <td>1.0</td>\n      <td>1.0</td>\n      <td>5.0</td>\n      <td>1.0</td>\n      <td>4.0</td>\n      <td>...</td>\n      <td>11.0</td>\n      <td>3.0</td>\n      <td>1.0</td>\n      <td>1.0</td>\n      <td>2.0</td>\n      <td>3.0</td>\n      <td>NaN</td>\n      <td>1.0</td>\n      <td>1.0</td>\n      <td>66</td>\n    </tr>\n    <tr>\n      <th>3</th>\n      <td>경희대</td>\n      <td>1.0</td>\n      <td>2.0</td>\n      <td>NaN</td>\n      <td>6.0</td>\n      <td>1.0</td>\n      <td>5.0</td>\n      <td>2.0</td>\n      <td>2.0</td>\n      <td>4.0</td>\n      <td>...</td>\n      <td>7.0</td>\n      <td>9.0</td>\n      <td>3.0</td>\n      <td>5.0</td>\n      <td>2.0</td>\n      <td>4.0</td>\n      <td>2.0</td>\n      <td>1.0</td>\n      <td>3.0</td>\n      <td>65</td>\n    </tr>\n    <tr>\n      <th>4</th>\n      <td>한양대</td>\n      <td>5.0</td>\n      <td>6.0</td>\n      <td>2.0</td>\n      <td>5.0</td>\n      <td>1.0</td>\n      <td>2.0</td>\n      <td>NaN</td>\n      <td>NaN</td>\n      <td>NaN</td>\n      <td>...</td>\n      <td>4.0</td>\n      <td>2.0</td>\n      <td>5.0</td>\n      <td>4.0</td>\n      <td>3.0</td>\n      <td>3.0</td>\n      <td>2.0</td>\n      <td>4.0</td>\n      <td>5.0</td>\n      <td>59</td>\n    </tr>\n    <tr>\n      <th>...</th>\n      <td>...</td>\n      <td>...</td>\n      <td>...</td>\n      <td>...</td>\n      <td>...</td>\n      <td>...</td>\n      <td>...</td>\n      <td>...</td>\n      <td>...</td>\n      <td>...</td>\n      <td>...</td>\n      <td>...</td>\n      <td>...</td>\n      <td>...</td>\n      <td>...</td>\n      <td>...</td>\n      <td>...</td>\n      <td>...</td>\n      <td>...</td>\n      <td>...</td>\n      <td>...</td>\n    </tr>\n    <tr>\n      <th>75</th>\n      <td>경산대구대</td>\n      <td>NaN</td>\n      <td>NaN</td>\n      <td>1.0</td>\n      <td>NaN</td>\n      <td>NaN</td>\n      <td>NaN</td>\n      <td>NaN</td>\n      <td>NaN</td>\n      <td>NaN</td>\n      <td>...</td>\n      <td>NaN</td>\n      <td>NaN</td>\n      <td>NaN</td>\n      <td>NaN</td>\n      <td>NaN</td>\n      <td>NaN</td>\n      <td>NaN</td>\n      <td>NaN</td>\n      <td>NaN</td>\n      <td>1</td>\n    </tr>\n    <tr>\n      <th>76</th>\n      <td>광운대</td>\n      <td>NaN</td>\n      <td>NaN</td>\n      <td>NaN</td>\n      <td>NaN</td>\n      <td>NaN</td>\n      <td>NaN</td>\n      <td>NaN</td>\n      <td>NaN</td>\n      <td>NaN</td>\n      <td>...</td>\n      <td>NaN</td>\n      <td>NaN</td>\n      <td>NaN</td>\n      <td>NaN</td>\n      <td>NaN</td>\n      <td>NaN</td>\n      <td>NaN</td>\n      <td>NaN</td>\n      <td>1.0</td>\n      <td>1</td>\n    </tr>\n    <tr>\n      <th>77</th>\n      <td>백석대</td>\n      <td>NaN</td>\n      <td>NaN</td>\n      <td>NaN</td>\n      <td>NaN</td>\n      <td>NaN</td>\n      <td>NaN</td>\n      <td>NaN</td>\n      <td>NaN</td>\n      <td>NaN</td>\n      <td>...</td>\n      <td>NaN</td>\n      <td>NaN</td>\n      <td>NaN</td>\n      <td>NaN</td>\n      <td>NaN</td>\n      <td>NaN</td>\n      <td>NaN</td>\n      <td>NaN</td>\n      <td>NaN</td>\n      <td>1</td>\n    </tr>\n    <tr>\n      <th>78</th>\n      <td>안동대</td>\n      <td>NaN</td>\n      <td>NaN</td>\n      <td>NaN</td>\n      <td>NaN</td>\n      <td>NaN</td>\n      <td>NaN</td>\n      <td>NaN</td>\n      <td>NaN</td>\n      <td>NaN</td>\n      <td>...</td>\n      <td>NaN</td>\n      <td>NaN</td>\n      <td>NaN</td>\n      <td>NaN</td>\n      <td>NaN</td>\n      <td>NaN</td>\n      <td>NaN</td>\n      <td>NaN</td>\n      <td>1.0</td>\n      <td>1</td>\n    </tr>\n    <tr>\n      <th>79</th>\n      <td>총합계</td>\n      <td>71.0</td>\n      <td>71.0</td>\n      <td>99.0</td>\n      <td>103.0</td>\n      <td>70.0</td>\n      <td>91.0</td>\n      <td>82.0</td>\n      <td>65.0</td>\n      <td>82.0</td>\n      <td>...</td>\n      <td>84.0</td>\n      <td>84.0</td>\n      <td>75.0</td>\n      <td>84.0</td>\n      <td>65.0</td>\n      <td>65.0</td>\n      <td>62.0</td>\n      <td>55.0</td>\n      <td>57.0</td>\n      <td>1528</td>\n    </tr>\n  </tbody>\n</table>\n<p>80 rows × 22 columns</p>\n</div>"
     },
     "metadata": {},
     "execution_count": 12
    }
   ],
   "source": [
    "univ = pd.read_excel('./plotly/대학별_학위논문수.xlsx')\n",
    "univ"
   ]
  },
  {
   "cell_type": "code",
   "execution_count": 13,
   "metadata": {},
   "outputs": [],
   "source": [
    "univ = univ.fillna(0)"
   ]
  },
  {
   "cell_type": "code",
   "execution_count": 19,
   "metadata": {},
   "outputs": [
    {
     "output_type": "execute_result",
     "data": {
      "text/plain": [
       "Index([ '대학',  2000,  2001,  2002,  2003,  2004,  2005,  2006,  2007,  2008,\n",
       "        2009,  2010,  2011,  2012,  2013,  2014,  2015,  2016,  2017,  2018,\n",
       "        2019, '총합계'],\n",
       "      dtype='object')"
      ]
     },
     "metadata": {},
     "execution_count": 19
    }
   ],
   "source": [
    "univ.columns"
   ]
  },
  {
   "cell_type": "code",
   "execution_count": 43,
   "metadata": {},
   "outputs": [
    {
     "output_type": "display_data",
     "data": {
      "application/vnd.plotly.v1+json": {
       "config": {
        "plotlyServerURL": "https://plot.ly"
       },
       "data": [
        {
         "cells": {
          "align": "left",
          "fill": {
           "color": "lavender"
          },
          "values": [
           [
            "고려대",
            "서울대",
            "연세대",
            "경희대",
            "한양대",
            "서강대",
            "이화여자대",
            "충남대",
            "성균관대",
            "전남대",
            "동국대",
            "부산대",
            "전북대",
            "중앙대",
            "아주대",
            "조선대",
            "건국대",
            "경북대",
            "인하대",
            "영남대",
            "국민대",
            "단국대",
            "한국외국어대",
            "한남대",
            "경원대",
            "창원대",
            "대전대",
            "서울시립대",
            "부경대",
            "성신여자대",
            "강원대",
            "경상대",
            "숭실대",
            "동아대",
            "숙명여자대",
            "경남대",
            "동덕여자대",
            "중부대",
            "청주대",
            "공주대",
            "대구가톨릭대",
            "충북대",
            "한림대",
            "홍익대",
            "가천대",
            "경성대",
            "대구대",
            "세종대",
            "우석대",
            "명지대",
            "목포대",
            "배재대",
            "울산대",
            "원광대",
            "인제대",
            "가톨릭대",
            "경기대",
            "강릉원주대",
            "동의대",
            "목원대",
            "상지대",
            "서울여자대",
            "제주대",
            "한성대",
            "계명대",
            "상명대",
            "수원대",
            "순천대",
            "인천대",
            "전주대",
            "한국학중앙연구원",
            "강릉대",
            "관동대",
            "선문대",
            "강남대",
            "경산대구대",
            "광운대",
            "백석대",
            "안동대",
            "총합계"
           ],
           [
            6,
            6,
            3,
            1,
            5,
            4,
            2,
            0,
            4,
            1,
            0,
            3,
            1,
            2,
            2,
            2,
            1,
            2,
            0,
            0,
            0,
            2,
            2,
            0,
            0,
            0,
            3,
            1,
            0,
            1,
            0,
            0,
            0,
            2,
            1,
            1,
            1,
            0,
            2,
            0,
            1,
            1,
            1,
            0,
            0,
            0,
            1,
            2,
            1,
            1,
            0,
            0,
            0,
            0,
            0,
            0,
            0,
            0,
            0,
            0,
            0,
            1,
            0,
            0,
            0,
            0,
            0,
            0,
            0,
            1,
            0,
            0,
            0,
            0,
            0,
            0,
            0,
            0,
            0,
            71
           ],
           [
            6,
            4,
            1,
            2,
            6,
            8,
            2,
            3,
            8,
            3,
            0,
            0,
            2,
            0,
            0,
            1,
            2,
            1,
            2,
            1,
            1,
            4,
            0,
            0,
            0,
            1,
            1,
            0,
            0,
            0,
            0,
            1,
            0,
            0,
            0,
            1,
            1,
            0,
            2,
            0,
            2,
            0,
            0,
            0,
            0,
            0,
            0,
            0,
            1,
            2,
            0,
            0,
            0,
            0,
            0,
            0,
            0,
            0,
            0,
            0,
            1,
            1,
            0,
            0,
            0,
            0,
            0,
            0,
            0,
            0,
            0,
            0,
            0,
            0,
            0,
            0,
            0,
            0,
            0,
            71
           ],
           [
            16,
            9,
            5,
            0,
            2,
            3,
            7,
            3,
            9,
            3,
            3,
            5,
            1,
            2,
            0,
            2,
            2,
            2,
            2,
            0,
            0,
            2,
            1,
            2,
            1,
            0,
            0,
            0,
            0,
            0,
            0,
            2,
            0,
            0,
            2,
            3,
            0,
            0,
            0,
            0,
            0,
            0,
            0,
            0,
            0,
            0,
            2,
            0,
            3,
            1,
            0,
            0,
            0,
            0,
            0,
            0,
            1,
            0,
            0,
            0,
            0,
            0,
            0,
            0,
            1,
            0,
            0,
            0,
            0,
            1,
            0,
            0,
            0,
            0,
            0,
            1,
            0,
            0,
            0,
            99
           ],
           [
            5,
            9,
            9,
            6,
            5,
            6,
            1,
            0,
            0,
            3,
            1,
            3,
            1,
            3,
            2,
            0,
            1,
            1,
            7,
            1,
            0,
            4,
            3,
            1,
            3,
            2,
            1,
            2,
            0,
            2,
            0,
            1,
            2,
            5,
            0,
            0,
            3,
            0,
            0,
            0,
            0,
            0,
            1,
            0,
            0,
            0,
            0,
            1,
            0,
            2,
            0,
            0,
            0,
            1,
            0,
            1,
            0,
            0,
            0,
            0,
            0,
            0,
            3,
            0,
            0,
            0,
            0,
            0,
            0,
            1,
            0,
            0,
            0,
            0,
            0,
            0,
            0,
            0,
            0,
            103
           ],
           [
            2,
            8,
            1,
            1,
            1,
            2,
            3,
            3,
            6,
            0,
            1,
            1,
            3,
            2,
            2,
            4,
            5,
            0,
            2,
            1,
            3,
            0,
            0,
            0,
            0,
            1,
            3,
            1,
            0,
            1,
            0,
            0,
            0,
            0,
            0,
            2,
            0,
            0,
            0,
            0,
            0,
            1,
            2,
            0,
            0,
            1,
            0,
            0,
            0,
            0,
            0,
            0,
            0,
            1,
            0,
            3,
            0,
            0,
            1,
            0,
            0,
            0,
            0,
            0,
            0,
            1,
            1,
            0,
            0,
            0,
            0,
            0,
            0,
            0,
            0,
            0,
            0,
            0,
            0,
            70
           ],
           [
            17,
            10,
            1,
            5,
            2,
            3,
            4,
            1,
            4,
            1,
            0,
            4,
            0,
            1,
            3,
            2,
            0,
            4,
            1,
            0,
            0,
            2,
            1,
            1,
            1,
            3,
            0,
            0,
            0,
            3,
            2,
            0,
            0,
            2,
            1,
            0,
            2,
            0,
            0,
            1,
            1,
            0,
            2,
            1,
            0,
            0,
            2,
            0,
            0,
            0,
            0,
            0,
            0,
            0,
            0,
            1,
            1,
            0,
            0,
            0,
            0,
            1,
            0,
            0,
            0,
            0,
            0,
            0,
            0,
            0,
            0,
            0,
            0,
            0,
            0,
            0,
            0,
            0,
            0,
            91
           ],
           [
            12,
            6,
            5,
            2,
            0,
            1,
            0,
            1,
            7,
            4,
            5,
            1,
            1,
            3,
            0,
            2,
            0,
            2,
            0,
            1,
            2,
            1,
            1,
            2,
            3,
            3,
            0,
            0,
            0,
            1,
            1,
            1,
            3,
            1,
            1,
            0,
            0,
            1,
            1,
            0,
            1,
            0,
            1,
            0,
            0,
            0,
            0,
            0,
            0,
            0,
            0,
            0,
            1,
            0,
            0,
            0,
            0,
            0,
            1,
            0,
            1,
            0,
            1,
            0,
            0,
            0,
            0,
            0,
            0,
            0,
            0,
            0,
            1,
            0,
            0,
            0,
            0,
            0,
            0,
            82
           ],
           [
            9,
            9,
            1,
            2,
            0,
            3,
            1,
            2,
            3,
            1,
            2,
            1,
            1,
            0,
            0,
            1,
            1,
            0,
            3,
            3,
            0,
            1,
            2,
            0,
            0,
            1,
            0,
            1,
            0,
            2,
            1,
            0,
            0,
            1,
            0,
            2,
            2,
            1,
            0,
            0,
            1,
            2,
            0,
            0,
            0,
            1,
            0,
            0,
            0,
            0,
            0,
            1,
            0,
            0,
            0,
            0,
            0,
            0,
            2,
            0,
            0,
            0,
            0,
            1,
            0,
            0,
            0,
            0,
            0,
            0,
            0,
            0,
            0,
            0,
            0,
            0,
            0,
            0,
            0,
            65
           ],
           [
            6,
            7,
            4,
            4,
            0,
            3,
            0,
            2,
            2,
            5,
            3,
            4,
            0,
            2,
            1,
            2,
            0,
            3,
            0,
            4,
            1,
            1,
            1,
            1,
            4,
            1,
            2,
            0,
            2,
            1,
            0,
            2,
            2,
            0,
            1,
            1,
            1,
            1,
            0,
            0,
            0,
            0,
            0,
            0,
            0,
            0,
            0,
            2,
            1,
            0,
            0,
            0,
            0,
            0,
            0,
            0,
            0,
            0,
            0,
            1,
            0,
            0,
            0,
            1,
            0,
            1,
            0,
            0,
            1,
            0,
            0,
            1,
            0,
            0,
            0,
            0,
            0,
            0,
            0,
            82
           ],
           [
            7,
            3,
            6,
            2,
            4,
            2,
            4,
            1,
            0,
            3,
            1,
            0,
            1,
            1,
            3,
            0,
            2,
            0,
            2,
            0,
            5,
            0,
            1,
            2,
            1,
            4,
            0,
            1,
            1,
            0,
            1,
            1,
            1,
            0,
            2,
            1,
            0,
            0,
            1,
            1,
            0,
            1,
            1,
            0,
            0,
            0,
            1,
            0,
            0,
            0,
            1,
            0,
            0,
            1,
            2,
            0,
            1,
            0,
            0,
            2,
            0,
            0,
            0,
            1,
            0,
            1,
            0,
            0,
            0,
            0,
            1,
            1,
            0,
            0,
            0,
            0,
            0,
            0,
            0,
            79
           ],
           [
            12,
            6,
            7,
            4,
            2,
            0,
            6,
            3,
            2,
            1,
            0,
            0,
            1,
            3,
            0,
            0,
            1,
            3,
            2,
            1,
            4,
            1,
            0,
            1,
            3,
            1,
            1,
            0,
            0,
            3,
            1,
            1,
            3,
            0,
            0,
            0,
            0,
            1,
            1,
            0,
            0,
            0,
            0,
            2,
            0,
            0,
            0,
            1,
            0,
            0,
            1,
            0,
            1,
            0,
            0,
            0,
            2,
            0,
            0,
            0,
            0,
            0,
            0,
            1,
            0,
            0,
            0,
            0,
            0,
            0,
            0,
            0,
            0,
            0,
            0,
            0,
            0,
            1,
            0,
            84
           ],
           [
            14,
            6,
            11,
            7,
            4,
            2,
            5,
            3,
            0,
            1,
            2,
            3,
            2,
            1,
            0,
            2,
            3,
            1,
            0,
            3,
            0,
            0,
            0,
            1,
            3,
            0,
            1,
            0,
            0,
            1,
            1,
            0,
            1,
            1,
            0,
            0,
            0,
            0,
            1,
            0,
            0,
            1,
            0,
            0,
            0,
            1,
            0,
            0,
            0,
            0,
            0,
            0,
            0,
            0,
            0,
            0,
            0,
            0,
            0,
            1,
            0,
            0,
            0,
            0,
            0,
            0,
            0,
            0,
            1,
            0,
            0,
            0,
            0,
            0,
            0,
            0,
            0,
            0,
            0,
            84
           ],
           [
            12,
            10,
            3,
            9,
            2,
            2,
            4,
            4,
            0,
            6,
            3,
            1,
            0,
            1,
            1,
            1,
            2,
            0,
            2,
            3,
            1,
            0,
            1,
            0,
            0,
            0,
            0,
            0,
            2,
            0,
            0,
            2,
            0,
            0,
            0,
            0,
            1,
            2,
            0,
            0,
            1,
            0,
            0,
            0,
            1,
            0,
            0,
            1,
            0,
            0,
            0,
            3,
            0,
            1,
            0,
            0,
            0,
            0,
            0,
            0,
            0,
            0,
            0,
            0,
            0,
            0,
            0,
            0,
            1,
            0,
            0,
            0,
            1,
            0,
            0,
            0,
            0,
            0,
            0,
            84
           ],
           [
            7,
            6,
            1,
            3,
            5,
            2,
            3,
            6,
            1,
            0,
            3,
            1,
            6,
            1,
            0,
            3,
            3,
            1,
            3,
            0,
            0,
            2,
            2,
            0,
            0,
            0,
            1,
            1,
            2,
            0,
            2,
            0,
            0,
            1,
            1,
            0,
            0,
            1,
            1,
            0,
            0,
            1,
            0,
            0,
            1,
            0,
            0,
            0,
            0,
            0,
            0,
            1,
            1,
            0,
            1,
            0,
            0,
            0,
            0,
            0,
            0,
            0,
            0,
            0,
            1,
            0,
            0,
            0,
            0,
            0,
            0,
            0,
            0,
            0,
            0,
            0,
            0,
            0,
            0,
            75
           ],
           [
            2,
            8,
            1,
            5,
            4,
            1,
            3,
            6,
            2,
            0,
            4,
            1,
            6,
            2,
            3,
            1,
            1,
            0,
            1,
            1,
            2,
            0,
            1,
            1,
            0,
            0,
            4,
            2,
            3,
            0,
            4,
            0,
            0,
            0,
            0,
            0,
            0,
            0,
            0,
            2,
            0,
            1,
            0,
            2,
            2,
            0,
            0,
            0,
            1,
            0,
            1,
            1,
            1,
            1,
            0,
            0,
            0,
            0,
            0,
            0,
            1,
            0,
            0,
            0,
            1,
            0,
            1,
            0,
            0,
            0,
            0,
            0,
            0,
            0,
            0,
            0,
            0,
            0,
            0,
            84
           ],
           [
            3,
            6,
            2,
            2,
            3,
            3,
            4,
            4,
            0,
            1,
            3,
            1,
            0,
            0,
            2,
            0,
            1,
            1,
            0,
            0,
            1,
            0,
            1,
            4,
            0,
            0,
            0,
            3,
            1,
            1,
            0,
            0,
            0,
            0,
            3,
            0,
            0,
            0,
            1,
            3,
            1,
            0,
            0,
            1,
            0,
            3,
            1,
            0,
            0,
            0,
            1,
            0,
            0,
            0,
            2,
            0,
            0,
            0,
            0,
            0,
            0,
            0,
            0,
            0,
            0,
            0,
            0,
            0,
            0,
            0,
            0,
            0,
            0,
            2,
            0,
            0,
            0,
            0,
            0,
            65
           ],
           [
            3,
            9,
            3,
            4,
            3,
            6,
            1,
            3,
            1,
            5,
            2,
            2,
            1,
            0,
            1,
            1,
            0,
            1,
            0,
            0,
            0,
            0,
            0,
            2,
            0,
            0,
            0,
            1,
            1,
            0,
            1,
            0,
            0,
            0,
            0,
            0,
            0,
            2,
            0,
            1,
            1,
            1,
            0,
            1,
            2,
            1,
            0,
            0,
            0,
            0,
            0,
            0,
            1,
            0,
            0,
            0,
            0,
            0,
            0,
            0,
            1,
            1,
            0,
            0,
            0,
            0,
            0,
            1,
            0,
            0,
            0,
            0,
            0,
            0,
            1,
            0,
            0,
            0,
            0,
            65
           ],
           [
            5,
            12,
            0,
            2,
            2,
            1,
            0,
            3,
            1,
            1,
            3,
            0,
            3,
            1,
            5,
            2,
            0,
            3,
            0,
            1,
            0,
            0,
            2,
            1,
            0,
            1,
            0,
            0,
            2,
            0,
            1,
            2,
            0,
            0,
            0,
            0,
            0,
            1,
            0,
            1,
            0,
            0,
            0,
            0,
            0,
            0,
            0,
            0,
            0,
            0,
            0,
            0,
            1,
            0,
            1,
            0,
            0,
            1,
            0,
            0,
            0,
            0,
            0,
            0,
            0,
            0,
            1,
            0,
            0,
            0,
            2,
            0,
            0,
            0,
            0,
            0,
            0,
            0,
            0,
            62
           ],
           [
            9,
            4,
            1,
            1,
            4,
            1,
            3,
            3,
            3,
            4,
            0,
            2,
            1,
            0,
            1,
            1,
            0,
            1,
            0,
            0,
            0,
            0,
            1,
            1,
            0,
            0,
            0,
            0,
            1,
            0,
            0,
            1,
            1,
            0,
            1,
            0,
            0,
            1,
            0,
            0,
            1,
            1,
            0,
            1,
            1,
            0,
            0,
            0,
            0,
            0,
            2,
            0,
            0,
            0,
            0,
            0,
            0,
            2,
            0,
            0,
            0,
            0,
            0,
            0,
            0,
            0,
            0,
            1,
            0,
            0,
            0,
            0,
            0,
            0,
            0,
            0,
            0,
            0,
            0,
            55
           ],
           [
            2,
            6,
            1,
            3,
            5,
            3,
            3,
            3,
            0,
            2,
            4,
            1,
            0,
            4,
            2,
            1,
            2,
            1,
            0,
            1,
            0,
            0,
            0,
            0,
            0,
            0,
            0,
            4,
            1,
            0,
            0,
            0,
            1,
            0,
            0,
            0,
            0,
            0,
            1,
            1,
            0,
            0,
            0,
            0,
            0,
            0,
            0,
            0,
            0,
            0,
            0,
            0,
            0,
            1,
            0,
            0,
            0,
            1,
            0,
            0,
            0,
            0,
            0,
            0,
            0,
            0,
            0,
            1,
            0,
            0,
            0,
            0,
            0,
            0,
            0,
            0,
            1,
            0,
            1,
            57
           ],
           [
            155,
            144,
            66,
            65,
            59,
            56,
            56,
            54,
            53,
            45,
            40,
            34,
            31,
            29,
            28,
            28,
            27,
            27,
            27,
            21,
            20,
            20,
            20,
            20,
            19,
            18,
            17,
            17,
            16,
            16,
            15,
            14,
            14,
            13,
            13,
            11,
            11,
            11,
            11,
            10,
            10,
            10,
            8,
            8,
            7,
            7,
            7,
            7,
            7,
            6,
            6,
            6,
            6,
            6,
            6,
            5,
            5,
            4,
            4,
            4,
            4,
            4,
            4,
            4,
            3,
            3,
            3,
            3,
            3,
            3,
            3,
            2,
            2,
            2,
            1,
            1,
            1,
            1,
            1,
            1528
           ]
          ]
         },
         "header": {
          "align": "center",
          "fill": {
           "color": "paleturquoise"
          },
          "values": [
           "대학",
           2000,
           2001,
           2002,
           2003,
           2004,
           2005,
           2006,
           2007,
           2008,
           2009,
           2010,
           2011,
           2012,
           2013,
           2014,
           2015,
           2016,
           2017,
           2018,
           2019,
           "총합계"
          ]
         },
         "type": "table"
        }
       ],
       "layout": {
        "template": {
         "data": {
          "bar": [
           {
            "error_x": {
             "color": "#2a3f5f"
            },
            "error_y": {
             "color": "#2a3f5f"
            },
            "marker": {
             "line": {
              "color": "#E5ECF6",
              "width": 0.5
             }
            },
            "type": "bar"
           }
          ],
          "barpolar": [
           {
            "marker": {
             "line": {
              "color": "#E5ECF6",
              "width": 0.5
             }
            },
            "type": "barpolar"
           }
          ],
          "carpet": [
           {
            "aaxis": {
             "endlinecolor": "#2a3f5f",
             "gridcolor": "white",
             "linecolor": "white",
             "minorgridcolor": "white",
             "startlinecolor": "#2a3f5f"
            },
            "baxis": {
             "endlinecolor": "#2a3f5f",
             "gridcolor": "white",
             "linecolor": "white",
             "minorgridcolor": "white",
             "startlinecolor": "#2a3f5f"
            },
            "type": "carpet"
           }
          ],
          "choropleth": [
           {
            "colorbar": {
             "outlinewidth": 0,
             "ticks": ""
            },
            "type": "choropleth"
           }
          ],
          "contour": [
           {
            "colorbar": {
             "outlinewidth": 0,
             "ticks": ""
            },
            "colorscale": [
             [
              0,
              "#0d0887"
             ],
             [
              0.1111111111111111,
              "#46039f"
             ],
             [
              0.2222222222222222,
              "#7201a8"
             ],
             [
              0.3333333333333333,
              "#9c179e"
             ],
             [
              0.4444444444444444,
              "#bd3786"
             ],
             [
              0.5555555555555556,
              "#d8576b"
             ],
             [
              0.6666666666666666,
              "#ed7953"
             ],
             [
              0.7777777777777778,
              "#fb9f3a"
             ],
             [
              0.8888888888888888,
              "#fdca26"
             ],
             [
              1,
              "#f0f921"
             ]
            ],
            "type": "contour"
           }
          ],
          "contourcarpet": [
           {
            "colorbar": {
             "outlinewidth": 0,
             "ticks": ""
            },
            "type": "contourcarpet"
           }
          ],
          "heatmap": [
           {
            "colorbar": {
             "outlinewidth": 0,
             "ticks": ""
            },
            "colorscale": [
             [
              0,
              "#0d0887"
             ],
             [
              0.1111111111111111,
              "#46039f"
             ],
             [
              0.2222222222222222,
              "#7201a8"
             ],
             [
              0.3333333333333333,
              "#9c179e"
             ],
             [
              0.4444444444444444,
              "#bd3786"
             ],
             [
              0.5555555555555556,
              "#d8576b"
             ],
             [
              0.6666666666666666,
              "#ed7953"
             ],
             [
              0.7777777777777778,
              "#fb9f3a"
             ],
             [
              0.8888888888888888,
              "#fdca26"
             ],
             [
              1,
              "#f0f921"
             ]
            ],
            "type": "heatmap"
           }
          ],
          "heatmapgl": [
           {
            "colorbar": {
             "outlinewidth": 0,
             "ticks": ""
            },
            "colorscale": [
             [
              0,
              "#0d0887"
             ],
             [
              0.1111111111111111,
              "#46039f"
             ],
             [
              0.2222222222222222,
              "#7201a8"
             ],
             [
              0.3333333333333333,
              "#9c179e"
             ],
             [
              0.4444444444444444,
              "#bd3786"
             ],
             [
              0.5555555555555556,
              "#d8576b"
             ],
             [
              0.6666666666666666,
              "#ed7953"
             ],
             [
              0.7777777777777778,
              "#fb9f3a"
             ],
             [
              0.8888888888888888,
              "#fdca26"
             ],
             [
              1,
              "#f0f921"
             ]
            ],
            "type": "heatmapgl"
           }
          ],
          "histogram": [
           {
            "marker": {
             "colorbar": {
              "outlinewidth": 0,
              "ticks": ""
             }
            },
            "type": "histogram"
           }
          ],
          "histogram2d": [
           {
            "colorbar": {
             "outlinewidth": 0,
             "ticks": ""
            },
            "colorscale": [
             [
              0,
              "#0d0887"
             ],
             [
              0.1111111111111111,
              "#46039f"
             ],
             [
              0.2222222222222222,
              "#7201a8"
             ],
             [
              0.3333333333333333,
              "#9c179e"
             ],
             [
              0.4444444444444444,
              "#bd3786"
             ],
             [
              0.5555555555555556,
              "#d8576b"
             ],
             [
              0.6666666666666666,
              "#ed7953"
             ],
             [
              0.7777777777777778,
              "#fb9f3a"
             ],
             [
              0.8888888888888888,
              "#fdca26"
             ],
             [
              1,
              "#f0f921"
             ]
            ],
            "type": "histogram2d"
           }
          ],
          "histogram2dcontour": [
           {
            "colorbar": {
             "outlinewidth": 0,
             "ticks": ""
            },
            "colorscale": [
             [
              0,
              "#0d0887"
             ],
             [
              0.1111111111111111,
              "#46039f"
             ],
             [
              0.2222222222222222,
              "#7201a8"
             ],
             [
              0.3333333333333333,
              "#9c179e"
             ],
             [
              0.4444444444444444,
              "#bd3786"
             ],
             [
              0.5555555555555556,
              "#d8576b"
             ],
             [
              0.6666666666666666,
              "#ed7953"
             ],
             [
              0.7777777777777778,
              "#fb9f3a"
             ],
             [
              0.8888888888888888,
              "#fdca26"
             ],
             [
              1,
              "#f0f921"
             ]
            ],
            "type": "histogram2dcontour"
           }
          ],
          "mesh3d": [
           {
            "colorbar": {
             "outlinewidth": 0,
             "ticks": ""
            },
            "type": "mesh3d"
           }
          ],
          "parcoords": [
           {
            "line": {
             "colorbar": {
              "outlinewidth": 0,
              "ticks": ""
             }
            },
            "type": "parcoords"
           }
          ],
          "pie": [
           {
            "automargin": true,
            "type": "pie"
           }
          ],
          "scatter": [
           {
            "marker": {
             "colorbar": {
              "outlinewidth": 0,
              "ticks": ""
             }
            },
            "type": "scatter"
           }
          ],
          "scatter3d": [
           {
            "line": {
             "colorbar": {
              "outlinewidth": 0,
              "ticks": ""
             }
            },
            "marker": {
             "colorbar": {
              "outlinewidth": 0,
              "ticks": ""
             }
            },
            "type": "scatter3d"
           }
          ],
          "scattercarpet": [
           {
            "marker": {
             "colorbar": {
              "outlinewidth": 0,
              "ticks": ""
             }
            },
            "type": "scattercarpet"
           }
          ],
          "scattergeo": [
           {
            "marker": {
             "colorbar": {
              "outlinewidth": 0,
              "ticks": ""
             }
            },
            "type": "scattergeo"
           }
          ],
          "scattergl": [
           {
            "marker": {
             "colorbar": {
              "outlinewidth": 0,
              "ticks": ""
             }
            },
            "type": "scattergl"
           }
          ],
          "scattermapbox": [
           {
            "marker": {
             "colorbar": {
              "outlinewidth": 0,
              "ticks": ""
             }
            },
            "type": "scattermapbox"
           }
          ],
          "scatterpolar": [
           {
            "marker": {
             "colorbar": {
              "outlinewidth": 0,
              "ticks": ""
             }
            },
            "type": "scatterpolar"
           }
          ],
          "scatterpolargl": [
           {
            "marker": {
             "colorbar": {
              "outlinewidth": 0,
              "ticks": ""
             }
            },
            "type": "scatterpolargl"
           }
          ],
          "scatterternary": [
           {
            "marker": {
             "colorbar": {
              "outlinewidth": 0,
              "ticks": ""
             }
            },
            "type": "scatterternary"
           }
          ],
          "surface": [
           {
            "colorbar": {
             "outlinewidth": 0,
             "ticks": ""
            },
            "colorscale": [
             [
              0,
              "#0d0887"
             ],
             [
              0.1111111111111111,
              "#46039f"
             ],
             [
              0.2222222222222222,
              "#7201a8"
             ],
             [
              0.3333333333333333,
              "#9c179e"
             ],
             [
              0.4444444444444444,
              "#bd3786"
             ],
             [
              0.5555555555555556,
              "#d8576b"
             ],
             [
              0.6666666666666666,
              "#ed7953"
             ],
             [
              0.7777777777777778,
              "#fb9f3a"
             ],
             [
              0.8888888888888888,
              "#fdca26"
             ],
             [
              1,
              "#f0f921"
             ]
            ],
            "type": "surface"
           }
          ],
          "table": [
           {
            "cells": {
             "fill": {
              "color": "#EBF0F8"
             },
             "line": {
              "color": "white"
             }
            },
            "header": {
             "fill": {
              "color": "#C8D4E3"
             },
             "line": {
              "color": "white"
             }
            },
            "type": "table"
           }
          ]
         },
         "layout": {
          "annotationdefaults": {
           "arrowcolor": "#2a3f5f",
           "arrowhead": 0,
           "arrowwidth": 1
          },
          "autotypenumbers": "strict",
          "coloraxis": {
           "colorbar": {
            "outlinewidth": 0,
            "ticks": ""
           }
          },
          "colorscale": {
           "diverging": [
            [
             0,
             "#8e0152"
            ],
            [
             0.1,
             "#c51b7d"
            ],
            [
             0.2,
             "#de77ae"
            ],
            [
             0.3,
             "#f1b6da"
            ],
            [
             0.4,
             "#fde0ef"
            ],
            [
             0.5,
             "#f7f7f7"
            ],
            [
             0.6,
             "#e6f5d0"
            ],
            [
             0.7,
             "#b8e186"
            ],
            [
             0.8,
             "#7fbc41"
            ],
            [
             0.9,
             "#4d9221"
            ],
            [
             1,
             "#276419"
            ]
           ],
           "sequential": [
            [
             0,
             "#0d0887"
            ],
            [
             0.1111111111111111,
             "#46039f"
            ],
            [
             0.2222222222222222,
             "#7201a8"
            ],
            [
             0.3333333333333333,
             "#9c179e"
            ],
            [
             0.4444444444444444,
             "#bd3786"
            ],
            [
             0.5555555555555556,
             "#d8576b"
            ],
            [
             0.6666666666666666,
             "#ed7953"
            ],
            [
             0.7777777777777778,
             "#fb9f3a"
            ],
            [
             0.8888888888888888,
             "#fdca26"
            ],
            [
             1,
             "#f0f921"
            ]
           ],
           "sequentialminus": [
            [
             0,
             "#0d0887"
            ],
            [
             0.1111111111111111,
             "#46039f"
            ],
            [
             0.2222222222222222,
             "#7201a8"
            ],
            [
             0.3333333333333333,
             "#9c179e"
            ],
            [
             0.4444444444444444,
             "#bd3786"
            ],
            [
             0.5555555555555556,
             "#d8576b"
            ],
            [
             0.6666666666666666,
             "#ed7953"
            ],
            [
             0.7777777777777778,
             "#fb9f3a"
            ],
            [
             0.8888888888888888,
             "#fdca26"
            ],
            [
             1,
             "#f0f921"
            ]
           ]
          },
          "colorway": [
           "#636efa",
           "#EF553B",
           "#00cc96",
           "#ab63fa",
           "#FFA15A",
           "#19d3f3",
           "#FF6692",
           "#B6E880",
           "#FF97FF",
           "#FECB52"
          ],
          "font": {
           "color": "#2a3f5f"
          },
          "geo": {
           "bgcolor": "white",
           "lakecolor": "white",
           "landcolor": "#E5ECF6",
           "showlakes": true,
           "showland": true,
           "subunitcolor": "white"
          },
          "hoverlabel": {
           "align": "left"
          },
          "hovermode": "closest",
          "mapbox": {
           "style": "light"
          },
          "paper_bgcolor": "white",
          "plot_bgcolor": "#E5ECF6",
          "polar": {
           "angularaxis": {
            "gridcolor": "white",
            "linecolor": "white",
            "ticks": ""
           },
           "bgcolor": "#E5ECF6",
           "radialaxis": {
            "gridcolor": "white",
            "linecolor": "white",
            "ticks": ""
           }
          },
          "scene": {
           "xaxis": {
            "backgroundcolor": "#E5ECF6",
            "gridcolor": "white",
            "gridwidth": 2,
            "linecolor": "white",
            "showbackground": true,
            "ticks": "",
            "zerolinecolor": "white"
           },
           "yaxis": {
            "backgroundcolor": "#E5ECF6",
            "gridcolor": "white",
            "gridwidth": 2,
            "linecolor": "white",
            "showbackground": true,
            "ticks": "",
            "zerolinecolor": "white"
           },
           "zaxis": {
            "backgroundcolor": "#E5ECF6",
            "gridcolor": "white",
            "gridwidth": 2,
            "linecolor": "white",
            "showbackground": true,
            "ticks": "",
            "zerolinecolor": "white"
           }
          },
          "shapedefaults": {
           "line": {
            "color": "#2a3f5f"
           }
          },
          "ternary": {
           "aaxis": {
            "gridcolor": "white",
            "linecolor": "white",
            "ticks": ""
           },
           "baxis": {
            "gridcolor": "white",
            "linecolor": "white",
            "ticks": ""
           },
           "bgcolor": "#E5ECF6",
           "caxis": {
            "gridcolor": "white",
            "linecolor": "white",
            "ticks": ""
           }
          },
          "title": {
           "x": 0.05
          },
          "xaxis": {
           "automargin": true,
           "gridcolor": "white",
           "linecolor": "white",
           "ticks": "",
           "title": {
            "standoff": 15
           },
           "zerolinecolor": "white",
           "zerolinewidth": 2
          },
          "yaxis": {
           "automargin": true,
           "gridcolor": "white",
           "linecolor": "white",
           "ticks": "",
           "title": {
            "standoff": 15
           },
           "zerolinecolor": "white",
           "zerolinewidth": 2
          }
         }
        }
       }
      }
     },
     "metadata": {}
    }
   ],
   "source": [
    "univ_fig = go.Figure(data=[go.Table(\n",
    "    header=dict(values=list(univ.columns),\n",
    "                fill_color='paleturquoise',\n",
    "                align='center'),\n",
    "    cells=dict(values=[univ.iloc[:,i] for i in range(22)],\n",
    "               fill_color='lavender',\n",
    "               align='left'))\n",
    "])\n",
    "\n",
    "univ_fig.show()"
   ]
  },
  {
   "cell_type": "code",
   "execution_count": 45,
   "metadata": {},
   "outputs": [
    {
     "output_type": "execute_result",
     "data": {
      "text/plain": [
       "'{\"data\":[{\"cells\":{\"align\":\"left\",\"fill\":{\"color\":\"lavender\"},\"values\":[[\"\\\\uace0\\\\ub824\\\\ub300\",\"\\\\uc11c\\\\uc6b8\\\\ub300\",\"\\\\uc5f0\\\\uc138\\\\ub300\",\"\\\\uacbd\\\\ud76c\\\\ub300\",\"\\\\ud55c\\\\uc591\\\\ub300\",\"\\\\uc11c\\\\uac15\\\\ub300\",\"\\\\uc774\\\\ud654\\\\uc5ec\\\\uc790\\\\ub300\",\"\\\\ucda9\\\\ub0a8\\\\ub300\",\"\\\\uc131\\\\uade0\\\\uad00\\\\ub300\",\"\\\\uc804\\\\ub0a8\\\\ub300\",\"\\\\ub3d9\\\\uad6d\\\\ub300\",\"\\\\ubd80\\\\uc0b0\\\\ub300\",\"\\\\uc804\\\\ubd81\\\\ub300\",\"\\\\uc911\\\\uc559\\\\ub300\",\"\\\\uc544\\\\uc8fc\\\\ub300\",\"\\\\uc870\\\\uc120\\\\ub300\",\"\\\\uac74\\\\uad6d\\\\ub300\",\"\\\\uacbd\\\\ubd81\\\\ub300\",\"\\\\uc778\\\\ud558\\\\ub300\",\"\\\\uc601\\\\ub0a8\\\\ub300\",\"\\\\uad6d\\\\ubbfc\\\\ub300\",\"\\\\ub2e8\\\\uad6d\\\\ub300\",\"\\\\ud55c\\\\uad6d\\\\uc678\\\\uad6d\\\\uc5b4\\\\ub300\",\"\\\\ud55c\\\\ub0a8\\\\ub300\",\"\\\\uacbd\\\\uc6d0\\\\ub300\",\"\\\\ucc3d\\\\uc6d0\\\\ub300\",\"\\\\ub300\\\\uc804\\\\ub300\",\"\\\\uc11c\\\\uc6b8\\\\uc2dc\\\\ub9bd\\\\ub300\",\"\\\\ubd80\\\\uacbd\\\\ub300\",\"\\\\uc131\\\\uc2e0\\\\uc5ec\\\\uc790\\\\ub300\",\"\\\\uac15\\\\uc6d0\\\\ub300\",\"\\\\uacbd\\\\uc0c1\\\\ub300\",\"\\\\uc22d\\\\uc2e4\\\\ub300\",\"\\\\ub3d9\\\\uc544\\\\ub300\",\"\\\\uc219\\\\uba85\\\\uc5ec\\\\uc790\\\\ub300\",\"\\\\uacbd\\\\ub0a8\\\\ub300\",\"\\\\ub3d9\\\\ub355\\\\uc5ec\\\\uc790\\\\ub300\",\"\\\\uc911\\\\ubd80\\\\ub300\",\"\\\\uccad\\\\uc8fc\\\\ub300\",\"\\\\uacf5\\\\uc8fc\\\\ub300\",\"\\\\ub300\\\\uad6c\\\\uac00\\\\ud1a8\\\\ub9ad\\\\ub300\",\"\\\\ucda9\\\\ubd81\\\\ub300\",\"\\\\ud55c\\\\ub9bc\\\\ub300\",\"\\\\ud64d\\\\uc775\\\\ub300\",\"\\\\uac00\\\\ucc9c\\\\ub300\",\"\\\\uacbd\\\\uc131\\\\ub300\",\"\\\\ub300\\\\uad6c\\\\ub300\",\"\\\\uc138\\\\uc885\\\\ub300\",\"\\\\uc6b0\\\\uc11d\\\\ub300\",\"\\\\uba85\\\\uc9c0\\\\ub300\",\"\\\\ubaa9\\\\ud3ec\\\\ub300\",\"\\\\ubc30\\\\uc7ac\\\\ub300\",\"\\\\uc6b8\\\\uc0b0\\\\ub300\",\"\\\\uc6d0\\\\uad11\\\\ub300\",\"\\\\uc778\\\\uc81c\\\\ub300\",\"\\\\uac00\\\\ud1a8\\\\ub9ad\\\\ub300\",\"\\\\uacbd\\\\uae30\\\\ub300\",\"\\\\uac15\\\\ub989\\\\uc6d0\\\\uc8fc\\\\ub300\",\"\\\\ub3d9\\\\uc758\\\\ub300\",\"\\\\ubaa9\\\\uc6d0\\\\ub300\",\"\\\\uc0c1\\\\uc9c0\\\\ub300\",\"\\\\uc11c\\\\uc6b8\\\\uc5ec\\\\uc790\\\\ub300\",\"\\\\uc81c\\\\uc8fc\\\\ub300\",\"\\\\ud55c\\\\uc131\\\\ub300\",\"\\\\uacc4\\\\uba85\\\\ub300\",\"\\\\uc0c1\\\\uba85\\\\ub300\",\"\\\\uc218\\\\uc6d0\\\\ub300\",\"\\\\uc21c\\\\ucc9c\\\\ub300\",\"\\\\uc778\\\\ucc9c\\\\ub300\",\"\\\\uc804\\\\uc8fc\\\\ub300\",\"\\\\ud55c\\\\uad6d\\\\ud559\\\\uc911\\\\uc559\\\\uc5f0\\\\uad6c\\\\uc6d0\",\"\\\\uac15\\\\ub989\\\\ub300\",\"\\\\uad00\\\\ub3d9\\\\ub300\",\"\\\\uc120\\\\ubb38\\\\ub300\",\"\\\\uac15\\\\ub0a8\\\\ub300\",\"\\\\uacbd\\\\uc0b0\\\\ub300\\\\uad6c\\\\ub300\",\"\\\\uad11\\\\uc6b4\\\\ub300\",\"\\\\ubc31\\\\uc11d\\\\ub300\",\"\\\\uc548\\\\ub3d9\\\\ub300\",\"\\\\ucd1d\\\\ud569\\\\uacc4\"],[6.0,6.0,3.0,1.0,5.0,4.0,2.0,0.0,4.0,1.0,0.0,3.0,1.0,2.0,2.0,2.0,1.0,2.0,0.0,0.0,0.0,2.0,2.0,0.0,0.0,0.0,3.0,1.0,0.0,1.0,0.0,0.0,0.0,2.0,1.0,1.0,1.0,0.0,2.0,0.0,1.0,1.0,1.0,0.0,0.0,0.0,1.0,2.0,1.0,1.0,0.0,0.0,0.0,0.0,0.0,0.0,0.0,0.0,0.0,0.0,0.0,1.0,0.0,0.0,0.0,0.0,0.0,0.0,0.0,1.0,0.0,0.0,0.0,0.0,0.0,0.0,0.0,0.0,0.0,71.0],[6.0,4.0,1.0,2.0,6.0,8.0,2.0,3.0,8.0,3.0,0.0,0.0,2.0,0.0,0.0,1.0,2.0,1.0,2.0,1.0,1.0,4.0,0.0,0.0,0.0,1.0,1.0,0.0,0.0,0.0,0.0,1.0,0.0,0.0,0.0,1.0,1.0,0.0,2.0,0.0,2.0,0.0,0.0,0.0,0.0,0.0,0.0,0.0,1.0,2.0,0.0,0.0,0.0,0.0,0.0,0.0,0.0,0.0,0.0,0.0,1.0,1.0,0.0,0.0,0.0,0.0,0.0,0.0,0.0,0.0,0.0,0.0,0.0,0.0,0.0,0.0,0.0,0.0,0.0,71.0],[16.0,9.0,5.0,0.0,2.0,3.0,7.0,3.0,9.0,3.0,3.0,5.0,1.0,2.0,0.0,2.0,2.0,2.0,2.0,0.0,0.0,2.0,1.0,2.0,1.0,0.0,0.0,0.0,0.0,0.0,0.0,2.0,0.0,0.0,2.0,3.0,0.0,0.0,0.0,0.0,0.0,0.0,0.0,0.0,0.0,0.0,2.0,0.0,3.0,1.0,0.0,0.0,0.0,0.0,0.0,0.0,1.0,0.0,0.0,0.0,0.0,0.0,0.0,0.0,1.0,0.0,0.0,0.0,0.0,1.0,0.0,0.0,0.0,0.0,0.0,1.0,0.0,0.0,0.0,99.0],[5.0,9.0,9.0,6.0,5.0,6.0,1.0,0.0,0.0,3.0,1.0,3.0,1.0,3.0,2.0,0.0,1.0,1.0,7.0,1.0,0.0,4.0,3.0,1.0,3.0,2.0,1.0,2.0,0.0,2.0,0.0,1.0,2.0,5.0,0.0,0.0,3.0,0.0,0.0,0.0,0.0,0.0,1.0,0.0,0.0,0.0,0.0,1.0,0.0,2.0,0.0,0.0,0.0,1.0,0.0,1.0,0.0,0.0,0.0,0.0,0.0,0.0,3.0,0.0,0.0,0.0,0.0,0.0,0.0,1.0,0.0,0.0,0.0,0.0,0.0,0.0,0.0,0.0,0.0,103.0],[2.0,8.0,1.0,1.0,1.0,2.0,3.0,3.0,6.0,0.0,1.0,1.0,3.0,2.0,2.0,4.0,5.0,0.0,2.0,1.0,3.0,0.0,0.0,0.0,0.0,1.0,3.0,1.0,0.0,1.0,0.0,0.0,0.0,0.0,0.0,2.0,0.0,0.0,0.0,0.0,0.0,1.0,2.0,0.0,0.0,1.0,0.0,0.0,0.0,0.0,0.0,0.0,0.0,1.0,0.0,3.0,0.0,0.0,1.0,0.0,0.0,0.0,0.0,0.0,0.0,1.0,1.0,0.0,0.0,0.0,0.0,0.0,0.0,0.0,0.0,0.0,0.0,0.0,0.0,70.0],[17.0,10.0,1.0,5.0,2.0,3.0,4.0,1.0,4.0,1.0,0.0,4.0,0.0,1.0,3.0,2.0,0.0,4.0,1.0,0.0,0.0,2.0,1.0,1.0,1.0,3.0,0.0,0.0,0.0,3.0,2.0,0.0,0.0,2.0,1.0,0.0,2.0,0.0,0.0,1.0,1.0,0.0,2.0,1.0,0.0,0.0,2.0,0.0,0.0,0.0,0.0,0.0,0.0,0.0,0.0,1.0,1.0,0.0,0.0,0.0,0.0,1.0,0.0,0.0,0.0,0.0,0.0,0.0,0.0,0.0,0.0,0.0,0.0,0.0,0.0,0.0,0.0,0.0,0.0,91.0],[12.0,6.0,5.0,2.0,0.0,1.0,0.0,1.0,7.0,4.0,5.0,1.0,1.0,3.0,0.0,2.0,0.0,2.0,0.0,1.0,2.0,1.0,1.0,2.0,3.0,3.0,0.0,0.0,0.0,1.0,1.0,1.0,3.0,1.0,1.0,0.0,0.0,1.0,1.0,0.0,1.0,0.0,1.0,0.0,0.0,0.0,0.0,0.0,0.0,0.0,0.0,0.0,1.0,0.0,0.0,0.0,0.0,0.0,1.0,0.0,1.0,0.0,1.0,0.0,0.0,0.0,0.0,0.0,0.0,0.0,0.0,0.0,1.0,0.0,0.0,0.0,0.0,0.0,0.0,82.0],[9.0,9.0,1.0,2.0,0.0,3.0,1.0,2.0,3.0,1.0,2.0,1.0,1.0,0.0,0.0,1.0,1.0,0.0,3.0,3.0,0.0,1.0,2.0,0.0,0.0,1.0,0.0,1.0,0.0,2.0,1.0,0.0,0.0,1.0,0.0,2.0,2.0,1.0,0.0,0.0,1.0,2.0,0.0,0.0,0.0,1.0,0.0,0.0,0.0,0.0,0.0,1.0,0.0,0.0,0.0,0.0,0.0,0.0,2.0,0.0,0.0,0.0,0.0,1.0,0.0,0.0,0.0,0.0,0.0,0.0,0.0,0.0,0.0,0.0,0.0,0.0,0.0,0.0,0.0,65.0],[6.0,7.0,4.0,4.0,0.0,3.0,0.0,2.0,2.0,5.0,3.0,4.0,0.0,2.0,1.0,2.0,0.0,3.0,0.0,4.0,1.0,1.0,1.0,1.0,4.0,1.0,2.0,0.0,2.0,1.0,0.0,2.0,2.0,0.0,1.0,1.0,1.0,1.0,0.0,0.0,0.0,0.0,0.0,0.0,0.0,0.0,0.0,2.0,1.0,0.0,0.0,0.0,0.0,0.0,0.0,0.0,0.0,0.0,0.0,1.0,0.0,0.0,0.0,1.0,0.0,1.0,0.0,0.0,1.0,0.0,0.0,1.0,0.0,0.0,0.0,0.0,0.0,0.0,0.0,82.0],[7.0,3.0,6.0,2.0,4.0,2.0,4.0,1.0,0.0,3.0,1.0,0.0,1.0,1.0,3.0,0.0,2.0,0.0,2.0,0.0,5.0,0.0,1.0,2.0,1.0,4.0,0.0,1.0,1.0,0.0,1.0,1.0,1.0,0.0,2.0,1.0,0.0,0.0,1.0,1.0,0.0,1.0,1.0,0.0,0.0,0.0,1.0,0.0,0.0,0.0,1.0,0.0,0.0,1.0,2.0,0.0,1.0,0.0,0.0,2.0,0.0,0.0,0.0,1.0,0.0,1.0,0.0,0.0,0.0,0.0,1.0,1.0,0.0,0.0,0.0,0.0,0.0,0.0,0.0,79.0],[12.0,6.0,7.0,4.0,2.0,0.0,6.0,3.0,2.0,1.0,0.0,0.0,1.0,3.0,0.0,0.0,1.0,3.0,2.0,1.0,4.0,1.0,0.0,1.0,3.0,1.0,1.0,0.0,0.0,3.0,1.0,1.0,3.0,0.0,0.0,0.0,0.0,1.0,1.0,0.0,0.0,0.0,0.0,2.0,0.0,0.0,0.0,1.0,0.0,0.0,1.0,0.0,1.0,0.0,0.0,0.0,2.0,0.0,0.0,0.0,0.0,0.0,0.0,1.0,0.0,0.0,0.0,0.0,0.0,0.0,0.0,0.0,0.0,0.0,0.0,0.0,0.0,1.0,0.0,84.0],[14.0,6.0,11.0,7.0,4.0,2.0,5.0,3.0,0.0,1.0,2.0,3.0,2.0,1.0,0.0,2.0,3.0,1.0,0.0,3.0,0.0,0.0,0.0,1.0,3.0,0.0,1.0,0.0,0.0,1.0,1.0,0.0,1.0,1.0,0.0,0.0,0.0,0.0,1.0,0.0,0.0,1.0,0.0,0.0,0.0,1.0,0.0,0.0,0.0,0.0,0.0,0.0,0.0,0.0,0.0,0.0,0.0,0.0,0.0,1.0,0.0,0.0,0.0,0.0,0.0,0.0,0.0,0.0,1.0,0.0,0.0,0.0,0.0,0.0,0.0,0.0,0.0,0.0,0.0,84.0],[12.0,10.0,3.0,9.0,2.0,2.0,4.0,4.0,0.0,6.0,3.0,1.0,0.0,1.0,1.0,1.0,2.0,0.0,2.0,3.0,1.0,0.0,1.0,0.0,0.0,0.0,0.0,0.0,2.0,0.0,0.0,2.0,0.0,0.0,0.0,0.0,1.0,2.0,0.0,0.0,1.0,0.0,0.0,0.0,1.0,0.0,0.0,1.0,0.0,0.0,0.0,3.0,0.0,1.0,0.0,0.0,0.0,0.0,0.0,0.0,0.0,0.0,0.0,0.0,0.0,0.0,0.0,0.0,1.0,0.0,0.0,0.0,1.0,0.0,0.0,0.0,0.0,0.0,0.0,84.0],[7.0,6.0,1.0,3.0,5.0,2.0,3.0,6.0,1.0,0.0,3.0,1.0,6.0,1.0,0.0,3.0,3.0,1.0,3.0,0.0,0.0,2.0,2.0,0.0,0.0,0.0,1.0,1.0,2.0,0.0,2.0,0.0,0.0,1.0,1.0,0.0,0.0,1.0,1.0,0.0,0.0,1.0,0.0,0.0,1.0,0.0,0.0,0.0,0.0,0.0,0.0,1.0,1.0,0.0,1.0,0.0,0.0,0.0,0.0,0.0,0.0,0.0,0.0,0.0,1.0,0.0,0.0,0.0,0.0,0.0,0.0,0.0,0.0,0.0,0.0,0.0,0.0,0.0,0.0,75.0],[2.0,8.0,1.0,5.0,4.0,1.0,3.0,6.0,2.0,0.0,4.0,1.0,6.0,2.0,3.0,1.0,1.0,0.0,1.0,1.0,2.0,0.0,1.0,1.0,0.0,0.0,4.0,2.0,3.0,0.0,4.0,0.0,0.0,0.0,0.0,0.0,0.0,0.0,0.0,2.0,0.0,1.0,0.0,2.0,2.0,0.0,0.0,0.0,1.0,0.0,1.0,1.0,1.0,1.0,0.0,0.0,0.0,0.0,0.0,0.0,1.0,0.0,0.0,0.0,1.0,0.0,1.0,0.0,0.0,0.0,0.0,0.0,0.0,0.0,0.0,0.0,0.0,0.0,0.0,84.0],[3.0,6.0,2.0,2.0,3.0,3.0,4.0,4.0,0.0,1.0,3.0,1.0,0.0,0.0,2.0,0.0,1.0,1.0,0.0,0.0,1.0,0.0,1.0,4.0,0.0,0.0,0.0,3.0,1.0,1.0,0.0,0.0,0.0,0.0,3.0,0.0,0.0,0.0,1.0,3.0,1.0,0.0,0.0,1.0,0.0,3.0,1.0,0.0,0.0,0.0,1.0,0.0,0.0,0.0,2.0,0.0,0.0,0.0,0.0,0.0,0.0,0.0,0.0,0.0,0.0,0.0,0.0,0.0,0.0,0.0,0.0,0.0,0.0,2.0,0.0,0.0,0.0,0.0,0.0,65.0],[3.0,9.0,3.0,4.0,3.0,6.0,1.0,3.0,1.0,5.0,2.0,2.0,1.0,0.0,1.0,1.0,0.0,1.0,0.0,0.0,0.0,0.0,0.0,2.0,0.0,0.0,0.0,1.0,1.0,0.0,1.0,0.0,0.0,0.0,0.0,0.0,0.0,2.0,0.0,1.0,1.0,1.0,0.0,1.0,2.0,1.0,0.0,0.0,0.0,0.0,0.0,0.0,1.0,0.0,0.0,0.0,0.0,0.0,0.0,0.0,1.0,1.0,0.0,0.0,0.0,0.0,0.0,1.0,0.0,0.0,0.0,0.0,0.0,0.0,1.0,0.0,0.0,0.0,0.0,65.0],[5.0,12.0,0.0,2.0,2.0,1.0,0.0,3.0,1.0,1.0,3.0,0.0,3.0,1.0,5.0,2.0,0.0,3.0,0.0,1.0,0.0,0.0,2.0,1.0,0.0,1.0,0.0,0.0,2.0,0.0,1.0,2.0,0.0,0.0,0.0,0.0,0.0,1.0,0.0,1.0,0.0,0.0,0.0,0.0,0.0,0.0,0.0,0.0,0.0,0.0,0.0,0.0,1.0,0.0,1.0,0.0,0.0,1.0,0.0,0.0,0.0,0.0,0.0,0.0,0.0,0.0,1.0,0.0,0.0,0.0,2.0,0.0,0.0,0.0,0.0,0.0,0.0,0.0,0.0,62.0],[9.0,4.0,1.0,1.0,4.0,1.0,3.0,3.0,3.0,4.0,0.0,2.0,1.0,0.0,1.0,1.0,0.0,1.0,0.0,0.0,0.0,0.0,1.0,1.0,0.0,0.0,0.0,0.0,1.0,0.0,0.0,1.0,1.0,0.0,1.0,0.0,0.0,1.0,0.0,0.0,1.0,1.0,0.0,1.0,1.0,0.0,0.0,0.0,0.0,0.0,2.0,0.0,0.0,0.0,0.0,0.0,0.0,2.0,0.0,0.0,0.0,0.0,0.0,0.0,0.0,0.0,0.0,1.0,0.0,0.0,0.0,0.0,0.0,0.0,0.0,0.0,0.0,0.0,0.0,55.0],[2.0,6.0,1.0,3.0,5.0,3.0,3.0,3.0,0.0,2.0,4.0,1.0,0.0,4.0,2.0,1.0,2.0,1.0,0.0,1.0,0.0,0.0,0.0,0.0,0.0,0.0,0.0,4.0,1.0,0.0,0.0,0.0,1.0,0.0,0.0,0.0,0.0,0.0,1.0,1.0,0.0,0.0,0.0,0.0,0.0,0.0,0.0,0.0,0.0,0.0,0.0,0.0,0.0,1.0,0.0,0.0,0.0,1.0,0.0,0.0,0.0,0.0,0.0,0.0,0.0,0.0,0.0,1.0,0.0,0.0,0.0,0.0,0.0,0.0,0.0,0.0,1.0,0.0,1.0,57.0],[155,144,66,65,59,56,56,54,53,45,40,34,31,29,28,28,27,27,27,21,20,20,20,20,19,18,17,17,16,16,15,14,14,13,13,11,11,11,11,10,10,10,8,8,7,7,7,7,7,6,6,6,6,6,6,5,5,4,4,4,4,4,4,4,3,3,3,3,3,3,3,2,2,2,1,1,1,1,1,1528]]},\"header\":{\"align\":\"center\",\"fill\":{\"color\":\"paleturquoise\"},\"values\":[\"\\\\ub300\\\\ud559\",2000,2001,2002,2003,2004,2005,2006,2007,2008,2009,2010,2011,2012,2013,2014,2015,2016,2017,2018,2019,\"\\\\ucd1d\\\\ud569\\\\uacc4\"]},\"type\":\"table\"}],\"layout\":{\"template\":{\"data\":{\"bar\":[{\"error_x\":{\"color\":\"#2a3f5f\"},\"error_y\":{\"color\":\"#2a3f5f\"},\"marker\":{\"line\":{\"color\":\"#E5ECF6\",\"width\":0.5}},\"type\":\"bar\"}],\"barpolar\":[{\"marker\":{\"line\":{\"color\":\"#E5ECF6\",\"width\":0.5}},\"type\":\"barpolar\"}],\"carpet\":[{\"aaxis\":{\"endlinecolor\":\"#2a3f5f\",\"gridcolor\":\"white\",\"linecolor\":\"white\",\"minorgridcolor\":\"white\",\"startlinecolor\":\"#2a3f5f\"},\"baxis\":{\"endlinecolor\":\"#2a3f5f\",\"gridcolor\":\"white\",\"linecolor\":\"white\",\"minorgridcolor\":\"white\",\"startlinecolor\":\"#2a3f5f\"},\"type\":\"carpet\"}],\"choropleth\":[{\"colorbar\":{\"outlinewidth\":0,\"ticks\":\"\"},\"type\":\"choropleth\"}],\"contour\":[{\"colorbar\":{\"outlinewidth\":0,\"ticks\":\"\"},\"colorscale\":[[0.0,\"#0d0887\"],[0.1111111111111111,\"#46039f\"],[0.2222222222222222,\"#7201a8\"],[0.3333333333333333,\"#9c179e\"],[0.4444444444444444,\"#bd3786\"],[0.5555555555555556,\"#d8576b\"],[0.6666666666666666,\"#ed7953\"],[0.7777777777777778,\"#fb9f3a\"],[0.8888888888888888,\"#fdca26\"],[1.0,\"#f0f921\"]],\"type\":\"contour\"}],\"contourcarpet\":[{\"colorbar\":{\"outlinewidth\":0,\"ticks\":\"\"},\"type\":\"contourcarpet\"}],\"heatmap\":[{\"colorbar\":{\"outlinewidth\":0,\"ticks\":\"\"},\"colorscale\":[[0.0,\"#0d0887\"],[0.1111111111111111,\"#46039f\"],[0.2222222222222222,\"#7201a8\"],[0.3333333333333333,\"#9c179e\"],[0.4444444444444444,\"#bd3786\"],[0.5555555555555556,\"#d8576b\"],[0.6666666666666666,\"#ed7953\"],[0.7777777777777778,\"#fb9f3a\"],[0.8888888888888888,\"#fdca26\"],[1.0,\"#f0f921\"]],\"type\":\"heatmap\"}],\"heatmapgl\":[{\"colorbar\":{\"outlinewidth\":0,\"ticks\":\"\"},\"colorscale\":[[0.0,\"#0d0887\"],[0.1111111111111111,\"#46039f\"],[0.2222222222222222,\"#7201a8\"],[0.3333333333333333,\"#9c179e\"],[0.4444444444444444,\"#bd3786\"],[0.5555555555555556,\"#d8576b\"],[0.6666666666666666,\"#ed7953\"],[0.7777777777777778,\"#fb9f3a\"],[0.8888888888888888,\"#fdca26\"],[1.0,\"#f0f921\"]],\"type\":\"heatmapgl\"}],\"histogram\":[{\"marker\":{\"colorbar\":{\"outlinewidth\":0,\"ticks\":\"\"}},\"type\":\"histogram\"}],\"histogram2d\":[{\"colorbar\":{\"outlinewidth\":0,\"ticks\":\"\"},\"colorscale\":[[0.0,\"#0d0887\"],[0.1111111111111111,\"#46039f\"],[0.2222222222222222,\"#7201a8\"],[0.3333333333333333,\"#9c179e\"],[0.4444444444444444,\"#bd3786\"],[0.5555555555555556,\"#d8576b\"],[0.6666666666666666,\"#ed7953\"],[0.7777777777777778,\"#fb9f3a\"],[0.8888888888888888,\"#fdca26\"],[1.0,\"#f0f921\"]],\"type\":\"histogram2d\"}],\"histogram2dcontour\":[{\"colorbar\":{\"outlinewidth\":0,\"ticks\":\"\"},\"colorscale\":[[0.0,\"#0d0887\"],[0.1111111111111111,\"#46039f\"],[0.2222222222222222,\"#7201a8\"],[0.3333333333333333,\"#9c179e\"],[0.4444444444444444,\"#bd3786\"],[0.5555555555555556,\"#d8576b\"],[0.6666666666666666,\"#ed7953\"],[0.7777777777777778,\"#fb9f3a\"],[0.8888888888888888,\"#fdca26\"],[1.0,\"#f0f921\"]],\"type\":\"histogram2dcontour\"}],\"mesh3d\":[{\"colorbar\":{\"outlinewidth\":0,\"ticks\":\"\"},\"type\":\"mesh3d\"}],\"parcoords\":[{\"line\":{\"colorbar\":{\"outlinewidth\":0,\"ticks\":\"\"}},\"type\":\"parcoords\"}],\"pie\":[{\"automargin\":true,\"type\":\"pie\"}],\"scatter\":[{\"marker\":{\"colorbar\":{\"outlinewidth\":0,\"ticks\":\"\"}},\"type\":\"scatter\"}],\"scatter3d\":[{\"line\":{\"colorbar\":{\"outlinewidth\":0,\"ticks\":\"\"}},\"marker\":{\"colorbar\":{\"outlinewidth\":0,\"ticks\":\"\"}},\"type\":\"scatter3d\"}],\"scattercarpet\":[{\"marker\":{\"colorbar\":{\"outlinewidth\":0,\"ticks\":\"\"}},\"type\":\"scattercarpet\"}],\"scattergeo\":[{\"marker\":{\"colorbar\":{\"outlinewidth\":0,\"ticks\":\"\"}},\"type\":\"scattergeo\"}],\"scattergl\":[{\"marker\":{\"colorbar\":{\"outlinewidth\":0,\"ticks\":\"\"}},\"type\":\"scattergl\"}],\"scattermapbox\":[{\"marker\":{\"colorbar\":{\"outlinewidth\":0,\"ticks\":\"\"}},\"type\":\"scattermapbox\"}],\"scatterpolar\":[{\"marker\":{\"colorbar\":{\"outlinewidth\":0,\"ticks\":\"\"}},\"type\":\"scatterpolar\"}],\"scatterpolargl\":[{\"marker\":{\"colorbar\":{\"outlinewidth\":0,\"ticks\":\"\"}},\"type\":\"scatterpolargl\"}],\"scatterternary\":[{\"marker\":{\"colorbar\":{\"outlinewidth\":0,\"ticks\":\"\"}},\"type\":\"scatterternary\"}],\"surface\":[{\"colorbar\":{\"outlinewidth\":0,\"ticks\":\"\"},\"colorscale\":[[0.0,\"#0d0887\"],[0.1111111111111111,\"#46039f\"],[0.2222222222222222,\"#7201a8\"],[0.3333333333333333,\"#9c179e\"],[0.4444444444444444,\"#bd3786\"],[0.5555555555555556,\"#d8576b\"],[0.6666666666666666,\"#ed7953\"],[0.7777777777777778,\"#fb9f3a\"],[0.8888888888888888,\"#fdca26\"],[1.0,\"#f0f921\"]],\"type\":\"surface\"}],\"table\":[{\"cells\":{\"fill\":{\"color\":\"#EBF0F8\"},\"line\":{\"color\":\"white\"}},\"header\":{\"fill\":{\"color\":\"#C8D4E3\"},\"line\":{\"color\":\"white\"}},\"type\":\"table\"}]},\"layout\":{\"annotationdefaults\":{\"arrowcolor\":\"#2a3f5f\",\"arrowhead\":0,\"arrowwidth\":1},\"autotypenumbers\":\"strict\",\"coloraxis\":{\"colorbar\":{\"outlinewidth\":0,\"ticks\":\"\"}},\"colorscale\":{\"diverging\":[[0,\"#8e0152\"],[0.1,\"#c51b7d\"],[0.2,\"#de77ae\"],[0.3,\"#f1b6da\"],[0.4,\"#fde0ef\"],[0.5,\"#f7f7f7\"],[0.6,\"#e6f5d0\"],[0.7,\"#b8e186\"],[0.8,\"#7fbc41\"],[0.9,\"#4d9221\"],[1,\"#276419\"]],\"sequential\":[[0.0,\"#0d0887\"],[0.1111111111111111,\"#46039f\"],[0.2222222222222222,\"#7201a8\"],[0.3333333333333333,\"#9c179e\"],[0.4444444444444444,\"#bd3786\"],[0.5555555555555556,\"#d8576b\"],[0.6666666666666666,\"#ed7953\"],[0.7777777777777778,\"#fb9f3a\"],[0.8888888888888888,\"#fdca26\"],[1.0,\"#f0f921\"]],\"sequentialminus\":[[0.0,\"#0d0887\"],[0.1111111111111111,\"#46039f\"],[0.2222222222222222,\"#7201a8\"],[0.3333333333333333,\"#9c179e\"],[0.4444444444444444,\"#bd3786\"],[0.5555555555555556,\"#d8576b\"],[0.6666666666666666,\"#ed7953\"],[0.7777777777777778,\"#fb9f3a\"],[0.8888888888888888,\"#fdca26\"],[1.0,\"#f0f921\"]]},\"colorway\":[\"#636efa\",\"#EF553B\",\"#00cc96\",\"#ab63fa\",\"#FFA15A\",\"#19d3f3\",\"#FF6692\",\"#B6E880\",\"#FF97FF\",\"#FECB52\"],\"font\":{\"color\":\"#2a3f5f\"},\"geo\":{\"bgcolor\":\"white\",\"lakecolor\":\"white\",\"landcolor\":\"#E5ECF6\",\"showlakes\":true,\"showland\":true,\"subunitcolor\":\"white\"},\"hoverlabel\":{\"align\":\"left\"},\"hovermode\":\"closest\",\"mapbox\":{\"style\":\"light\"},\"paper_bgcolor\":\"white\",\"plot_bgcolor\":\"#E5ECF6\",\"polar\":{\"angularaxis\":{\"gridcolor\":\"white\",\"linecolor\":\"white\",\"ticks\":\"\"},\"bgcolor\":\"#E5ECF6\",\"radialaxis\":{\"gridcolor\":\"white\",\"linecolor\":\"white\",\"ticks\":\"\"}},\"scene\":{\"xaxis\":{\"backgroundcolor\":\"#E5ECF6\",\"gridcolor\":\"white\",\"gridwidth\":2,\"linecolor\":\"white\",\"showbackground\":true,\"ticks\":\"\",\"zerolinecolor\":\"white\"},\"yaxis\":{\"backgroundcolor\":\"#E5ECF6\",\"gridcolor\":\"white\",\"gridwidth\":2,\"linecolor\":\"white\",\"showbackground\":true,\"ticks\":\"\",\"zerolinecolor\":\"white\"},\"zaxis\":{\"backgroundcolor\":\"#E5ECF6\",\"gridcolor\":\"white\",\"gridwidth\":2,\"linecolor\":\"white\",\"showbackground\":true,\"ticks\":\"\",\"zerolinecolor\":\"white\"}},\"shapedefaults\":{\"line\":{\"color\":\"#2a3f5f\"}},\"ternary\":{\"aaxis\":{\"gridcolor\":\"white\",\"linecolor\":\"white\",\"ticks\":\"\"},\"baxis\":{\"gridcolor\":\"white\",\"linecolor\":\"white\",\"ticks\":\"\"},\"bgcolor\":\"#E5ECF6\",\"caxis\":{\"gridcolor\":\"white\",\"linecolor\":\"white\",\"ticks\":\"\"}},\"title\":{\"x\":0.05},\"xaxis\":{\"automargin\":true,\"gridcolor\":\"white\",\"linecolor\":\"white\",\"ticks\":\"\",\"title\":{\"standoff\":15},\"zerolinecolor\":\"white\",\"zerolinewidth\":2},\"yaxis\":{\"automargin\":true,\"gridcolor\":\"white\",\"linecolor\":\"white\",\"ticks\":\"\",\"title\":{\"standoff\":15},\"zerolinecolor\":\"white\",\"zerolinewidth\":2}}}}}'"
      ]
     },
     "metadata": {},
     "execution_count": 45
    }
   ],
   "source": [
    "univ_fig.to_json()"
   ]
  },
  {
   "cell_type": "code",
   "execution_count": 46,
   "metadata": {},
   "outputs": [
    {
     "output_type": "execute_result",
     "data": {
      "text/plain": [
       "0       고려대\n",
       "1       서울대\n",
       "2       연세대\n",
       "3       경희대\n",
       "4       한양대\n",
       "      ...  \n",
       "75    경산대구대\n",
       "76      광운대\n",
       "77      백석대\n",
       "78      안동대\n",
       "79      총합계\n",
       "Name: 대학, Length: 80, dtype: object"
      ]
     },
     "metadata": {},
     "execution_count": 46
    }
   ],
   "source": [
    "univ['대학'].to_list()"
   ]
  }
 ]
}