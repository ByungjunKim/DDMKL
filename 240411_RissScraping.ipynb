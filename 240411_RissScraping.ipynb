{
  "cells": [
    {
      "cell_type": "markdown",
      "metadata": {
        "id": "view-in-github",
        "colab_type": "text"
      },
      "source": [
        "<a href=\"https://colab.research.google.com/github/ByungjunKim/DDMKL/blob/main/240411_RissScraping.ipynb\" target=\"_parent\"><img src=\"https://colab.research.google.com/assets/colab-badge.svg\" alt=\"Open In Colab\"/></a>"
      ]
    },
    {
      "cell_type": "markdown",
      "metadata": {
        "id": "aKPb-TfGi29i"
      },
      "source": [
        "# RISS에서 학위 논문 데이터 수집하기"
      ]
    },
    {
      "cell_type": "code",
      "execution_count": null,
      "metadata": {
        "id": "KxSbHFz2i29m"
      },
      "outputs": [],
      "source": [
        "import requests\n",
        "import math\n",
        "import pickle\n",
        "import time\n",
        "import sys\n",
        "import pandas as pd\n",
        "from tqdm.notebook import tqdm\n",
        "from random import uniform\n",
        "import lxml\n",
        "import lxml.etree as et\n",
        "from bs4 import BeautifulSoup\n",
        "import glob\n",
        "import urllib3\n",
        "urllib3.disable_warnings()\n",
        "from natsort import natsorted\n",
        "import re"
      ]
    },
    {
      "cell_type": "code",
      "execution_count": null,
      "metadata": {
        "id": "5rbwZa3ai29n"
      },
      "outputs": [],
      "source": [
        "headers = {\n",
        "    \"User-Agent\": \"Mozilla/5.0 (Windows NT 10.0; Win64; x64) AppleWebKit/537.36 (KHTML, like Gecko) Chrome/100.0.0.0 Safari/537.36\",\n",
        "    \"Accept\": \"text/html,application/xhtml+xml,application/xml;q=0.9,image/avif,image/webp,image/apng,*/*;q=0.8,application/signed-exchange;v=b3;q=0.9\",\n",
        "    \"Accept-Language\": \"en-US,en;q=0.9\",\n",
        "    \"Accept-Encoding\": \"gzip, deflate, br\",\n",
        "    \"Connection\": \"keep-alive\",\n",
        "    \"DNT\": \"1\", # Do Not Track 요청 헤더 (사용자 추적 거부)\n",
        "    # 필요한 추가 헤더를 여기에 추가\n",
        "}"
      ]
    },
    {
      "cell_type": "code",
      "execution_count": null,
      "metadata": {
        "id": "4i_BvShVi29o"
      },
      "outputs": [],
      "source": [
        "def request_until_success(url, headers, timeout=5, delay=2):\n",
        "    \"\"\"\n",
        "    Continuously makes a request to the specified URL with a timeout until the request is successful.\n",
        "\n",
        "    Args:\n",
        "    - url (str): The URL to request.\n",
        "    - timeout (int): The timeout for the request in seconds.\n",
        "    - delay (int): The delay between retries in seconds.\n",
        "\n",
        "    Returns:\n",
        "    - response: The successful response from the server.\n",
        "    \"\"\"\n",
        "    attempt = 1\n",
        "    while True:\n",
        "        try:\n",
        "            # print(f\"Attempt {attempt}\")\n",
        "            response = requests.get(url,headers=headers, timeout=timeout)\n",
        "            response.raise_for_status()  # Raises HTTPError for bad responses\n",
        "            # print(\"Request successful\")\n",
        "            return response\n",
        "        except requests.Timeout as e:\n",
        "            print(f\"Request timed out: {e}\")\n",
        "        except requests.RequestException as e:\n",
        "            print(f\"Request failed: {e}\")\n",
        "\n",
        "        # print(f\"Retrying in {delay} seconds...\")\n",
        "        time.sleep(delay)\n",
        "        attempt += 1"
      ]
    },
    {
      "cell_type": "markdown",
      "metadata": {
        "id": "p3tSAUiZi29o"
      },
      "source": [
        "### 검색 조건에 맞는 URL 설정\n",
        "학과정보 : 국어국문 OR 국문  \n",
        "학위수여연도 : 2000~2023  \n",
        "학위유형 : 국내박사  \n",
        "https://www.riss.kr/search/Search.do?isDetailSearch=Y&searchGubun=true&viewYn=OP&queryText=znMajor%2C%EA%B5%AD%EC%96%B4%EA%B5%AD%EB%AC%B8%40op%2COR%40znMajor%2C%EA%B5%AD%EB%AC%B8&strQuery=&exQuery=&exQueryText=&order=%2FDESC&onHanja=false&strSort=RANK&p_year1=2000&p_year2=2023&iStartCount=0&orderBy=&mat_type=&mat_subtype=T2&fulltext_kind=&t_gubun=&learning_type=&ccl_code=&inside_outside=&fric_yn=&db_type=&image_yn=&gubun=&kdc=&ttsUseYn=&l_sub_code=&fsearchMethod=search&sflag=1&isFDetailSearch=N&pageNumber=1&resultKeyword=&fsearchSort=&fsearchOrder=&limiterList=&limiterListText=&facetList=&facetListText=&fsearchDB=&icate=bib_t&colName=bib_t&pageScale=100&isTab=Y&regnm=&dorg_storage=&language=&language_code=&clickKeyword=&relationKeyword=&query="
      ]
    },
    {
      "cell_type": "code",
      "execution_count": null,
      "metadata": {
        "id": "srdiA03Bi29p"
      },
      "outputs": [],
      "source": [
        "url = 'https://www.riss.kr/search/Search.do?isDetailSearch=Y&searchGubun=true&viewYn=OP&queryText=znMajor%2C%EA%B5%AD%EC%96%B4%EA%B5%AD%EB%AC%B8%40op%2COR%40znMajor%2C%EA%B5%AD%EB%AC%B8&strQuery=&exQuery=&exQueryText=&order=%2FDESC&onHanja=false&strSort=RANK&p_year1=2000&p_year2=2023&iStartCount=0&orderBy=&mat_type=&mat_subtype=T2&fulltext_kind=&t_gubun=&learning_type=&ccl_code=&inside_outside=&fric_yn=&db_type=&image_yn=&gubun=&kdc=&ttsUseYn=&l_sub_code=&fsearchMethod=search&sflag=1&isFDetailSearch=N&pageNumber=1&resultKeyword=&fsearchSort=&fsearchOrder=&limiterList=&limiterListText=&facetList=&facetListText=&fsearchDB=&icate=bib_t&colName=bib_t&pageScale=100&isTab=Y&regnm=&dorg_storage=&language=&language_code=&clickKeyword=&relationKeyword=&query='"
      ]
    },
    {
      "cell_type": "code",
      "execution_count": null,
      "metadata": {
        "id": "oe3nXAWEi29p"
      },
      "outputs": [],
      "source": [
        "req = request_until_success(url,headers).text"
      ]
    },
    {
      "cell_type": "code",
      "execution_count": null,
      "metadata": {
        "id": "1d1cQAy5i29p"
      },
      "outputs": [],
      "source": [
        "soup = BeautifulSoup(req, 'lxml')"
      ]
    },
    {
      "cell_type": "code",
      "execution_count": null,
      "metadata": {
        "id": "x9WusU93i29q"
      },
      "outputs": [],
      "source": [
        "cont_ml60_classes = soup.find_all('div', class_='cont ml60')\n",
        "\n",
        "data = [{\n",
        "    'title': cont_ml60.find('p', class_='title').get_text(strip=True) if cont_ml60.find('p', class_='title') else None,\n",
        "    'link': cont_ml60.find('p', class_='title').find('a').get('href') if cont_ml60.find('p', class_='title') and cont_ml60.find('p', class_='title').find('a') else None,\n",
        "    'writer': cont_ml60.find('p', class_='etc').find_all('span')[0].get_text(strip=True) if cont_ml60.find('p', class_='etc') and len(cont_ml60.find('p', class_='etc').find_all('span')) > 0 else None,\n",
        "    'assigned': cont_ml60.find('p', class_='etc').find_all('span')[1].get_text(strip=True) if cont_ml60.find('p', class_='etc') and len(cont_ml60.find('p', class_='etc').find_all('span')) > 1 else None,\n",
        "    'year': cont_ml60.find('p', class_='etc').find_all('span')[2].get_text(strip=True) if cont_ml60.find('p', class_='etc') and len(cont_ml60.find('p', class_='etc').find_all('span')) > 2 else None,\n",
        "    'grad': cont_ml60.find('p', class_='etc').find_all('span')[3].get_text(strip=True) if cont_ml60.find('p', class_='etc') and len(cont_ml60.find('p', class_='etc').find_all('span')) > 3 else None,\n",
        "    'preAbstract': cont_ml60.find('p', class_='preAbstract').get_text(strip=True) if cont_ml60.find('p', class_='preAbstract') else None\n",
        "} for cont_ml60 in cont_ml60_classes]"
      ]
    },
    {
      "cell_type": "code",
      "execution_count": null,
      "metadata": {
        "id": "NGeKfAYmi29q"
      },
      "outputs": [],
      "source": [
        "data"
      ]
    },
    {
      "cell_type": "markdown",
      "metadata": {
        "id": "JKkXlcz4i29q"
      },
      "source": [
        "### 기본 정보 자동으로 수집하기"
      ]
    },
    {
      "cell_type": "code",
      "execution_count": null,
      "metadata": {
        "id": "WZxFFDr1i29r"
      },
      "outputs": [],
      "source": [
        "# Assuming 'soup' is your BeautifulSoup object\n",
        "num_span = soup.find('span', class_='num')\n",
        "\n",
        "if num_span is not None:\n",
        "    total_count = int(num_span.get_text().replace(',', ''))\n",
        "else:\n",
        "    total_count = 0\n",
        "\n",
        "total_count"
      ]
    },
    {
      "cell_type": "code",
      "execution_count": null,
      "metadata": {
        "id": "K5hjtbDUi29r"
      },
      "outputs": [],
      "source": [
        "# The base URL without the 'iStartCount' parameter\n",
        "base_url = \"https://www.riss.kr/search/Search.do?isDetailSearch=Y&searchGubun=true&viewYn=OP&queryText=znMajor,국어국문@op,OR@znMajor,국문&strQuery=&exQuery=&exQueryText=&order=/DESC&onHanja=false&strSort=RANK&p_year1=2000&p_year2=2023&orderBy=&mat_type=&mat_subtype=T2&fulltext_kind=&t_gubun=&learning_type=&ccl_code=&inside_outside=&fric_yn=&db_type=&image_yn=&gubun=&kdc=&ttsUseYn=&l_sub_code=&fsearchMethod=search&sflag=1&isFDetailSearch=N&pageNumber=1&resultKeyword=&fsearchSort=&fsearchOrder=&limiterList=&limiterListText=&facetList=&facetListText=&fsearchDB=&icate=bib_t&colName=bib_t&pageScale=100&isTab=Y&regnm=&dorg_storage=&language=&language_code=&clickKeyword=&relationKeyword=&query=\"\n",
        "\n",
        "# Calculate the number of iterations\n",
        "iterations = math.ceil(total_count / 100)\n",
        "\n",
        "# Initialize an empty list to store the data\n",
        "data = []\n",
        "\n",
        "# Loop over the range, incrementing by 100 each time\n",
        "for i in tqdm(range(iterations)):\n",
        "    # Create the URL with the incremented 'iStartCount' parameter\n",
        "    url = f\"{base_url}&iStartCount={i * 100}\"\n",
        "\n",
        "    # Send a GET request to the URL\n",
        "    # response = requests.get(url)\n",
        "    response = request_until_success(url, headers)\n",
        "\n",
        "    # Create a BeautifulSoup object from the response text\n",
        "    soup = BeautifulSoup(response.text, 'html.parser')\n",
        "\n",
        "    # Find all 'div' elements with class 'cont ml60'\n",
        "    cont_ml60_classes = soup.find_all('div', class_='cont ml60')\n",
        "\n",
        "    # Extract the data and append it to the list\n",
        "    data.extend([{\n",
        "        'title': cont_ml60.find('p', class_='title').get_text(strip=True) if cont_ml60.find('p', class_='title') else None,\n",
        "        'link': cont_ml60.find('p', class_='title').find('a').get('href') if cont_ml60.find('p', class_='title') and cont_ml60.find('p', class_='title').find('a') else None,\n",
        "        'writer': cont_ml60.find('p', class_='etc').find_all('span')[0].get_text(strip=True) if cont_ml60.find('p', class_='etc') and len(cont_ml60.find('p', class_='etc').find_all('span')) > 0 else None,\n",
        "        'assigned': cont_ml60.find('p', class_='etc').find_all('span')[1].get_text(strip=True) if cont_ml60.find('p', class_='etc') and len(cont_ml60.find('p', class_='etc').find_all('span')) > 1 else None,\n",
        "        'year': cont_ml60.find('p', class_='etc').find_all('span')[2].get_text(strip=True) if cont_ml60.find('p', class_='etc') and len(cont_ml60.find('p', class_='etc').find_all('span')) > 2 else None,\n",
        "        'grad': cont_ml60.find('p', class_='etc').find_all('span')[3].get_text(strip=True) if cont_ml60.find('p', class_='etc') and len(cont_ml60.find('p', class_='etc').find_all('span')) > 3 else None,\n",
        "        'preAbstract': cont_ml60.find('p', class_='preAbstract').get_text(strip=True) if cont_ml60.find('p', class_='preAbstract') else None\n",
        "    } for cont_ml60 in cont_ml60_classes])"
      ]
    },
    {
      "cell_type": "code",
      "execution_count": null,
      "metadata": {
        "id": "uvsYkFL9i29r"
      },
      "outputs": [],
      "source": [
        "df = pd.DataFrame(data)\n",
        "df"
      ]
    },
    {
      "cell_type": "markdown",
      "metadata": {
        "id": "z-gd4GhLi29r"
      },
      "source": [
        "### 논문별 상세정보 수집하기 (작업 중)"
      ]
    },
    {
      "cell_type": "code",
      "execution_count": null,
      "metadata": {
        "id": "ORQvvqOci29r"
      },
      "outputs": [],
      "source": [
        "df['link'] = 'https://www.riss.kr' + df['link']\n",
        "df['link']"
      ]
    },
    {
      "cell_type": "code",
      "execution_count": null,
      "metadata": {
        "id": "uze3_30ci29s"
      },
      "outputs": [],
      "source": [
        "df['link'][0]"
      ]
    },
    {
      "cell_type": "code",
      "execution_count": null,
      "metadata": {
        "id": "gEdaF478i29s"
      },
      "outputs": [],
      "source": [
        "req = request_until_success(df['link'][0],headers).text\n",
        "soup = BeautifulSoup(req, 'lxml')\n",
        "soup"
      ]
    },
    {
      "cell_type": "code",
      "execution_count": null,
      "metadata": {
        "id": "9sjyvQZri29s"
      },
      "outputs": [],
      "source": [
        "headers = {\n",
        "    \"Accept\": \"text/html,application/xhtml+xml,application/xml;q=0.9,image/avif,image/webp,image/apng,*/*;q=0.8,application/signed-exchange;v=b3;q=0.7\",\n",
        "    \"Accept-Encoding\": \"gzip, deflate, br, zstd\",\n",
        "    \"Accept-Language\": \"ko-KR,ko;q=0.9,en-US;q=0.8,en;q=0.7,ja;q=0.6\",\n",
        "    \"Connection\": \"keep-alive\",\n",
        "    \"Cookie\": \"Your Cookie Here\",\n",
        "    \"Host\": \"www.riss.kr\",\n",
        "    \"Referer\": df['link'][0],\n",
        "    \"Sec-Fetch-Dest\": \"document\",\n",
        "    \"Sec-Fetch-Mode\": \"navigate\",\n",
        "    \"Sec-Fetch-Site\": \"same-origin\",\n",
        "    \"Upgrade-Insecure-Requests\": \"1\",\n",
        "    \"User-Agent\": \"Mozilla/5.0 (Windows NT 10.0; Win64; x64) AppleWebKit/537.36 (KHTML, like Gecko) Chrome/123.0.0.0 Safari/537.36\",\n",
        "    \"sec-ch-ua\": '\"Google Chrome\";v=\"123\", \"Not:A-Brand\";v=\"8\", \"Chromium\";v=\"123\"',\n",
        "    \"sec-ch-ua-mobile\": \"?0\",\n",
        "    \"sec-ch-ua-platform\": \"Windows\"\n",
        "}\n",
        "\n",
        "\n",
        "response = requests.get(df['link'][0], headers=headers)"
      ]
    },
    {
      "cell_type": "code",
      "execution_count": null,
      "metadata": {
        "id": "qCYgRweri29s"
      },
      "outputs": [],
      "source": [
        "BeautifulSoup(response.text, 'lxml')"
      ]
    }
  ],
  "metadata": {
    "kernelspec": {
      "display_name": "python311",
      "language": "python",
      "name": "python3"
    },
    "language_info": {
      "codemirror_mode": {
        "name": "ipython",
        "version": 3
      },
      "file_extension": ".py",
      "mimetype": "text/x-python",
      "name": "python",
      "nbconvert_exporter": "python",
      "pygments_lexer": "ipython3",
      "version": "3.11.8"
    },
    "colab": {
      "provenance": [],
      "include_colab_link": true
    }
  },
  "nbformat": 4,
  "nbformat_minor": 0
}